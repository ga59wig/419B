{
 "cells": [
  {
   "cell_type": "code",
   "execution_count": 2,
   "id": "6591a6b9-3b23-4a75-a93e-f5a38c706ab5",
   "metadata": {
    "tags": []
   },
   "outputs": [],
   "source": [
    "####get gedi training data as geopandas df\n",
    "\n",
    "import geopandas as gpd\n",
    "import pandas as pd\n",
    "filename = \"20230125T1201__L2A__subset_saldi_06(1).gpkg\"\n",
    "gdf = gpd.read_file(filename)\n",
    "\n",
    "def classify_gedi(gdf):\n",
    "    gdf_c = gdf.copy()\n",
    "    gdf_c.loc[gdf[\"Relative Height bin98 (cm)\"] <= 300, 'Relative Height bin98 (cm)'] = 300\n",
    "    gdf_c.loc[(gdf[\"Relative Height bin98 (cm)\"] > 300) & (gdf[\"Relative Height bin98 (cm)\"] <= 600), 'Relative Height bin98 (cm)'] = 600\n",
    "    gdf_c.loc[(gdf[\"Relative Height bin98 (cm)\"] > 600) & (gdf[\"Relative Height bin98 (cm)\"] <= 1000), 'Relative Height bin98 (cm)'] = 1000\n",
    "    gdf_c.loc[gdf[\"Relative Height bin98 (cm)\"] > 1000, 'Relative Height bin98 (cm)'] = 10000\n",
    "    gdf = gdf_c.replace({'Relative Height bin98 (cm)' : {300 : '<3 m', 600 : '3 - 6 m', 1000 : '6 - 10 m', 10000 : '> 10 m'}})\n",
    "    return gdf\n",
    "\n",
    "gdf_recl = classify_gedi(gdf=gdf)\n",
    "\n",
    "def leaf_off_subset(gdf):\n",
    "    gdf['Acquisition Time'] = pd.to_datetime(gdf['Acquisition Time'])\n",
    "    gdf = gdf.loc[(gdf[\"Acquisition Time\"].dt.month >= 6) & (gdf[\"Acquisition Time\"].dt.month <= 9), :]\n",
    "    return gdf\n",
    "\n",
    "gdf_recl_lo = leaf_off_subset(gdf=gdf_recl)\n",
    "gdf_lo = leaf_off_subset(gdf=gdf)"
   ]
  },
  {
   "cell_type": "code",
   "execution_count": null,
   "id": "8f69641c-e2dc-4095-af3b-81c5df44a151",
   "metadata": {
    "tags": []
   },
   "outputs": [],
   "source": []
  },
  {
   "cell_type": "code",
   "execution_count": 3,
   "id": "885b3cf4-a879-465e-bf49-a0b0edad3c24",
   "metadata": {
    "tags": []
   },
   "outputs": [],
   "source": [
    "from sdc.load import load_product\n",
    "\n",
    "ds = load_product(product=\"s1_rtc\", vec=\"geo419b_aoi.geojson\", time_range=(\"2019-01-01\", \"2022-01-01\"), apply_mask=False)\n",
    "#ds.vv.values"
   ]
  },
  {
   "cell_type": "code",
   "execution_count": 4,
   "id": "5fcbc647-df86-4dc2-b80a-3920601934bb",
   "metadata": {
    "tags": []
   },
   "outputs": [
    {
     "data": {
      "text/html": [
       "<div><svg style=\"position: absolute; width: 0; height: 0; overflow: hidden\">\n",
       "<defs>\n",
       "<symbol id=\"icon-database\" viewBox=\"0 0 32 32\">\n",
       "<path d=\"M16 0c-8.837 0-16 2.239-16 5v4c0 2.761 7.163 5 16 5s16-2.239 16-5v-4c0-2.761-7.163-5-16-5z\"></path>\n",
       "<path d=\"M16 17c-8.837 0-16-2.239-16-5v6c0 2.761 7.163 5 16 5s16-2.239 16-5v-6c0 2.761-7.163 5-16 5z\"></path>\n",
       "<path d=\"M16 26c-8.837 0-16-2.239-16-5v6c0 2.761 7.163 5 16 5s16-2.239 16-5v-6c0 2.761-7.163 5-16 5z\"></path>\n",
       "</symbol>\n",
       "<symbol id=\"icon-file-text2\" viewBox=\"0 0 32 32\">\n",
       "<path d=\"M28.681 7.159c-0.694-0.947-1.662-2.053-2.724-3.116s-2.169-2.030-3.116-2.724c-1.612-1.182-2.393-1.319-2.841-1.319h-15.5c-1.378 0-2.5 1.121-2.5 2.5v27c0 1.378 1.122 2.5 2.5 2.5h23c1.378 0 2.5-1.122 2.5-2.5v-19.5c0-0.448-0.137-1.23-1.319-2.841zM24.543 5.457c0.959 0.959 1.712 1.825 2.268 2.543h-4.811v-4.811c0.718 0.556 1.584 1.309 2.543 2.268zM28 29.5c0 0.271-0.229 0.5-0.5 0.5h-23c-0.271 0-0.5-0.229-0.5-0.5v-27c0-0.271 0.229-0.5 0.5-0.5 0 0 15.499-0 15.5 0v7c0 0.552 0.448 1 1 1h7v19.5z\"></path>\n",
       "<path d=\"M23 26h-14c-0.552 0-1-0.448-1-1s0.448-1 1-1h14c0.552 0 1 0.448 1 1s-0.448 1-1 1z\"></path>\n",
       "<path d=\"M23 22h-14c-0.552 0-1-0.448-1-1s0.448-1 1-1h14c0.552 0 1 0.448 1 1s-0.448 1-1 1z\"></path>\n",
       "<path d=\"M23 18h-14c-0.552 0-1-0.448-1-1s0.448-1 1-1h14c0.552 0 1 0.448 1 1s-0.448 1-1 1z\"></path>\n",
       "</symbol>\n",
       "</defs>\n",
       "</svg>\n",
       "<style>/* CSS stylesheet for displaying xarray objects in jupyterlab.\n",
       " *\n",
       " */\n",
       "\n",
       ":root {\n",
       "  --xr-font-color0: var(--jp-content-font-color0, rgba(0, 0, 0, 1));\n",
       "  --xr-font-color2: var(--jp-content-font-color2, rgba(0, 0, 0, 0.54));\n",
       "  --xr-font-color3: var(--jp-content-font-color3, rgba(0, 0, 0, 0.38));\n",
       "  --xr-border-color: var(--jp-border-color2, #e0e0e0);\n",
       "  --xr-disabled-color: var(--jp-layout-color3, #bdbdbd);\n",
       "  --xr-background-color: var(--jp-layout-color0, white);\n",
       "  --xr-background-color-row-even: var(--jp-layout-color1, white);\n",
       "  --xr-background-color-row-odd: var(--jp-layout-color2, #eeeeee);\n",
       "}\n",
       "\n",
       "html[theme=dark],\n",
       "body[data-theme=dark],\n",
       "body.vscode-dark {\n",
       "  --xr-font-color0: rgba(255, 255, 255, 1);\n",
       "  --xr-font-color2: rgba(255, 255, 255, 0.54);\n",
       "  --xr-font-color3: rgba(255, 255, 255, 0.38);\n",
       "  --xr-border-color: #1F1F1F;\n",
       "  --xr-disabled-color: #515151;\n",
       "  --xr-background-color: #111111;\n",
       "  --xr-background-color-row-even: #111111;\n",
       "  --xr-background-color-row-odd: #313131;\n",
       "}\n",
       "\n",
       ".xr-wrap {\n",
       "  display: block !important;\n",
       "  min-width: 300px;\n",
       "  max-width: 700px;\n",
       "}\n",
       "\n",
       ".xr-text-repr-fallback {\n",
       "  /* fallback to plain text repr when CSS is not injected (untrusted notebook) */\n",
       "  display: none;\n",
       "}\n",
       "\n",
       ".xr-header {\n",
       "  padding-top: 6px;\n",
       "  padding-bottom: 6px;\n",
       "  margin-bottom: 4px;\n",
       "  border-bottom: solid 1px var(--xr-border-color);\n",
       "}\n",
       "\n",
       ".xr-header > div,\n",
       ".xr-header > ul {\n",
       "  display: inline;\n",
       "  margin-top: 0;\n",
       "  margin-bottom: 0;\n",
       "}\n",
       "\n",
       ".xr-obj-type,\n",
       ".xr-array-name {\n",
       "  margin-left: 2px;\n",
       "  margin-right: 10px;\n",
       "}\n",
       "\n",
       ".xr-obj-type {\n",
       "  color: var(--xr-font-color2);\n",
       "}\n",
       "\n",
       ".xr-sections {\n",
       "  padding-left: 0 !important;\n",
       "  display: grid;\n",
       "  grid-template-columns: 150px auto auto 1fr 20px 20px;\n",
       "}\n",
       "\n",
       ".xr-section-item {\n",
       "  display: contents;\n",
       "}\n",
       "\n",
       ".xr-section-item input {\n",
       "  display: none;\n",
       "}\n",
       "\n",
       ".xr-section-item input + label {\n",
       "  color: var(--xr-disabled-color);\n",
       "}\n",
       "\n",
       ".xr-section-item input:enabled + label {\n",
       "  cursor: pointer;\n",
       "  color: var(--xr-font-color2);\n",
       "}\n",
       "\n",
       ".xr-section-item input:enabled + label:hover {\n",
       "  color: var(--xr-font-color0);\n",
       "}\n",
       "\n",
       ".xr-section-summary {\n",
       "  grid-column: 1;\n",
       "  color: var(--xr-font-color2);\n",
       "  font-weight: 500;\n",
       "}\n",
       "\n",
       ".xr-section-summary > span {\n",
       "  display: inline-block;\n",
       "  padding-left: 0.5em;\n",
       "}\n",
       "\n",
       ".xr-section-summary-in:disabled + label {\n",
       "  color: var(--xr-font-color2);\n",
       "}\n",
       "\n",
       ".xr-section-summary-in + label:before {\n",
       "  display: inline-block;\n",
       "  content: '►';\n",
       "  font-size: 11px;\n",
       "  width: 15px;\n",
       "  text-align: center;\n",
       "}\n",
       "\n",
       ".xr-section-summary-in:disabled + label:before {\n",
       "  color: var(--xr-disabled-color);\n",
       "}\n",
       "\n",
       ".xr-section-summary-in:checked + label:before {\n",
       "  content: '▼';\n",
       "}\n",
       "\n",
       ".xr-section-summary-in:checked + label > span {\n",
       "  display: none;\n",
       "}\n",
       "\n",
       ".xr-section-summary,\n",
       ".xr-section-inline-details {\n",
       "  padding-top: 4px;\n",
       "  padding-bottom: 4px;\n",
       "}\n",
       "\n",
       ".xr-section-inline-details {\n",
       "  grid-column: 2 / -1;\n",
       "}\n",
       "\n",
       ".xr-section-details {\n",
       "  display: none;\n",
       "  grid-column: 1 / -1;\n",
       "  margin-bottom: 5px;\n",
       "}\n",
       "\n",
       ".xr-section-summary-in:checked ~ .xr-section-details {\n",
       "  display: contents;\n",
       "}\n",
       "\n",
       ".xr-array-wrap {\n",
       "  grid-column: 1 / -1;\n",
       "  display: grid;\n",
       "  grid-template-columns: 20px auto;\n",
       "}\n",
       "\n",
       ".xr-array-wrap > label {\n",
       "  grid-column: 1;\n",
       "  vertical-align: top;\n",
       "}\n",
       "\n",
       ".xr-preview {\n",
       "  color: var(--xr-font-color3);\n",
       "}\n",
       "\n",
       ".xr-array-preview,\n",
       ".xr-array-data {\n",
       "  padding: 0 5px !important;\n",
       "  grid-column: 2;\n",
       "}\n",
       "\n",
       ".xr-array-data,\n",
       ".xr-array-in:checked ~ .xr-array-preview {\n",
       "  display: none;\n",
       "}\n",
       "\n",
       ".xr-array-in:checked ~ .xr-array-data,\n",
       ".xr-array-preview {\n",
       "  display: inline-block;\n",
       "}\n",
       "\n",
       ".xr-dim-list {\n",
       "  display: inline-block !important;\n",
       "  list-style: none;\n",
       "  padding: 0 !important;\n",
       "  margin: 0;\n",
       "}\n",
       "\n",
       ".xr-dim-list li {\n",
       "  display: inline-block;\n",
       "  padding: 0;\n",
       "  margin: 0;\n",
       "}\n",
       "\n",
       ".xr-dim-list:before {\n",
       "  content: '(';\n",
       "}\n",
       "\n",
       ".xr-dim-list:after {\n",
       "  content: ')';\n",
       "}\n",
       "\n",
       ".xr-dim-list li:not(:last-child):after {\n",
       "  content: ',';\n",
       "  padding-right: 5px;\n",
       "}\n",
       "\n",
       ".xr-has-index {\n",
       "  font-weight: bold;\n",
       "}\n",
       "\n",
       ".xr-var-list,\n",
       ".xr-var-item {\n",
       "  display: contents;\n",
       "}\n",
       "\n",
       ".xr-var-item > div,\n",
       ".xr-var-item label,\n",
       ".xr-var-item > .xr-var-name span {\n",
       "  background-color: var(--xr-background-color-row-even);\n",
       "  margin-bottom: 0;\n",
       "}\n",
       "\n",
       ".xr-var-item > .xr-var-name:hover span {\n",
       "  padding-right: 5px;\n",
       "}\n",
       "\n",
       ".xr-var-list > li:nth-child(odd) > div,\n",
       ".xr-var-list > li:nth-child(odd) > label,\n",
       ".xr-var-list > li:nth-child(odd) > .xr-var-name span {\n",
       "  background-color: var(--xr-background-color-row-odd);\n",
       "}\n",
       "\n",
       ".xr-var-name {\n",
       "  grid-column: 1;\n",
       "}\n",
       "\n",
       ".xr-var-dims {\n",
       "  grid-column: 2;\n",
       "}\n",
       "\n",
       ".xr-var-dtype {\n",
       "  grid-column: 3;\n",
       "  text-align: right;\n",
       "  color: var(--xr-font-color2);\n",
       "}\n",
       "\n",
       ".xr-var-preview {\n",
       "  grid-column: 4;\n",
       "}\n",
       "\n",
       ".xr-index-preview {\n",
       "  grid-column: 2 / 5;\n",
       "  color: var(--xr-font-color2);\n",
       "}\n",
       "\n",
       ".xr-var-name,\n",
       ".xr-var-dims,\n",
       ".xr-var-dtype,\n",
       ".xr-preview,\n",
       ".xr-attrs dt {\n",
       "  white-space: nowrap;\n",
       "  overflow: hidden;\n",
       "  text-overflow: ellipsis;\n",
       "  padding-right: 10px;\n",
       "}\n",
       "\n",
       ".xr-var-name:hover,\n",
       ".xr-var-dims:hover,\n",
       ".xr-var-dtype:hover,\n",
       ".xr-attrs dt:hover {\n",
       "  overflow: visible;\n",
       "  width: auto;\n",
       "  z-index: 1;\n",
       "}\n",
       "\n",
       ".xr-var-attrs,\n",
       ".xr-var-data,\n",
       ".xr-index-data {\n",
       "  display: none;\n",
       "  background-color: var(--xr-background-color) !important;\n",
       "  padding-bottom: 5px !important;\n",
       "}\n",
       "\n",
       ".xr-var-attrs-in:checked ~ .xr-var-attrs,\n",
       ".xr-var-data-in:checked ~ .xr-var-data,\n",
       ".xr-index-data-in:checked ~ .xr-index-data {\n",
       "  display: block;\n",
       "}\n",
       "\n",
       ".xr-var-data > table {\n",
       "  float: right;\n",
       "}\n",
       "\n",
       ".xr-var-name span,\n",
       ".xr-var-data,\n",
       ".xr-index-name div,\n",
       ".xr-index-data,\n",
       ".xr-attrs {\n",
       "  padding-left: 25px !important;\n",
       "}\n",
       "\n",
       ".xr-attrs,\n",
       ".xr-var-attrs,\n",
       ".xr-var-data,\n",
       ".xr-index-data {\n",
       "  grid-column: 1 / -1;\n",
       "}\n",
       "\n",
       "dl.xr-attrs {\n",
       "  padding: 0;\n",
       "  margin: 0;\n",
       "  display: grid;\n",
       "  grid-template-columns: 125px auto;\n",
       "}\n",
       "\n",
       ".xr-attrs dt,\n",
       ".xr-attrs dd {\n",
       "  padding: 0;\n",
       "  margin: 0;\n",
       "  float: left;\n",
       "  padding-right: 10px;\n",
       "  width: auto;\n",
       "}\n",
       "\n",
       ".xr-attrs dt {\n",
       "  font-weight: normal;\n",
       "  grid-column: 1;\n",
       "}\n",
       "\n",
       ".xr-attrs dt:hover span {\n",
       "  display: inline-block;\n",
       "  background: var(--xr-background-color);\n",
       "  padding-right: 10px;\n",
       "}\n",
       "\n",
       ".xr-attrs dd {\n",
       "  grid-column: 2;\n",
       "  white-space: pre-wrap;\n",
       "  word-break: break-all;\n",
       "}\n",
       "\n",
       ".xr-icon-database,\n",
       ".xr-icon-file-text2,\n",
       ".xr-no-icon {\n",
       "  display: inline-block;\n",
       "  vertical-align: middle;\n",
       "  width: 1em;\n",
       "  height: 1.5em !important;\n",
       "  stroke-width: 0;\n",
       "  stroke: currentColor;\n",
       "  fill: currentColor;\n",
       "}\n",
       "</style><pre class='xr-text-repr-fallback'>&lt;xarray.DataArray &#x27;vv&#x27; (time: 258, latitude: 1336, longitude: 1854)&gt;\n",
       "dask.array&lt;vv, shape=(258, 1336, 1854), dtype=float32, chunksize=(258, 510, 510), chunktype=numpy.ndarray&gt;\n",
       "Coordinates:\n",
       "  * latitude     (latitude) float64 -25.0 -25.0 -25.0 ... -25.27 -25.27 -25.27\n",
       "  * longitude    (longitude) float64 31.27 31.27 31.27 ... 31.64 31.64 31.64\n",
       "    spatial_ref  int32 4326\n",
       "  * time         (time) datetime64[ns] 2019-01-06T03:18:46.924630 ... 2021-12...</pre><div class='xr-wrap' style='display:none'><div class='xr-header'><div class='xr-obj-type'>xarray.DataArray</div><div class='xr-array-name'>'vv'</div><ul class='xr-dim-list'><li><span class='xr-has-index'>time</span>: 258</li><li><span class='xr-has-index'>latitude</span>: 1336</li><li><span class='xr-has-index'>longitude</span>: 1854</li></ul></div><ul class='xr-sections'><li class='xr-section-item'><div class='xr-array-wrap'><input id='section-78fbef4e-7100-4b91-aa15-922b8b5bc1bd' class='xr-array-in' type='checkbox' checked><label for='section-78fbef4e-7100-4b91-aa15-922b8b5bc1bd' title='Show/hide data repr'><svg class='icon xr-icon-database'><use xlink:href='#icon-database'></use></svg></label><div class='xr-array-preview xr-preview'><span>dask.array&lt;chunksize=(258, 510, 510), meta=np.ndarray&gt;</span></div><div class='xr-array-data'><table>\n",
       "    <tr>\n",
       "        <td>\n",
       "            <table style=\"border-collapse: collapse;\">\n",
       "                <thead>\n",
       "                    <tr>\n",
       "                        <td> </td>\n",
       "                        <th> Array </th>\n",
       "                        <th> Chunk </th>\n",
       "                    </tr>\n",
       "                </thead>\n",
       "                <tbody>\n",
       "                    \n",
       "                    <tr>\n",
       "                        <th> Bytes </th>\n",
       "                        <td> 2.38 GiB </td>\n",
       "                        <td> 255.99 MiB </td>\n",
       "                    </tr>\n",
       "                    \n",
       "                    <tr>\n",
       "                        <th> Shape </th>\n",
       "                        <td> (258, 1336, 1854) </td>\n",
       "                        <td> (258, 510, 510) </td>\n",
       "                    </tr>\n",
       "                    <tr>\n",
       "                        <th> Dask graph </th>\n",
       "                        <td colspan=\"2\"> 12 chunks in 1 graph layer </td>\n",
       "                    </tr>\n",
       "                    <tr>\n",
       "                        <th> Data type </th>\n",
       "                        <td colspan=\"2\"> float32 numpy.ndarray </td>\n",
       "                    </tr>\n",
       "                </tbody>\n",
       "            </table>\n",
       "        </td>\n",
       "        <td>\n",
       "        <svg width=\"203\" height=\"160\" style=\"stroke:rgb(0,0,0);stroke-width:1\" >\n",
       "\n",
       "  <!-- Horizontal lines -->\n",
       "  <line x1=\"10\" y1=\"0\" x2=\"33\" y2=\"23\" style=\"stroke-width:2\" />\n",
       "  <line x1=\"10\" y1=\"33\" x2=\"33\" y2=\"56\" />\n",
       "  <line x1=\"10\" y1=\"66\" x2=\"33\" y2=\"89\" />\n",
       "  <line x1=\"10\" y1=\"86\" x2=\"33\" y2=\"110\" style=\"stroke-width:2\" />\n",
       "\n",
       "  <!-- Vertical lines -->\n",
       "  <line x1=\"10\" y1=\"0\" x2=\"10\" y2=\"86\" style=\"stroke-width:2\" />\n",
       "  <line x1=\"33\" y1=\"23\" x2=\"33\" y2=\"110\" style=\"stroke-width:2\" />\n",
       "\n",
       "  <!-- Colored Rectangle -->\n",
       "  <polygon points=\"10.0,0.0 33.72859433096787,23.728594330967873 33.72859433096787,110.20108624035299 10.0,86.47249190938511\" style=\"fill:#ECB172A0;stroke-width:0\"/>\n",
       "\n",
       "  <!-- Horizontal lines -->\n",
       "  <line x1=\"10\" y1=\"0\" x2=\"130\" y2=\"0\" style=\"stroke-width:2\" />\n",
       "  <line x1=\"33\" y1=\"23\" x2=\"153\" y2=\"23\" style=\"stroke-width:2\" />\n",
       "\n",
       "  <!-- Vertical lines -->\n",
       "  <line x1=\"10\" y1=\"0\" x2=\"33\" y2=\"23\" style=\"stroke-width:2\" />\n",
       "  <line x1=\"43\" y1=\"0\" x2=\"66\" y2=\"23\" />\n",
       "  <line x1=\"76\" y1=\"0\" x2=\"99\" y2=\"23\" />\n",
       "  <line x1=\"109\" y1=\"0\" x2=\"132\" y2=\"23\" />\n",
       "  <line x1=\"130\" y1=\"0\" x2=\"153\" y2=\"23\" style=\"stroke-width:2\" />\n",
       "\n",
       "  <!-- Colored Rectangle -->\n",
       "  <polygon points=\"10.0,0.0 130.0,0.0 153.72859433096787,23.728594330967873 33.72859433096787,23.728594330967873\" style=\"fill:#ECB172A0;stroke-width:0\"/>\n",
       "\n",
       "  <!-- Horizontal lines -->\n",
       "  <line x1=\"33\" y1=\"23\" x2=\"153\" y2=\"23\" style=\"stroke-width:2\" />\n",
       "  <line x1=\"33\" y1=\"56\" x2=\"153\" y2=\"56\" />\n",
       "  <line x1=\"33\" y1=\"89\" x2=\"153\" y2=\"89\" />\n",
       "  <line x1=\"33\" y1=\"110\" x2=\"153\" y2=\"110\" style=\"stroke-width:2\" />\n",
       "\n",
       "  <!-- Vertical lines -->\n",
       "  <line x1=\"33\" y1=\"23\" x2=\"33\" y2=\"110\" style=\"stroke-width:2\" />\n",
       "  <line x1=\"66\" y1=\"23\" x2=\"66\" y2=\"110\" />\n",
       "  <line x1=\"99\" y1=\"23\" x2=\"99\" y2=\"110\" />\n",
       "  <line x1=\"132\" y1=\"23\" x2=\"132\" y2=\"110\" />\n",
       "  <line x1=\"153\" y1=\"23\" x2=\"153\" y2=\"110\" style=\"stroke-width:2\" />\n",
       "\n",
       "  <!-- Colored Rectangle -->\n",
       "  <polygon points=\"33.72859433096787,23.728594330967873 153.72859433096787,23.728594330967873 153.72859433096787,110.20108624035299 33.72859433096787,110.20108624035299\" style=\"fill:#ECB172A0;stroke-width:0\"/>\n",
       "\n",
       "  <!-- Text -->\n",
       "  <text x=\"93.728594\" y=\"130.201086\" font-size=\"1.0rem\" font-weight=\"100\" text-anchor=\"middle\" >1854</text>\n",
       "  <text x=\"173.728594\" y=\"66.964840\" font-size=\"1.0rem\" font-weight=\"100\" text-anchor=\"middle\" transform=\"rotate(-90,173.728594,66.964840)\">1336</text>\n",
       "  <text x=\"11.864297\" y=\"118.336789\" font-size=\"1.0rem\" font-weight=\"100\" text-anchor=\"middle\" transform=\"rotate(45,11.864297,118.336789)\">258</text>\n",
       "</svg>\n",
       "        </td>\n",
       "    </tr>\n",
       "</table></div></div></li><li class='xr-section-item'><input id='section-3c769c9c-5daf-4cb3-a64c-f551fd16bb30' class='xr-section-summary-in' type='checkbox'  checked><label for='section-3c769c9c-5daf-4cb3-a64c-f551fd16bb30' class='xr-section-summary' >Coordinates: <span>(4)</span></label><div class='xr-section-inline-details'></div><div class='xr-section-details'><ul class='xr-var-list'><li class='xr-var-item'><div class='xr-var-name'><span class='xr-has-index'>latitude</span></div><div class='xr-var-dims'>(latitude)</div><div class='xr-var-dtype'>float64</div><div class='xr-var-preview xr-preview'>-25.0 -25.0 -25.0 ... -25.27 -25.27</div><input id='attrs-b5faee38-d0d4-420b-87c9-9d5eaaabf334' class='xr-var-attrs-in' type='checkbox' ><label for='attrs-b5faee38-d0d4-420b-87c9-9d5eaaabf334' title='Show/Hide attributes'><svg class='icon xr-icon-file-text2'><use xlink:href='#icon-file-text2'></use></svg></label><input id='data-3a26695f-8ef8-40a9-b310-9b31ad71e643' class='xr-var-data-in' type='checkbox'><label for='data-3a26695f-8ef8-40a9-b310-9b31ad71e643' title='Show/Hide data repr'><svg class='icon xr-icon-database'><use xlink:href='#icon-database'></use></svg></label><div class='xr-var-attrs'><dl class='xr-attrs'><dt><span>units :</span></dt><dd>degrees_north</dd><dt><span>resolution :</span></dt><dd>-0.0002</dd><dt><span>crs :</span></dt><dd>EPSG:4326</dd></dl></div><div class='xr-var-data'><pre>array([-25.0041, -25.0043, -25.0045, ..., -25.2707, -25.2709, -25.2711])</pre></div></li><li class='xr-var-item'><div class='xr-var-name'><span class='xr-has-index'>longitude</span></div><div class='xr-var-dims'>(longitude)</div><div class='xr-var-dtype'>float64</div><div class='xr-var-preview xr-preview'>31.27 31.27 31.27 ... 31.64 31.64</div><input id='attrs-28c31629-067e-432a-a315-a268c5420cfa' class='xr-var-attrs-in' type='checkbox' ><label for='attrs-28c31629-067e-432a-a315-a268c5420cfa' title='Show/Hide attributes'><svg class='icon xr-icon-file-text2'><use xlink:href='#icon-file-text2'></use></svg></label><input id='data-00f419eb-681a-42f2-8cea-10c7ff70f163' class='xr-var-data-in' type='checkbox'><label for='data-00f419eb-681a-42f2-8cea-10c7ff70f163' title='Show/Hide data repr'><svg class='icon xr-icon-database'><use xlink:href='#icon-database'></use></svg></label><div class='xr-var-attrs'><dl class='xr-attrs'><dt><span>units :</span></dt><dd>degrees_east</dd><dt><span>resolution :</span></dt><dd>0.0002</dd><dt><span>crs :</span></dt><dd>EPSG:4326</dd></dl></div><div class='xr-var-data'><pre>array([31.2725, 31.2727, 31.2729, ..., 31.6427, 31.6429, 31.6431])</pre></div></li><li class='xr-var-item'><div class='xr-var-name'><span>spatial_ref</span></div><div class='xr-var-dims'>()</div><div class='xr-var-dtype'>int32</div><div class='xr-var-preview xr-preview'>4326</div><input id='attrs-fdc7fa85-8e45-4910-9c0f-50412216c7ae' class='xr-var-attrs-in' type='checkbox' ><label for='attrs-fdc7fa85-8e45-4910-9c0f-50412216c7ae' title='Show/Hide attributes'><svg class='icon xr-icon-file-text2'><use xlink:href='#icon-file-text2'></use></svg></label><input id='data-a3267174-2b35-4cf5-be4e-f4fcdac0e179' class='xr-var-data-in' type='checkbox'><label for='data-a3267174-2b35-4cf5-be4e-f4fcdac0e179' title='Show/Hide data repr'><svg class='icon xr-icon-database'><use xlink:href='#icon-database'></use></svg></label><div class='xr-var-attrs'><dl class='xr-attrs'><dt><span>spatial_ref :</span></dt><dd>GEOGCRS[&quot;WGS 84&quot;,ENSEMBLE[&quot;World Geodetic System 1984 ensemble&quot;,MEMBER[&quot;World Geodetic System 1984 (Transit)&quot;],MEMBER[&quot;World Geodetic System 1984 (G730)&quot;],MEMBER[&quot;World Geodetic System 1984 (G873)&quot;],MEMBER[&quot;World Geodetic System 1984 (G1150)&quot;],MEMBER[&quot;World Geodetic System 1984 (G1674)&quot;],MEMBER[&quot;World Geodetic System 1984 (G1762)&quot;],MEMBER[&quot;World Geodetic System 1984 (G2139)&quot;],ELLIPSOID[&quot;WGS 84&quot;,6378137,298.257223563,LENGTHUNIT[&quot;metre&quot;,1]],ENSEMBLEACCURACY[2.0]],PRIMEM[&quot;Greenwich&quot;,0,ANGLEUNIT[&quot;degree&quot;,0.0174532925199433]],CS[ellipsoidal,2],AXIS[&quot;geodetic latitude (Lat)&quot;,north,ORDER[1],ANGLEUNIT[&quot;degree&quot;,0.0174532925199433]],AXIS[&quot;geodetic longitude (Lon)&quot;,east,ORDER[2],ANGLEUNIT[&quot;degree&quot;,0.0174532925199433]],USAGE[SCOPE[&quot;Horizontal component of 3D system.&quot;],AREA[&quot;World.&quot;],BBOX[-90,-180,90,180]],ID[&quot;EPSG&quot;,4326]]</dd><dt><span>crs_wkt :</span></dt><dd>GEOGCRS[&quot;WGS 84&quot;,ENSEMBLE[&quot;World Geodetic System 1984 ensemble&quot;,MEMBER[&quot;World Geodetic System 1984 (Transit)&quot;],MEMBER[&quot;World Geodetic System 1984 (G730)&quot;],MEMBER[&quot;World Geodetic System 1984 (G873)&quot;],MEMBER[&quot;World Geodetic System 1984 (G1150)&quot;],MEMBER[&quot;World Geodetic System 1984 (G1674)&quot;],MEMBER[&quot;World Geodetic System 1984 (G1762)&quot;],MEMBER[&quot;World Geodetic System 1984 (G2139)&quot;],ELLIPSOID[&quot;WGS 84&quot;,6378137,298.257223563,LENGTHUNIT[&quot;metre&quot;,1]],ENSEMBLEACCURACY[2.0]],PRIMEM[&quot;Greenwich&quot;,0,ANGLEUNIT[&quot;degree&quot;,0.0174532925199433]],CS[ellipsoidal,2],AXIS[&quot;geodetic latitude (Lat)&quot;,north,ORDER[1],ANGLEUNIT[&quot;degree&quot;,0.0174532925199433]],AXIS[&quot;geodetic longitude (Lon)&quot;,east,ORDER[2],ANGLEUNIT[&quot;degree&quot;,0.0174532925199433]],USAGE[SCOPE[&quot;Horizontal component of 3D system.&quot;],AREA[&quot;World.&quot;],BBOX[-90,-180,90,180]],ID[&quot;EPSG&quot;,4326]]</dd><dt><span>semi_major_axis :</span></dt><dd>6378137.0</dd><dt><span>semi_minor_axis :</span></dt><dd>6356752.314245179</dd><dt><span>inverse_flattening :</span></dt><dd>298.257223563</dd><dt><span>reference_ellipsoid_name :</span></dt><dd>WGS 84</dd><dt><span>longitude_of_prime_meridian :</span></dt><dd>0.0</dd><dt><span>prime_meridian_name :</span></dt><dd>Greenwich</dd><dt><span>geographic_crs_name :</span></dt><dd>WGS 84</dd><dt><span>horizontal_datum_name :</span></dt><dd>World Geodetic System 1984 ensemble</dd><dt><span>grid_mapping_name :</span></dt><dd>latitude_longitude</dd><dt><span>GeoTransform :</span></dt><dd>31.2724 0.0002 0.0 -25.004 0.0 -0.0002</dd></dl></div><div class='xr-var-data'><pre>array(4326, dtype=int32)</pre></div></li><li class='xr-var-item'><div class='xr-var-name'><span class='xr-has-index'>time</span></div><div class='xr-var-dims'>(time)</div><div class='xr-var-dtype'>datetime64[ns]</div><div class='xr-var-preview xr-preview'>2019-01-06T03:18:46.924630 ... 2...</div><input id='attrs-8be51b25-c6cb-4bac-9ca5-215818f0f272' class='xr-var-attrs-in' type='checkbox' disabled><label for='attrs-8be51b25-c6cb-4bac-9ca5-215818f0f272' title='Show/Hide attributes'><svg class='icon xr-icon-file-text2'><use xlink:href='#icon-file-text2'></use></svg></label><input id='data-95ad429b-674f-4495-9ab3-7210b931df9e' class='xr-var-data-in' type='checkbox'><label for='data-95ad429b-674f-4495-9ab3-7210b931df9e' title='Show/Hide data repr'><svg class='icon xr-icon-database'><use xlink:href='#icon-database'></use></svg></label><div class='xr-var-attrs'><dl class='xr-attrs'></dl></div><div class='xr-var-data'><pre>array([&#x27;2019-01-06T03:18:46.924630000&#x27;, &#x27;2019-01-10T16:30:34.968245000&#x27;,\n",
       "       &#x27;2019-01-18T03:18:46.690534000&#x27;, ..., &#x27;2021-12-15T03:18:02.193284000&#x27;,\n",
       "       &#x27;2021-12-21T03:19:05.745420000&#x27;, &#x27;2021-12-25T16:30:53.721072000&#x27;],\n",
       "      dtype=&#x27;datetime64[ns]&#x27;)</pre></div></li></ul></div></li><li class='xr-section-item'><input id='section-eacc33c2-37a3-42eb-8fde-4de01a8465f4' class='xr-section-summary-in' type='checkbox'  ><label for='section-eacc33c2-37a3-42eb-8fde-4de01a8465f4' class='xr-section-summary' >Indexes: <span>(3)</span></label><div class='xr-section-inline-details'></div><div class='xr-section-details'><ul class='xr-var-list'><li class='xr-var-item'><div class='xr-index-name'><div>latitude</div></div><div class='xr-index-preview'>PandasIndex</div><div></div><input id='index-b67c65f4-ace3-43c8-a2d8-f31073d28092' class='xr-index-data-in' type='checkbox'/><label for='index-b67c65f4-ace3-43c8-a2d8-f31073d28092' title='Show/Hide index repr'><svg class='icon xr-icon-database'><use xlink:href='#icon-database'></use></svg></label><div class='xr-index-data'><pre>PandasIndex(Index([           -25.0041,            -25.0043,            -25.0045,\n",
       "                  -25.0047, -25.004900000000003, -25.005100000000002,\n",
       "       -25.005300000000002,            -25.0055,            -25.0057,\n",
       "                  -25.0059,\n",
       "       ...\n",
       "                  -25.2693,            -25.2695,            -25.2697,\n",
       "                  -25.2699,            -25.2701, -25.270300000000002,\n",
       "       -25.270500000000002,            -25.2707,            -25.2709,\n",
       "                  -25.2711],\n",
       "      dtype=&#x27;float64&#x27;, name=&#x27;latitude&#x27;, length=1336))</pre></div></li><li class='xr-var-item'><div class='xr-index-name'><div>longitude</div></div><div class='xr-index-preview'>PandasIndex</div><div></div><input id='index-47484a73-6f15-44de-9d11-61025f4db107' class='xr-index-data-in' type='checkbox'/><label for='index-47484a73-6f15-44de-9d11-61025f4db107' title='Show/Hide index repr'><svg class='icon xr-icon-database'><use xlink:href='#icon-database'></use></svg></label><div class='xr-index-data'><pre>PandasIndex(Index([           31.2725,            31.2727,            31.2729,\n",
       "                  31.2731, 31.273300000000003, 31.273500000000002,\n",
       "                  31.2737,            31.2739,            31.2741,\n",
       "                  31.2743,\n",
       "       ...\n",
       "                  31.6413,            31.6415,            31.6417,\n",
       "                  31.6419,            31.6421, 31.642300000000002,\n",
       "       31.642500000000002,            31.6427,            31.6429,\n",
       "                  31.6431],\n",
       "      dtype=&#x27;float64&#x27;, name=&#x27;longitude&#x27;, length=1854))</pre></div></li><li class='xr-var-item'><div class='xr-index-name'><div>time</div></div><div class='xr-index-preview'>PandasIndex</div><div></div><input id='index-196bf974-2528-4619-8e0a-70c60c7a3fb7' class='xr-index-data-in' type='checkbox'/><label for='index-196bf974-2528-4619-8e0a-70c60c7a3fb7' title='Show/Hide index repr'><svg class='icon xr-icon-database'><use xlink:href='#icon-database'></use></svg></label><div class='xr-index-data'><pre>PandasIndex(DatetimeIndex([&#x27;2019-01-06 03:18:46.924630&#x27;, &#x27;2019-01-10 16:30:34.968245&#x27;,\n",
       "               &#x27;2019-01-18 03:18:46.690534&#x27;, &#x27;2019-01-22 16:30:34.737820&#x27;,\n",
       "               &#x27;2019-01-24 03:17:45.234247&#x27;, &#x27;2019-02-03 16:30:34.329795&#x27;,\n",
       "               &#x27;2019-02-05 03:17:44.994703&#x27;, &#x27;2019-02-15 16:30:34.031415&#x27;,\n",
       "               &#x27;2019-02-17 03:17:44.686164&#x27;, &#x27;2019-02-23 03:18:45.726289&#x27;,\n",
       "               ...\n",
       "               &#x27;2021-11-19 16:30:55.445001&#x27;, &#x27;2021-11-21 03:18:03.169168&#x27;,\n",
       "               &#x27;2021-11-27 03:19:06.866697&#x27;, &#x27;2021-12-01 16:30:54.830291&#x27;,\n",
       "               &#x27;2021-12-03 03:18:02.585110&#x27;, &#x27;2021-12-09 03:19:06.240008&#x27;,\n",
       "               &#x27;2021-12-13 16:30:54.432592&#x27;, &#x27;2021-12-15 03:18:02.193284&#x27;,\n",
       "               &#x27;2021-12-21 03:19:05.745420&#x27;, &#x27;2021-12-25 16:30:53.721072&#x27;],\n",
       "              dtype=&#x27;datetime64[ns]&#x27;, name=&#x27;time&#x27;, length=258, freq=None))</pre></div></li></ul></div></li><li class='xr-section-item'><input id='section-bf3af642-2905-4648-a65a-b0dd598b6178' class='xr-section-summary-in' type='checkbox' disabled ><label for='section-bf3af642-2905-4648-a65a-b0dd598b6178' class='xr-section-summary'  title='Expand/collapse section'>Attributes: <span>(0)</span></label><div class='xr-section-inline-details'></div><div class='xr-section-details'><dl class='xr-attrs'></dl></div></li></ul></div></div>"
      ],
      "text/plain": [
       "<xarray.DataArray 'vv' (time: 258, latitude: 1336, longitude: 1854)>\n",
       "dask.array<vv, shape=(258, 1336, 1854), dtype=float32, chunksize=(258, 510, 510), chunktype=numpy.ndarray>\n",
       "Coordinates:\n",
       "  * latitude     (latitude) float64 -25.0 -25.0 -25.0 ... -25.27 -25.27 -25.27\n",
       "  * longitude    (longitude) float64 31.27 31.27 31.27 ... 31.64 31.64 31.64\n",
       "    spatial_ref  int32 4326\n",
       "  * time         (time) datetime64[ns] 2019-01-06T03:18:46.924630 ... 2021-12..."
      ]
     },
     "execution_count": 4,
     "metadata": {},
     "output_type": "execute_result"
    }
   ],
   "source": [
    "ds.vv"
   ]
  },
  {
   "cell_type": "code",
   "execution_count": 5,
   "id": "36037275-aff1-4e7f-8d78-63e4c09af79d",
   "metadata": {
    "tags": []
   },
   "outputs": [],
   "source": [
    "# this results in bin centers on 100, 300, ...\n",
    "\n",
    "ds_40 = ds.coarsen(longitude=2).mean().coarsen(latitude=2).mean()"
   ]
  },
  {
   "cell_type": "code",
   "execution_count": 8,
   "id": "96253511-21d3-4451-bf4b-0bc18a314fc7",
   "metadata": {
    "tags": []
   },
   "outputs": [
    {
     "data": {
      "text/plain": [
       "<matplotlib.collections.QuadMesh at 0x7f5300210d90>"
      ]
     },
     "execution_count": 8,
     "metadata": {},
     "output_type": "execute_result"
    },
    {
     "data": {
      "image/png": "[encoded data removed]",
      "text/plain": [
       "<Figure size 640x480 with 2 Axes>"
      ]
     },
     "metadata": {},
     "output_type": "display_data"
    }
   ],
   "source": [
    "#ds_40.isel(time=0).vv.plot()"
   ]
  },
  {
   "cell_type": "code",
   "execution_count": 9,
   "id": "bdd65a53-4a80-4b9e-a277-0a44073ecf82",
   "metadata": {
    "tags": []
   },
   "outputs": [
    {
     "data": {
      "text/html": [
       "<div><svg style=\"position: absolute; width: 0; height: 0; overflow: hidden\">\n",
       "<defs>\n",
       "<symbol id=\"icon-database\" viewBox=\"0 0 32 32\">\n",
       "<path d=\"M16 0c-8.837 0-16 2.239-16 5v4c0 2.761 7.163 5 16 5s16-2.239 16-5v-4c0-2.761-7.163-5-16-5z\"></path>\n",
       "<path d=\"M16 17c-8.837 0-16-2.239-16-5v6c0 2.761 7.163 5 16 5s16-2.239 16-5v-6c0 2.761-7.163 5-16 5z\"></path>\n",
       "<path d=\"M16 26c-8.837 0-16-2.239-16-5v6c0 2.761 7.163 5 16 5s16-2.239 16-5v-6c0 2.761-7.163 5-16 5z\"></path>\n",
       "</symbol>\n",
       "<symbol id=\"icon-file-text2\" viewBox=\"0 0 32 32\">\n",
       "<path d=\"M28.681 7.159c-0.694-0.947-1.662-2.053-2.724-3.116s-2.169-2.030-3.116-2.724c-1.612-1.182-2.393-1.319-2.841-1.319h-15.5c-1.378 0-2.5 1.121-2.5 2.5v27c0 1.378 1.122 2.5 2.5 2.5h23c1.378 0 2.5-1.122 2.5-2.5v-19.5c0-0.448-0.137-1.23-1.319-2.841zM24.543 5.457c0.959 0.959 1.712 1.825 2.268 2.543h-4.811v-4.811c0.718 0.556 1.584 1.309 2.543 2.268zM28 29.5c0 0.271-0.229 0.5-0.5 0.5h-23c-0.271 0-0.5-0.229-0.5-0.5v-27c0-0.271 0.229-0.5 0.5-0.5 0 0 15.499-0 15.5 0v7c0 0.552 0.448 1 1 1h7v19.5z\"></path>\n",
       "<path d=\"M23 26h-14c-0.552 0-1-0.448-1-1s0.448-1 1-1h14c0.552 0 1 0.448 1 1s-0.448 1-1 1z\"></path>\n",
       "<path d=\"M23 22h-14c-0.552 0-1-0.448-1-1s0.448-1 1-1h14c0.552 0 1 0.448 1 1s-0.448 1-1 1z\"></path>\n",
       "<path d=\"M23 18h-14c-0.552 0-1-0.448-1-1s0.448-1 1-1h14c0.552 0 1 0.448 1 1s-0.448 1-1 1z\"></path>\n",
       "</symbol>\n",
       "</defs>\n",
       "</svg>\n",
       "<style>/* CSS stylesheet for displaying xarray objects in jupyterlab.\n",
       " *\n",
       " */\n",
       "\n",
       ":root {\n",
       "  --xr-font-color0: var(--jp-content-font-color0, rgba(0, 0, 0, 1));\n",
       "  --xr-font-color2: var(--jp-content-font-color2, rgba(0, 0, 0, 0.54));\n",
       "  --xr-font-color3: var(--jp-content-font-color3, rgba(0, 0, 0, 0.38));\n",
       "  --xr-border-color: var(--jp-border-color2, #e0e0e0);\n",
       "  --xr-disabled-color: var(--jp-layout-color3, #bdbdbd);\n",
       "  --xr-background-color: var(--jp-layout-color0, white);\n",
       "  --xr-background-color-row-even: var(--jp-layout-color1, white);\n",
       "  --xr-background-color-row-odd: var(--jp-layout-color2, #eeeeee);\n",
       "}\n",
       "\n",
       "html[theme=dark],\n",
       "body[data-theme=dark],\n",
       "body.vscode-dark {\n",
       "  --xr-font-color0: rgba(255, 255, 255, 1);\n",
       "  --xr-font-color2: rgba(255, 255, 255, 0.54);\n",
       "  --xr-font-color3: rgba(255, 255, 255, 0.38);\n",
       "  --xr-border-color: #1F1F1F;\n",
       "  --xr-disabled-color: #515151;\n",
       "  --xr-background-color: #111111;\n",
       "  --xr-background-color-row-even: #111111;\n",
       "  --xr-background-color-row-odd: #313131;\n",
       "}\n",
       "\n",
       ".xr-wrap {\n",
       "  display: block !important;\n",
       "  min-width: 300px;\n",
       "  max-width: 700px;\n",
       "}\n",
       "\n",
       ".xr-text-repr-fallback {\n",
       "  /* fallback to plain text repr when CSS is not injected (untrusted notebook) */\n",
       "  display: none;\n",
       "}\n",
       "\n",
       ".xr-header {\n",
       "  padding-top: 6px;\n",
       "  padding-bottom: 6px;\n",
       "  margin-bottom: 4px;\n",
       "  border-bottom: solid 1px var(--xr-border-color);\n",
       "}\n",
       "\n",
       ".xr-header > div,\n",
       ".xr-header > ul {\n",
       "  display: inline;\n",
       "  margin-top: 0;\n",
       "  margin-bottom: 0;\n",
       "}\n",
       "\n",
       ".xr-obj-type,\n",
       ".xr-array-name {\n",
       "  margin-left: 2px;\n",
       "  margin-right: 10px;\n",
       "}\n",
       "\n",
       ".xr-obj-type {\n",
       "  color: var(--xr-font-color2);\n",
       "}\n",
       "\n",
       ".xr-sections {\n",
       "  padding-left: 0 !important;\n",
       "  display: grid;\n",
       "  grid-template-columns: 150px auto auto 1fr 20px 20px;\n",
       "}\n",
       "\n",
       ".xr-section-item {\n",
       "  display: contents;\n",
       "}\n",
       "\n",
       ".xr-section-item input {\n",
       "  display: none;\n",
       "}\n",
       "\n",
       ".xr-section-item input + label {\n",
       "  color: var(--xr-disabled-color);\n",
       "}\n",
       "\n",
       ".xr-section-item input:enabled + label {\n",
       "  cursor: pointer;\n",
       "  color: var(--xr-font-color2);\n",
       "}\n",
       "\n",
       ".xr-section-item input:enabled + label:hover {\n",
       "  color: var(--xr-font-color0);\n",
       "}\n",
       "\n",
       ".xr-section-summary {\n",
       "  grid-column: 1;\n",
       "  color: var(--xr-font-color2);\n",
       "  font-weight: 500;\n",
       "}\n",
       "\n",
       ".xr-section-summary > span {\n",
       "  display: inline-block;\n",
       "  padding-left: 0.5em;\n",
       "}\n",
       "\n",
       ".xr-section-summary-in:disabled + label {\n",
       "  color: var(--xr-font-color2);\n",
       "}\n",
       "\n",
       ".xr-section-summary-in + label:before {\n",
       "  display: inline-block;\n",
       "  content: '►';\n",
       "  font-size: 11px;\n",
       "  width: 15px;\n",
       "  text-align: center;\n",
       "}\n",
       "\n",
       ".xr-section-summary-in:disabled + label:before {\n",
       "  color: var(--xr-disabled-color);\n",
       "}\n",
       "\n",
       ".xr-section-summary-in:checked + label:before {\n",
       "  content: '▼';\n",
       "}\n",
       "\n",
       ".xr-section-summary-in:checked + label > span {\n",
       "  display: none;\n",
       "}\n",
       "\n",
       ".xr-section-summary,\n",
       ".xr-section-inline-details {\n",
       "  padding-top: 4px;\n",
       "  padding-bottom: 4px;\n",
       "}\n",
       "\n",
       ".xr-section-inline-details {\n",
       "  grid-column: 2 / -1;\n",
       "}\n",
       "\n",
       ".xr-section-details {\n",
       "  display: none;\n",
       "  grid-column: 1 / -1;\n",
       "  margin-bottom: 5px;\n",
       "}\n",
       "\n",
       ".xr-section-summary-in:checked ~ .xr-section-details {\n",
       "  display: contents;\n",
       "}\n",
       "\n",
       ".xr-array-wrap {\n",
       "  grid-column: 1 / -1;\n",
       "  display: grid;\n",
       "  grid-template-columns: 20px auto;\n",
       "}\n",
       "\n",
       ".xr-array-wrap > label {\n",
       "  grid-column: 1;\n",
       "  vertical-align: top;\n",
       "}\n",
       "\n",
       ".xr-preview {\n",
       "  color: var(--xr-font-color3);\n",
       "}\n",
       "\n",
       ".xr-array-preview,\n",
       ".xr-array-data {\n",
       "  padding: 0 5px !important;\n",
       "  grid-column: 2;\n",
       "}\n",
       "\n",
       ".xr-array-data,\n",
       ".xr-array-in:checked ~ .xr-array-preview {\n",
       "  display: none;\n",
       "}\n",
       "\n",
       ".xr-array-in:checked ~ .xr-array-data,\n",
       ".xr-array-preview {\n",
       "  display: inline-block;\n",
       "}\n",
       "\n",
       ".xr-dim-list {\n",
       "  display: inline-block !important;\n",
       "  list-style: none;\n",
       "  padding: 0 !important;\n",
       "  margin: 0;\n",
       "}\n",
       "\n",
       ".xr-dim-list li {\n",
       "  display: inline-block;\n",
       "  padding: 0;\n",
       "  margin: 0;\n",
       "}\n",
       "\n",
       ".xr-dim-list:before {\n",
       "  content: '(';\n",
       "}\n",
       "\n",
       ".xr-dim-list:after {\n",
       "  content: ')';\n",
       "}\n",
       "\n",
       ".xr-dim-list li:not(:last-child):after {\n",
       "  content: ',';\n",
       "  padding-right: 5px;\n",
       "}\n",
       "\n",
       ".xr-has-index {\n",
       "  font-weight: bold;\n",
       "}\n",
       "\n",
       ".xr-var-list,\n",
       ".xr-var-item {\n",
       "  display: contents;\n",
       "}\n",
       "\n",
       ".xr-var-item > div,\n",
       ".xr-var-item label,\n",
       ".xr-var-item > .xr-var-name span {\n",
       "  background-color: var(--xr-background-color-row-even);\n",
       "  margin-bottom: 0;\n",
       "}\n",
       "\n",
       ".xr-var-item > .xr-var-name:hover span {\n",
       "  padding-right: 5px;\n",
       "}\n",
       "\n",
       ".xr-var-list > li:nth-child(odd) > div,\n",
       ".xr-var-list > li:nth-child(odd) > label,\n",
       ".xr-var-list > li:nth-child(odd) > .xr-var-name span {\n",
       "  background-color: var(--xr-background-color-row-odd);\n",
       "}\n",
       "\n",
       ".xr-var-name {\n",
       "  grid-column: 1;\n",
       "}\n",
       "\n",
       ".xr-var-dims {\n",
       "  grid-column: 2;\n",
       "}\n",
       "\n",
       ".xr-var-dtype {\n",
       "  grid-column: 3;\n",
       "  text-align: right;\n",
       "  color: var(--xr-font-color2);\n",
       "}\n",
       "\n",
       ".xr-var-preview {\n",
       "  grid-column: 4;\n",
       "}\n",
       "\n",
       ".xr-index-preview {\n",
       "  grid-column: 2 / 5;\n",
       "  color: var(--xr-font-color2);\n",
       "}\n",
       "\n",
       ".xr-var-name,\n",
       ".xr-var-dims,\n",
       ".xr-var-dtype,\n",
       ".xr-preview,\n",
       ".xr-attrs dt {\n",
       "  white-space: nowrap;\n",
       "  overflow: hidden;\n",
       "  text-overflow: ellipsis;\n",
       "  padding-right: 10px;\n",
       "}\n",
       "\n",
       ".xr-var-name:hover,\n",
       ".xr-var-dims:hover,\n",
       ".xr-var-dtype:hover,\n",
       ".xr-attrs dt:hover {\n",
       "  overflow: visible;\n",
       "  width: auto;\n",
       "  z-index: 1;\n",
       "}\n",
       "\n",
       ".xr-var-attrs,\n",
       ".xr-var-data,\n",
       ".xr-index-data {\n",
       "  display: none;\n",
       "  background-color: var(--xr-background-color) !important;\n",
       "  padding-bottom: 5px !important;\n",
       "}\n",
       "\n",
       ".xr-var-attrs-in:checked ~ .xr-var-attrs,\n",
       ".xr-var-data-in:checked ~ .xr-var-data,\n",
       ".xr-index-data-in:checked ~ .xr-index-data {\n",
       "  display: block;\n",
       "}\n",
       "\n",
       ".xr-var-data > table {\n",
       "  float: right;\n",
       "}\n",
       "\n",
       ".xr-var-name span,\n",
       ".xr-var-data,\n",
       ".xr-index-name div,\n",
       ".xr-index-data,\n",
       ".xr-attrs {\n",
       "  padding-left: 25px !important;\n",
       "}\n",
       "\n",
       ".xr-attrs,\n",
       ".xr-var-attrs,\n",
       ".xr-var-data,\n",
       ".xr-index-data {\n",
       "  grid-column: 1 / -1;\n",
       "}\n",
       "\n",
       "dl.xr-attrs {\n",
       "  padding: 0;\n",
       "  margin: 0;\n",
       "  display: grid;\n",
       "  grid-template-columns: 125px auto;\n",
       "}\n",
       "\n",
       ".xr-attrs dt,\n",
       ".xr-attrs dd {\n",
       "  padding: 0;\n",
       "  margin: 0;\n",
       "  float: left;\n",
       "  padding-right: 10px;\n",
       "  width: auto;\n",
       "}\n",
       "\n",
       ".xr-attrs dt {\n",
       "  font-weight: normal;\n",
       "  grid-column: 1;\n",
       "}\n",
       "\n",
       ".xr-attrs dt:hover span {\n",
       "  display: inline-block;\n",
       "  background: var(--xr-background-color);\n",
       "  padding-right: 10px;\n",
       "}\n",
       "\n",
       ".xr-attrs dd {\n",
       "  grid-column: 2;\n",
       "  white-space: pre-wrap;\n",
       "  word-break: break-all;\n",
       "}\n",
       "\n",
       ".xr-icon-database,\n",
       ".xr-icon-file-text2,\n",
       ".xr-no-icon {\n",
       "  display: inline-block;\n",
       "  vertical-align: middle;\n",
       "  width: 1em;\n",
       "  height: 1.5em !important;\n",
       "  stroke-width: 0;\n",
       "  stroke: currentColor;\n",
       "  fill: currentColor;\n",
       "}\n",
       "</style><pre class='xr-text-repr-fallback'>&lt;xarray.DataArray &#x27;vv&#x27; (time: 258, latitude: 668, longitude: 927)&gt;\n",
       "dask.array&lt;mean_agg-aggregate, shape=(258, 668, 927), dtype=float32, chunksize=(258, 255, 255), chunktype=numpy.ndarray&gt;\n",
       "Coordinates:\n",
       "  * latitude     (latitude) float64 -25.0 -25.0 -25.01 ... -25.27 -25.27 -25.27\n",
       "  * longitude    (longitude) float64 31.27 31.27 31.27 ... 31.64 31.64 31.64\n",
       "    spatial_ref  int32 4326\n",
       "  * time         (time) datetime64[ns] 2019-01-06T03:18:46.924630 ... 2021-12...</pre><div class='xr-wrap' style='display:none'><div class='xr-header'><div class='xr-obj-type'>xarray.DataArray</div><div class='xr-array-name'>'vv'</div><ul class='xr-dim-list'><li><span class='xr-has-index'>time</span>: 258</li><li><span class='xr-has-index'>latitude</span>: 668</li><li><span class='xr-has-index'>longitude</span>: 927</li></ul></div><ul class='xr-sections'><li class='xr-section-item'><div class='xr-array-wrap'><input id='section-b04ae2f8-73f6-4b96-815c-dc52338cd772' class='xr-array-in' type='checkbox' checked><label for='section-b04ae2f8-73f6-4b96-815c-dc52338cd772' title='Show/hide data repr'><svg class='icon xr-icon-database'><use xlink:href='#icon-database'></use></svg></label><div class='xr-array-preview xr-preview'><span>dask.array&lt;chunksize=(258, 255, 255), meta=np.ndarray&gt;</span></div><div class='xr-array-data'><table>\n",
       "    <tr>\n",
       "        <td>\n",
       "            <table style=\"border-collapse: collapse;\">\n",
       "                <thead>\n",
       "                    <tr>\n",
       "                        <td> </td>\n",
       "                        <th> Array </th>\n",
       "                        <th> Chunk </th>\n",
       "                    </tr>\n",
       "                </thead>\n",
       "                <tbody>\n",
       "                    \n",
       "                    <tr>\n",
       "                        <th> Bytes </th>\n",
       "                        <td> 609.45 MiB </td>\n",
       "                        <td> 64.00 MiB </td>\n",
       "                    </tr>\n",
       "                    \n",
       "                    <tr>\n",
       "                        <th> Shape </th>\n",
       "                        <td> (258, 668, 927) </td>\n",
       "                        <td> (258, 255, 255) </td>\n",
       "                    </tr>\n",
       "                    <tr>\n",
       "                        <th> Dask graph </th>\n",
       "                        <td colspan=\"2\"> 12 chunks in 7 graph layers </td>\n",
       "                    </tr>\n",
       "                    <tr>\n",
       "                        <th> Data type </th>\n",
       "                        <td colspan=\"2\"> float32 numpy.ndarray </td>\n",
       "                    </tr>\n",
       "                </tbody>\n",
       "            </table>\n",
       "        </td>\n",
       "        <td>\n",
       "        <svg width=\"205\" height=\"161\" style=\"stroke:rgb(0,0,0);stroke-width:1\" >\n",
       "\n",
       "  <!-- Horizontal lines -->\n",
       "  <line x1=\"10\" y1=\"0\" x2=\"35\" y2=\"25\" style=\"stroke-width:2\" />\n",
       "  <line x1=\"10\" y1=\"33\" x2=\"35\" y2=\"58\" />\n",
       "  <line x1=\"10\" y1=\"66\" x2=\"35\" y2=\"91\" />\n",
       "  <line x1=\"10\" y1=\"86\" x2=\"35\" y2=\"111\" style=\"stroke-width:2\" />\n",
       "\n",
       "  <!-- Vertical lines -->\n",
       "  <line x1=\"10\" y1=\"0\" x2=\"10\" y2=\"86\" style=\"stroke-width:2\" />\n",
       "  <line x1=\"35\" y1=\"25\" x2=\"35\" y2=\"111\" style=\"stroke-width:2\" />\n",
       "\n",
       "  <!-- Colored Rectangle -->\n",
       "  <polygon points=\"10.0,0.0 35.46332975583148,25.46332975583148 35.46332975583148,111.9358216652166 10.0,86.47249190938511\" style=\"fill:#ECB172A0;stroke-width:0\"/>\n",
       "\n",
       "  <!-- Horizontal lines -->\n",
       "  <line x1=\"10\" y1=\"0\" x2=\"130\" y2=\"0\" style=\"stroke-width:2\" />\n",
       "  <line x1=\"35\" y1=\"25\" x2=\"155\" y2=\"25\" style=\"stroke-width:2\" />\n",
       "\n",
       "  <!-- Vertical lines -->\n",
       "  <line x1=\"10\" y1=\"0\" x2=\"35\" y2=\"25\" style=\"stroke-width:2\" />\n",
       "  <line x1=\"43\" y1=\"0\" x2=\"68\" y2=\"25\" />\n",
       "  <line x1=\"76\" y1=\"0\" x2=\"101\" y2=\"25\" />\n",
       "  <line x1=\"109\" y1=\"0\" x2=\"134\" y2=\"25\" />\n",
       "  <line x1=\"130\" y1=\"0\" x2=\"155\" y2=\"25\" style=\"stroke-width:2\" />\n",
       "\n",
       "  <!-- Colored Rectangle -->\n",
       "  <polygon points=\"10.0,0.0 130.0,0.0 155.46332975583147,25.46332975583148 35.46332975583148,25.46332975583148\" style=\"fill:#ECB172A0;stroke-width:0\"/>\n",
       "\n",
       "  <!-- Horizontal lines -->\n",
       "  <line x1=\"35\" y1=\"25\" x2=\"155\" y2=\"25\" style=\"stroke-width:2\" />\n",
       "  <line x1=\"35\" y1=\"58\" x2=\"155\" y2=\"58\" />\n",
       "  <line x1=\"35\" y1=\"91\" x2=\"155\" y2=\"91\" />\n",
       "  <line x1=\"35\" y1=\"111\" x2=\"155\" y2=\"111\" style=\"stroke-width:2\" />\n",
       "\n",
       "  <!-- Vertical lines -->\n",
       "  <line x1=\"35\" y1=\"25\" x2=\"35\" y2=\"111\" style=\"stroke-width:2\" />\n",
       "  <line x1=\"68\" y1=\"25\" x2=\"68\" y2=\"111\" />\n",
       "  <line x1=\"101\" y1=\"25\" x2=\"101\" y2=\"111\" />\n",
       "  <line x1=\"134\" y1=\"25\" x2=\"134\" y2=\"111\" />\n",
       "  <line x1=\"155\" y1=\"25\" x2=\"155\" y2=\"111\" style=\"stroke-width:2\" />\n",
       "\n",
       "  <!-- Colored Rectangle -->\n",
       "  <polygon points=\"35.46332975583148,25.46332975583148 155.46332975583147,25.46332975583148 155.46332975583147,111.9358216652166 35.46332975583148,111.9358216652166\" style=\"fill:#ECB172A0;stroke-width:0\"/>\n",
       "\n",
       "  <!-- Text -->\n",
       "  <text x=\"95.463330\" y=\"131.935822\" font-size=\"1.0rem\" font-weight=\"100\" text-anchor=\"middle\" >927</text>\n",
       "  <text x=\"175.463330\" y=\"68.699576\" font-size=\"1.0rem\" font-weight=\"100\" text-anchor=\"middle\" transform=\"rotate(-90,175.463330,68.699576)\">668</text>\n",
       "  <text x=\"12.731665\" y=\"119.204157\" font-size=\"1.0rem\" font-weight=\"100\" text-anchor=\"middle\" transform=\"rotate(45,12.731665,119.204157)\">258</text>\n",
       "</svg>\n",
       "        </td>\n",
       "    </tr>\n",
       "</table></div></div></li><li class='xr-section-item'><input id='section-f8886bcf-67ee-4b78-b4db-356e4607523c' class='xr-section-summary-in' type='checkbox'  checked><label for='section-f8886bcf-67ee-4b78-b4db-356e4607523c' class='xr-section-summary' >Coordinates: <span>(4)</span></label><div class='xr-section-inline-details'></div><div class='xr-section-details'><ul class='xr-var-list'><li class='xr-var-item'><div class='xr-var-name'><span class='xr-has-index'>latitude</span></div><div class='xr-var-dims'>(latitude)</div><div class='xr-var-dtype'>float64</div><div class='xr-var-preview xr-preview'>-25.0 -25.0 ... -25.27 -25.27</div><input id='attrs-d9993672-801b-48dd-9f54-aba256642b6c' class='xr-var-attrs-in' type='checkbox' ><label for='attrs-d9993672-801b-48dd-9f54-aba256642b6c' title='Show/Hide attributes'><svg class='icon xr-icon-file-text2'><use xlink:href='#icon-file-text2'></use></svg></label><input id='data-054bf7c0-521e-4a24-b8ff-6448442d7dba' class='xr-var-data-in' type='checkbox'><label for='data-054bf7c0-521e-4a24-b8ff-6448442d7dba' title='Show/Hide data repr'><svg class='icon xr-icon-database'><use xlink:href='#icon-database'></use></svg></label><div class='xr-var-attrs'><dl class='xr-attrs'><dt><span>units :</span></dt><dd>degrees_north</dd><dt><span>resolution :</span></dt><dd>-0.0002</dd><dt><span>crs :</span></dt><dd>EPSG:4326</dd></dl></div><div class='xr-var-data'><pre>array([-25.0042, -25.0046, -25.005 , ..., -25.2702, -25.2706, -25.271 ])</pre></div></li><li class='xr-var-item'><div class='xr-var-name'><span class='xr-has-index'>longitude</span></div><div class='xr-var-dims'>(longitude)</div><div class='xr-var-dtype'>float64</div><div class='xr-var-preview xr-preview'>31.27 31.27 31.27 ... 31.64 31.64</div><input id='attrs-b61e5bda-b1c0-4f62-992a-16a615567363' class='xr-var-attrs-in' type='checkbox' ><label for='attrs-b61e5bda-b1c0-4f62-992a-16a615567363' title='Show/Hide attributes'><svg class='icon xr-icon-file-text2'><use xlink:href='#icon-file-text2'></use></svg></label><input id='data-dd8c45e7-7c17-4e64-bb40-7c1a4e2c8b4e' class='xr-var-data-in' type='checkbox'><label for='data-dd8c45e7-7c17-4e64-bb40-7c1a4e2c8b4e' title='Show/Hide data repr'><svg class='icon xr-icon-database'><use xlink:href='#icon-database'></use></svg></label><div class='xr-var-attrs'><dl class='xr-attrs'><dt><span>units :</span></dt><dd>degrees_east</dd><dt><span>resolution :</span></dt><dd>0.0002</dd><dt><span>crs :</span></dt><dd>EPSG:4326</dd></dl></div><div class='xr-var-data'><pre>array([31.2726, 31.273 , 31.2734, ..., 31.6422, 31.6426, 31.643 ])</pre></div></li><li class='xr-var-item'><div class='xr-var-name'><span>spatial_ref</span></div><div class='xr-var-dims'>()</div><div class='xr-var-dtype'>int32</div><div class='xr-var-preview xr-preview'>4326</div><input id='attrs-f0f0f002-2f7f-43d1-b127-d5e30f8c80a1' class='xr-var-attrs-in' type='checkbox' ><label for='attrs-f0f0f002-2f7f-43d1-b127-d5e30f8c80a1' title='Show/Hide attributes'><svg class='icon xr-icon-file-text2'><use xlink:href='#icon-file-text2'></use></svg></label><input id='data-ac0be62e-4b5e-4b83-900e-bf75448f12f4' class='xr-var-data-in' type='checkbox'><label for='data-ac0be62e-4b5e-4b83-900e-bf75448f12f4' title='Show/Hide data repr'><svg class='icon xr-icon-database'><use xlink:href='#icon-database'></use></svg></label><div class='xr-var-attrs'><dl class='xr-attrs'><dt><span>spatial_ref :</span></dt><dd>GEOGCRS[&quot;WGS 84&quot;,ENSEMBLE[&quot;World Geodetic System 1984 ensemble&quot;,MEMBER[&quot;World Geodetic System 1984 (Transit)&quot;],MEMBER[&quot;World Geodetic System 1984 (G730)&quot;],MEMBER[&quot;World Geodetic System 1984 (G873)&quot;],MEMBER[&quot;World Geodetic System 1984 (G1150)&quot;],MEMBER[&quot;World Geodetic System 1984 (G1674)&quot;],MEMBER[&quot;World Geodetic System 1984 (G1762)&quot;],MEMBER[&quot;World Geodetic System 1984 (G2139)&quot;],ELLIPSOID[&quot;WGS 84&quot;,6378137,298.257223563,LENGTHUNIT[&quot;metre&quot;,1]],ENSEMBLEACCURACY[2.0]],PRIMEM[&quot;Greenwich&quot;,0,ANGLEUNIT[&quot;degree&quot;,0.0174532925199433]],CS[ellipsoidal,2],AXIS[&quot;geodetic latitude (Lat)&quot;,north,ORDER[1],ANGLEUNIT[&quot;degree&quot;,0.0174532925199433]],AXIS[&quot;geodetic longitude (Lon)&quot;,east,ORDER[2],ANGLEUNIT[&quot;degree&quot;,0.0174532925199433]],USAGE[SCOPE[&quot;Horizontal component of 3D system.&quot;],AREA[&quot;World.&quot;],BBOX[-90,-180,90,180]],ID[&quot;EPSG&quot;,4326]]</dd><dt><span>crs_wkt :</span></dt><dd>GEOGCRS[&quot;WGS 84&quot;,ENSEMBLE[&quot;World Geodetic System 1984 ensemble&quot;,MEMBER[&quot;World Geodetic System 1984 (Transit)&quot;],MEMBER[&quot;World Geodetic System 1984 (G730)&quot;],MEMBER[&quot;World Geodetic System 1984 (G873)&quot;],MEMBER[&quot;World Geodetic System 1984 (G1150)&quot;],MEMBER[&quot;World Geodetic System 1984 (G1674)&quot;],MEMBER[&quot;World Geodetic System 1984 (G1762)&quot;],MEMBER[&quot;World Geodetic System 1984 (G2139)&quot;],ELLIPSOID[&quot;WGS 84&quot;,6378137,298.257223563,LENGTHUNIT[&quot;metre&quot;,1]],ENSEMBLEACCURACY[2.0]],PRIMEM[&quot;Greenwich&quot;,0,ANGLEUNIT[&quot;degree&quot;,0.0174532925199433]],CS[ellipsoidal,2],AXIS[&quot;geodetic latitude (Lat)&quot;,north,ORDER[1],ANGLEUNIT[&quot;degree&quot;,0.0174532925199433]],AXIS[&quot;geodetic longitude (Lon)&quot;,east,ORDER[2],ANGLEUNIT[&quot;degree&quot;,0.0174532925199433]],USAGE[SCOPE[&quot;Horizontal component of 3D system.&quot;],AREA[&quot;World.&quot;],BBOX[-90,-180,90,180]],ID[&quot;EPSG&quot;,4326]]</dd><dt><span>semi_major_axis :</span></dt><dd>6378137.0</dd><dt><span>semi_minor_axis :</span></dt><dd>6356752.314245179</dd><dt><span>inverse_flattening :</span></dt><dd>298.257223563</dd><dt><span>reference_ellipsoid_name :</span></dt><dd>WGS 84</dd><dt><span>longitude_of_prime_meridian :</span></dt><dd>0.0</dd><dt><span>prime_meridian_name :</span></dt><dd>Greenwich</dd><dt><span>geographic_crs_name :</span></dt><dd>WGS 84</dd><dt><span>horizontal_datum_name :</span></dt><dd>World Geodetic System 1984 ensemble</dd><dt><span>grid_mapping_name :</span></dt><dd>latitude_longitude</dd><dt><span>GeoTransform :</span></dt><dd>31.2724 0.0002 0.0 -25.004 0.0 -0.0002</dd></dl></div><div class='xr-var-data'><pre>array(4326, dtype=int32)</pre></div></li><li class='xr-var-item'><div class='xr-var-name'><span class='xr-has-index'>time</span></div><div class='xr-var-dims'>(time)</div><div class='xr-var-dtype'>datetime64[ns]</div><div class='xr-var-preview xr-preview'>2019-01-06T03:18:46.924630 ... 2...</div><input id='attrs-1e6dc67b-eb7f-4db9-a348-40fa9234410f' class='xr-var-attrs-in' type='checkbox' disabled><label for='attrs-1e6dc67b-eb7f-4db9-a348-40fa9234410f' title='Show/Hide attributes'><svg class='icon xr-icon-file-text2'><use xlink:href='#icon-file-text2'></use></svg></label><input id='data-b9f95ce5-dd32-4f5f-b734-39d6a254f98b' class='xr-var-data-in' type='checkbox'><label for='data-b9f95ce5-dd32-4f5f-b734-39d6a254f98b' title='Show/Hide data repr'><svg class='icon xr-icon-database'><use xlink:href='#icon-database'></use></svg></label><div class='xr-var-attrs'><dl class='xr-attrs'></dl></div><div class='xr-var-data'><pre>array([&#x27;2019-01-06T03:18:46.924630000&#x27;, &#x27;2019-01-10T16:30:34.968245000&#x27;,\n",
       "       &#x27;2019-01-18T03:18:46.690534000&#x27;, ..., &#x27;2021-12-15T03:18:02.193284000&#x27;,\n",
       "       &#x27;2021-12-21T03:19:05.745420000&#x27;, &#x27;2021-12-25T16:30:53.721072000&#x27;],\n",
       "      dtype=&#x27;datetime64[ns]&#x27;)</pre></div></li></ul></div></li><li class='xr-section-item'><input id='section-e78e70d1-f212-4333-98a8-f457907b3e5c' class='xr-section-summary-in' type='checkbox'  ><label for='section-e78e70d1-f212-4333-98a8-f457907b3e5c' class='xr-section-summary' >Indexes: <span>(3)</span></label><div class='xr-section-inline-details'></div><div class='xr-section-details'><ul class='xr-var-list'><li class='xr-var-item'><div class='xr-index-name'><div>latitude</div></div><div class='xr-index-preview'>PandasIndex</div><div></div><input id='index-a331f2fd-6762-4966-8dca-825ac630b46e' class='xr-index-data-in' type='checkbox'/><label for='index-a331f2fd-6762-4966-8dca-825ac630b46e' title='Show/Hide index repr'><svg class='icon xr-icon-database'><use xlink:href='#icon-database'></use></svg></label><div class='xr-index-data'><pre>PandasIndex(Index([           -25.0042,            -25.0046, -25.005000000000003,\n",
       "                  -25.0054,            -25.0058,            -25.0062,\n",
       "       -25.006600000000002,             -25.007,            -25.0074,\n",
       "                  -25.0078,\n",
       "       ...\n",
       "       -25.267400000000002,            -25.2678,            -25.2682,\n",
       "                  -25.2686, -25.269000000000002,            -25.2694,\n",
       "                  -25.2698, -25.270200000000003,            -25.2706,\n",
       "                   -25.271],\n",
       "      dtype=&#x27;float64&#x27;, name=&#x27;latitude&#x27;, length=668))</pre></div></li><li class='xr-var-item'><div class='xr-index-name'><div>longitude</div></div><div class='xr-index-preview'>PandasIndex</div><div></div><input id='index-1b7d0015-9ac6-4001-a3c7-cbf47d7fdf65' class='xr-index-data-in' type='checkbox'/><label for='index-1b7d0015-9ac6-4001-a3c7-cbf47d7fdf65' title='Show/Hide index repr'><svg class='icon xr-icon-database'><use xlink:href='#icon-database'></use></svg></label><div class='xr-index-data'><pre>PandasIndex(Index([           31.2726,             31.273, 31.273400000000002,\n",
       "                  31.2738,            31.2742,            31.2746,\n",
       "       31.275000000000002,            31.2754,            31.2758,\n",
       "                  31.2762,\n",
       "       ...\n",
       "       31.639400000000002,            31.6398,            31.6402,\n",
       "                  31.6406, 31.641000000000002,            31.6414,\n",
       "                  31.6418, 31.642200000000003,            31.6426,\n",
       "                   31.643],\n",
       "      dtype=&#x27;float64&#x27;, name=&#x27;longitude&#x27;, length=927))</pre></div></li><li class='xr-var-item'><div class='xr-index-name'><div>time</div></div><div class='xr-index-preview'>PandasIndex</div><div></div><input id='index-55607f8e-138d-4ee0-a204-6508084a5c73' class='xr-index-data-in' type='checkbox'/><label for='index-55607f8e-138d-4ee0-a204-6508084a5c73' title='Show/Hide index repr'><svg class='icon xr-icon-database'><use xlink:href='#icon-database'></use></svg></label><div class='xr-index-data'><pre>PandasIndex(DatetimeIndex([&#x27;2019-01-06 03:18:46.924630&#x27;, &#x27;2019-01-10 16:30:34.968245&#x27;,\n",
       "               &#x27;2019-01-18 03:18:46.690534&#x27;, &#x27;2019-01-22 16:30:34.737820&#x27;,\n",
       "               &#x27;2019-01-24 03:17:45.234247&#x27;, &#x27;2019-02-03 16:30:34.329795&#x27;,\n",
       "               &#x27;2019-02-05 03:17:44.994703&#x27;, &#x27;2019-02-15 16:30:34.031415&#x27;,\n",
       "               &#x27;2019-02-17 03:17:44.686164&#x27;, &#x27;2019-02-23 03:18:45.726289&#x27;,\n",
       "               ...\n",
       "               &#x27;2021-11-19 16:30:55.445001&#x27;, &#x27;2021-11-21 03:18:03.169168&#x27;,\n",
       "               &#x27;2021-11-27 03:19:06.866697&#x27;, &#x27;2021-12-01 16:30:54.830291&#x27;,\n",
       "               &#x27;2021-12-03 03:18:02.585110&#x27;, &#x27;2021-12-09 03:19:06.240008&#x27;,\n",
       "               &#x27;2021-12-13 16:30:54.432592&#x27;, &#x27;2021-12-15 03:18:02.193284&#x27;,\n",
       "               &#x27;2021-12-21 03:19:05.745420&#x27;, &#x27;2021-12-25 16:30:53.721072&#x27;],\n",
       "              dtype=&#x27;datetime64[ns]&#x27;, name=&#x27;time&#x27;, length=258, freq=None))</pre></div></li></ul></div></li><li class='xr-section-item'><input id='section-335f08dd-7a8d-4d43-b900-0174a98828d6' class='xr-section-summary-in' type='checkbox' disabled ><label for='section-335f08dd-7a8d-4d43-b900-0174a98828d6' class='xr-section-summary'  title='Expand/collapse section'>Attributes: <span>(0)</span></label><div class='xr-section-inline-details'></div><div class='xr-section-details'><dl class='xr-attrs'></dl></div></li></ul></div></div>"
      ],
      "text/plain": [
       "<xarray.DataArray 'vv' (time: 258, latitude: 668, longitude: 927)>\n",
       "dask.array<mean_agg-aggregate, shape=(258, 668, 927), dtype=float32, chunksize=(258, 255, 255), chunktype=numpy.ndarray>\n",
       "Coordinates:\n",
       "  * latitude     (latitude) float64 -25.0 -25.0 -25.01 ... -25.27 -25.27 -25.27\n",
       "  * longitude    (longitude) float64 31.27 31.27 31.27 ... 31.64 31.64 31.64\n",
       "    spatial_ref  int32 4326\n",
       "  * time         (time) datetime64[ns] 2019-01-06T03:18:46.924630 ... 2021-12..."
      ]
     },
     "execution_count": 9,
     "metadata": {},
     "output_type": "execute_result"
    }
   ],
   "source": [
    "ds_40.vv"
   ]
  },
  {
   "cell_type": "code",
   "execution_count": null,
   "id": "e1c4b4ce-0d93-459c-b6f4-da5dbcf64d94",
   "metadata": {
    "tags": []
   },
   "outputs": [],
   "source": []
  },
  {
   "cell_type": "code",
   "execution_count": null,
   "id": "8b6f9c5a-231c-42e1-8069-1ec86007e64b",
   "metadata": {},
   "outputs": [],
   "source": []
  },
  {
   "cell_type": "code",
   "execution_count": 10,
   "id": "82b40651-3b31-47cd-8884-d5754b0fa6fa",
   "metadata": {
    "tags": []
   },
   "outputs": [
    {
     "data": {
      "text/plain": [
       "'\\nds_ymin = float(ds.latitude.min().values)\\nds_ymax = float(ds.latitude.max().values)\\nds_xmin = float(ds.longitude.min().values)\\nds_xmax = float(ds.longitude.max().values)\\nds_xmin, ds_xmax, ds_ymin, ds_ymax\\n'"
      ]
     },
     "execution_count": 10,
     "metadata": {},
     "output_type": "execute_result"
    }
   ],
   "source": [
    "'''\n",
    "ds_ymin = float(ds.latitude.min().values)\n",
    "ds_ymax = float(ds.latitude.max().values)\n",
    "ds_xmin = float(ds.longitude.min().values)\n",
    "ds_xmax = float(ds.longitude.max().values)\n",
    "ds_xmin, ds_xmax, ds_ymin, ds_ymax\n",
    "'''"
   ]
  },
  {
   "cell_type": "code",
   "execution_count": 11,
   "id": "3494de9b-e74c-46eb-9857-fb4c02ebfab9",
   "metadata": {
    "tags": []
   },
   "outputs": [],
   "source": [
    "#clip ds on given bounds"
   ]
  },
  {
   "cell_type": "code",
   "execution_count": 12,
   "id": "2e2bbf37-9963-4ef3-86aa-ff427d1e5f9a",
   "metadata": {
    "tags": []
   },
   "outputs": [],
   "source": [
    "#ds_clip = ds.where((ds.latitude >= ymin) & (ds.latitude <= ymax) & (ds.longitude >= xmin) & (ds.longitude <= xmax), drop=True)"
   ]
  },
  {
   "cell_type": "code",
   "execution_count": null,
   "id": "0ac41f89-5997-4e59-9781-bccd0febbac7",
   "metadata": {
    "tags": []
   },
   "outputs": [],
   "source": []
  },
  {
   "cell_type": "code",
   "execution_count": 13,
   "id": "ae34b9d7-e407-4569-b034-7f8dbc5d1644",
   "metadata": {
    "tags": []
   },
   "outputs": [],
   "source": [
    "#6-9\n",
    "ds_clip = ds_40.sel(time=ds_40.time.dt.month.isin([6,7,8,9]))"
   ]
  },
  {
   "cell_type": "code",
   "execution_count": 14,
   "id": "ae7507cc-e0e9-449c-9ac6-466f58d751a7",
   "metadata": {
    "tags": []
   },
   "outputs": [
    {
     "data": {
      "text/html": [
       "<div><svg style=\"position: absolute; width: 0; height: 0; overflow: hidden\">\n",
       "<defs>\n",
       "<symbol id=\"icon-database\" viewBox=\"0 0 32 32\">\n",
       "<path d=\"M16 0c-8.837 0-16 2.239-16 5v4c0 2.761 7.163 5 16 5s16-2.239 16-5v-4c0-2.761-7.163-5-16-5z\"></path>\n",
       "<path d=\"M16 17c-8.837 0-16-2.239-16-5v6c0 2.761 7.163 5 16 5s16-2.239 16-5v-6c0 2.761-7.163 5-16 5z\"></path>\n",
       "<path d=\"M16 26c-8.837 0-16-2.239-16-5v6c0 2.761 7.163 5 16 5s16-2.239 16-5v-6c0 2.761-7.163 5-16 5z\"></path>\n",
       "</symbol>\n",
       "<symbol id=\"icon-file-text2\" viewBox=\"0 0 32 32\">\n",
       "<path d=\"M28.681 7.159c-0.694-0.947-1.662-2.053-2.724-3.116s-2.169-2.030-3.116-2.724c-1.612-1.182-2.393-1.319-2.841-1.319h-15.5c-1.378 0-2.5 1.121-2.5 2.5v27c0 1.378 1.122 2.5 2.5 2.5h23c1.378 0 2.5-1.122 2.5-2.5v-19.5c0-0.448-0.137-1.23-1.319-2.841zM24.543 5.457c0.959 0.959 1.712 1.825 2.268 2.543h-4.811v-4.811c0.718 0.556 1.584 1.309 2.543 2.268zM28 29.5c0 0.271-0.229 0.5-0.5 0.5h-23c-0.271 0-0.5-0.229-0.5-0.5v-27c0-0.271 0.229-0.5 0.5-0.5 0 0 15.499-0 15.5 0v7c0 0.552 0.448 1 1 1h7v19.5z\"></path>\n",
       "<path d=\"M23 26h-14c-0.552 0-1-0.448-1-1s0.448-1 1-1h14c0.552 0 1 0.448 1 1s-0.448 1-1 1z\"></path>\n",
       "<path d=\"M23 22h-14c-0.552 0-1-0.448-1-1s0.448-1 1-1h14c0.552 0 1 0.448 1 1s-0.448 1-1 1z\"></path>\n",
       "<path d=\"M23 18h-14c-0.552 0-1-0.448-1-1s0.448-1 1-1h14c0.552 0 1 0.448 1 1s-0.448 1-1 1z\"></path>\n",
       "</symbol>\n",
       "</defs>\n",
       "</svg>\n",
       "<style>/* CSS stylesheet for displaying xarray objects in jupyterlab.\n",
       " *\n",
       " */\n",
       "\n",
       ":root {\n",
       "  --xr-font-color0: var(--jp-content-font-color0, rgba(0, 0, 0, 1));\n",
       "  --xr-font-color2: var(--jp-content-font-color2, rgba(0, 0, 0, 0.54));\n",
       "  --xr-font-color3: var(--jp-content-font-color3, rgba(0, 0, 0, 0.38));\n",
       "  --xr-border-color: var(--jp-border-color2, #e0e0e0);\n",
       "  --xr-disabled-color: var(--jp-layout-color3, #bdbdbd);\n",
       "  --xr-background-color: var(--jp-layout-color0, white);\n",
       "  --xr-background-color-row-even: var(--jp-layout-color1, white);\n",
       "  --xr-background-color-row-odd: var(--jp-layout-color2, #eeeeee);\n",
       "}\n",
       "\n",
       "html[theme=dark],\n",
       "body[data-theme=dark],\n",
       "body.vscode-dark {\n",
       "  --xr-font-color0: rgba(255, 255, 255, 1);\n",
       "  --xr-font-color2: rgba(255, 255, 255, 0.54);\n",
       "  --xr-font-color3: rgba(255, 255, 255, 0.38);\n",
       "  --xr-border-color: #1F1F1F;\n",
       "  --xr-disabled-color: #515151;\n",
       "  --xr-background-color: #111111;\n",
       "  --xr-background-color-row-even: #111111;\n",
       "  --xr-background-color-row-odd: #313131;\n",
       "}\n",
       "\n",
       ".xr-wrap {\n",
       "  display: block !important;\n",
       "  min-width: 300px;\n",
       "  max-width: 700px;\n",
       "}\n",
       "\n",
       ".xr-text-repr-fallback {\n",
       "  /* fallback to plain text repr when CSS is not injected (untrusted notebook) */\n",
       "  display: none;\n",
       "}\n",
       "\n",
       ".xr-header {\n",
       "  padding-top: 6px;\n",
       "  padding-bottom: 6px;\n",
       "  margin-bottom: 4px;\n",
       "  border-bottom: solid 1px var(--xr-border-color);\n",
       "}\n",
       "\n",
       ".xr-header > div,\n",
       ".xr-header > ul {\n",
       "  display: inline;\n",
       "  margin-top: 0;\n",
       "  margin-bottom: 0;\n",
       "}\n",
       "\n",
       ".xr-obj-type,\n",
       ".xr-array-name {\n",
       "  margin-left: 2px;\n",
       "  margin-right: 10px;\n",
       "}\n",
       "\n",
       ".xr-obj-type {\n",
       "  color: var(--xr-font-color2);\n",
       "}\n",
       "\n",
       ".xr-sections {\n",
       "  padding-left: 0 !important;\n",
       "  display: grid;\n",
       "  grid-template-columns: 150px auto auto 1fr 20px 20px;\n",
       "}\n",
       "\n",
       ".xr-section-item {\n",
       "  display: contents;\n",
       "}\n",
       "\n",
       ".xr-section-item input {\n",
       "  display: none;\n",
       "}\n",
       "\n",
       ".xr-section-item input + label {\n",
       "  color: var(--xr-disabled-color);\n",
       "}\n",
       "\n",
       ".xr-section-item input:enabled + label {\n",
       "  cursor: pointer;\n",
       "  color: var(--xr-font-color2);\n",
       "}\n",
       "\n",
       ".xr-section-item input:enabled + label:hover {\n",
       "  color: var(--xr-font-color0);\n",
       "}\n",
       "\n",
       ".xr-section-summary {\n",
       "  grid-column: 1;\n",
       "  color: var(--xr-font-color2);\n",
       "  font-weight: 500;\n",
       "}\n",
       "\n",
       ".xr-section-summary > span {\n",
       "  display: inline-block;\n",
       "  padding-left: 0.5em;\n",
       "}\n",
       "\n",
       ".xr-section-summary-in:disabled + label {\n",
       "  color: var(--xr-font-color2);\n",
       "}\n",
       "\n",
       ".xr-section-summary-in + label:before {\n",
       "  display: inline-block;\n",
       "  content: '►';\n",
       "  font-size: 11px;\n",
       "  width: 15px;\n",
       "  text-align: center;\n",
       "}\n",
       "\n",
       ".xr-section-summary-in:disabled + label:before {\n",
       "  color: var(--xr-disabled-color);\n",
       "}\n",
       "\n",
       ".xr-section-summary-in:checked + label:before {\n",
       "  content: '▼';\n",
       "}\n",
       "\n",
       ".xr-section-summary-in:checked + label > span {\n",
       "  display: none;\n",
       "}\n",
       "\n",
       ".xr-section-summary,\n",
       ".xr-section-inline-details {\n",
       "  padding-top: 4px;\n",
       "  padding-bottom: 4px;\n",
       "}\n",
       "\n",
       ".xr-section-inline-details {\n",
       "  grid-column: 2 / -1;\n",
       "}\n",
       "\n",
       ".xr-section-details {\n",
       "  display: none;\n",
       "  grid-column: 1 / -1;\n",
       "  margin-bottom: 5px;\n",
       "}\n",
       "\n",
       ".xr-section-summary-in:checked ~ .xr-section-details {\n",
       "  display: contents;\n",
       "}\n",
       "\n",
       ".xr-array-wrap {\n",
       "  grid-column: 1 / -1;\n",
       "  display: grid;\n",
       "  grid-template-columns: 20px auto;\n",
       "}\n",
       "\n",
       ".xr-array-wrap > label {\n",
       "  grid-column: 1;\n",
       "  vertical-align: top;\n",
       "}\n",
       "\n",
       ".xr-preview {\n",
       "  color: var(--xr-font-color3);\n",
       "}\n",
       "\n",
       ".xr-array-preview,\n",
       ".xr-array-data {\n",
       "  padding: 0 5px !important;\n",
       "  grid-column: 2;\n",
       "}\n",
       "\n",
       ".xr-array-data,\n",
       ".xr-array-in:checked ~ .xr-array-preview {\n",
       "  display: none;\n",
       "}\n",
       "\n",
       ".xr-array-in:checked ~ .xr-array-data,\n",
       ".xr-array-preview {\n",
       "  display: inline-block;\n",
       "}\n",
       "\n",
       ".xr-dim-list {\n",
       "  display: inline-block !important;\n",
       "  list-style: none;\n",
       "  padding: 0 !important;\n",
       "  margin: 0;\n",
       "}\n",
       "\n",
       ".xr-dim-list li {\n",
       "  display: inline-block;\n",
       "  padding: 0;\n",
       "  margin: 0;\n",
       "}\n",
       "\n",
       ".xr-dim-list:before {\n",
       "  content: '(';\n",
       "}\n",
       "\n",
       ".xr-dim-list:after {\n",
       "  content: ')';\n",
       "}\n",
       "\n",
       ".xr-dim-list li:not(:last-child):after {\n",
       "  content: ',';\n",
       "  padding-right: 5px;\n",
       "}\n",
       "\n",
       ".xr-has-index {\n",
       "  font-weight: bold;\n",
       "}\n",
       "\n",
       ".xr-var-list,\n",
       ".xr-var-item {\n",
       "  display: contents;\n",
       "}\n",
       "\n",
       ".xr-var-item > div,\n",
       ".xr-var-item label,\n",
       ".xr-var-item > .xr-var-name span {\n",
       "  background-color: var(--xr-background-color-row-even);\n",
       "  margin-bottom: 0;\n",
       "}\n",
       "\n",
       ".xr-var-item > .xr-var-name:hover span {\n",
       "  padding-right: 5px;\n",
       "}\n",
       "\n",
       ".xr-var-list > li:nth-child(odd) > div,\n",
       ".xr-var-list > li:nth-child(odd) > label,\n",
       ".xr-var-list > li:nth-child(odd) > .xr-var-name span {\n",
       "  background-color: var(--xr-background-color-row-odd);\n",
       "}\n",
       "\n",
       ".xr-var-name {\n",
       "  grid-column: 1;\n",
       "}\n",
       "\n",
       ".xr-var-dims {\n",
       "  grid-column: 2;\n",
       "}\n",
       "\n",
       ".xr-var-dtype {\n",
       "  grid-column: 3;\n",
       "  text-align: right;\n",
       "  color: var(--xr-font-color2);\n",
       "}\n",
       "\n",
       ".xr-var-preview {\n",
       "  grid-column: 4;\n",
       "}\n",
       "\n",
       ".xr-index-preview {\n",
       "  grid-column: 2 / 5;\n",
       "  color: var(--xr-font-color2);\n",
       "}\n",
       "\n",
       ".xr-var-name,\n",
       ".xr-var-dims,\n",
       ".xr-var-dtype,\n",
       ".xr-preview,\n",
       ".xr-attrs dt {\n",
       "  white-space: nowrap;\n",
       "  overflow: hidden;\n",
       "  text-overflow: ellipsis;\n",
       "  padding-right: 10px;\n",
       "}\n",
       "\n",
       ".xr-var-name:hover,\n",
       ".xr-var-dims:hover,\n",
       ".xr-var-dtype:hover,\n",
       ".xr-attrs dt:hover {\n",
       "  overflow: visible;\n",
       "  width: auto;\n",
       "  z-index: 1;\n",
       "}\n",
       "\n",
       ".xr-var-attrs,\n",
       ".xr-var-data,\n",
       ".xr-index-data {\n",
       "  display: none;\n",
       "  background-color: var(--xr-background-color) !important;\n",
       "  padding-bottom: 5px !important;\n",
       "}\n",
       "\n",
       ".xr-var-attrs-in:checked ~ .xr-var-attrs,\n",
       ".xr-var-data-in:checked ~ .xr-var-data,\n",
       ".xr-index-data-in:checked ~ .xr-index-data {\n",
       "  display: block;\n",
       "}\n",
       "\n",
       ".xr-var-data > table {\n",
       "  float: right;\n",
       "}\n",
       "\n",
       ".xr-var-name span,\n",
       ".xr-var-data,\n",
       ".xr-index-name div,\n",
       ".xr-index-data,\n",
       ".xr-attrs {\n",
       "  padding-left: 25px !important;\n",
       "}\n",
       "\n",
       ".xr-attrs,\n",
       ".xr-var-attrs,\n",
       ".xr-var-data,\n",
       ".xr-index-data {\n",
       "  grid-column: 1 / -1;\n",
       "}\n",
       "\n",
       "dl.xr-attrs {\n",
       "  padding: 0;\n",
       "  margin: 0;\n",
       "  display: grid;\n",
       "  grid-template-columns: 125px auto;\n",
       "}\n",
       "\n",
       ".xr-attrs dt,\n",
       ".xr-attrs dd {\n",
       "  padding: 0;\n",
       "  margin: 0;\n",
       "  float: left;\n",
       "  padding-right: 10px;\n",
       "  width: auto;\n",
       "}\n",
       "\n",
       ".xr-attrs dt {\n",
       "  font-weight: normal;\n",
       "  grid-column: 1;\n",
       "}\n",
       "\n",
       ".xr-attrs dt:hover span {\n",
       "  display: inline-block;\n",
       "  background: var(--xr-background-color);\n",
       "  padding-right: 10px;\n",
       "}\n",
       "\n",
       ".xr-attrs dd {\n",
       "  grid-column: 2;\n",
       "  white-space: pre-wrap;\n",
       "  word-break: break-all;\n",
       "}\n",
       "\n",
       ".xr-icon-database,\n",
       ".xr-icon-file-text2,\n",
       ".xr-no-icon {\n",
       "  display: inline-block;\n",
       "  vertical-align: middle;\n",
       "  width: 1em;\n",
       "  height: 1.5em !important;\n",
       "  stroke-width: 0;\n",
       "  stroke: currentColor;\n",
       "  fill: currentColor;\n",
       "}\n",
       "</style><pre class='xr-text-repr-fallback'>&lt;xarray.Dataset&gt;\n",
       "Dimensions:      (time: 86, latitude: 668, longitude: 927)\n",
       "Coordinates:\n",
       "  * latitude     (latitude) float64 -25.0 -25.0 -25.01 ... -25.27 -25.27 -25.27\n",
       "  * longitude    (longitude) float64 31.27 31.27 31.27 ... 31.64 31.64 31.64\n",
       "    spatial_ref  int32 4326\n",
       "  * time         (time) datetime64[ns] 2019-06-03T16:30:37.017705 ... 2021-09...\n",
       "Data variables:\n",
       "    vv           (time, latitude, longitude) float32 dask.array&lt;chunksize=(86, 255, 255), meta=np.ndarray&gt;\n",
       "    vh           (time, latitude, longitude) float32 dask.array&lt;chunksize=(86, 255, 255), meta=np.ndarray&gt;\n",
       "    area         (time, latitude, longitude) float32 dask.array&lt;chunksize=(86, 255, 255), meta=np.ndarray&gt;</pre><div class='xr-wrap' style='display:none'><div class='xr-header'><div class='xr-obj-type'>xarray.Dataset</div></div><ul class='xr-sections'><li class='xr-section-item'><input id='section-dde499d9-15a7-44b5-ab01-a10c55aae578' class='xr-section-summary-in' type='checkbox' disabled ><label for='section-dde499d9-15a7-44b5-ab01-a10c55aae578' class='xr-section-summary'  title='Expand/collapse section'>Dimensions:</label><div class='xr-section-inline-details'><ul class='xr-dim-list'><li><span class='xr-has-index'>time</span>: 86</li><li><span class='xr-has-index'>latitude</span>: 668</li><li><span class='xr-has-index'>longitude</span>: 927</li></ul></div><div class='xr-section-details'></div></li><li class='xr-section-item'><input id='section-e5608501-58db-475b-8fa7-be4b63c8172d' class='xr-section-summary-in' type='checkbox'  checked><label for='section-e5608501-58db-475b-8fa7-be4b63c8172d' class='xr-section-summary' >Coordinates: <span>(4)</span></label><div class='xr-section-inline-details'></div><div class='xr-section-details'><ul class='xr-var-list'><li class='xr-var-item'><div class='xr-var-name'><span class='xr-has-index'>latitude</span></div><div class='xr-var-dims'>(latitude)</div><div class='xr-var-dtype'>float64</div><div class='xr-var-preview xr-preview'>-25.0 -25.0 ... -25.27 -25.27</div><input id='attrs-ff0e3b9d-34c6-4058-b9f4-f11867e85ee1' class='xr-var-attrs-in' type='checkbox' ><label for='attrs-ff0e3b9d-34c6-4058-b9f4-f11867e85ee1' title='Show/Hide attributes'><svg class='icon xr-icon-file-text2'><use xlink:href='#icon-file-text2'></use></svg></label><input id='data-749a737b-8884-4c07-973e-15d3f1846c88' class='xr-var-data-in' type='checkbox'><label for='data-749a737b-8884-4c07-973e-15d3f1846c88' title='Show/Hide data repr'><svg class='icon xr-icon-database'><use xlink:href='#icon-database'></use></svg></label><div class='xr-var-attrs'><dl class='xr-attrs'><dt><span>units :</span></dt><dd>degrees_north</dd><dt><span>resolution :</span></dt><dd>-0.0002</dd><dt><span>crs :</span></dt><dd>EPSG:4326</dd></dl></div><div class='xr-var-data'><pre>array([-25.0042, -25.0046, -25.005 , ..., -25.2702, -25.2706, -25.271 ])</pre></div></li><li class='xr-var-item'><div class='xr-var-name'><span class='xr-has-index'>longitude</span></div><div class='xr-var-dims'>(longitude)</div><div class='xr-var-dtype'>float64</div><div class='xr-var-preview xr-preview'>31.27 31.27 31.27 ... 31.64 31.64</div><input id='attrs-2dcc3b3b-5986-479b-9a8b-0798257359ef' class='xr-var-attrs-in' type='checkbox' ><label for='attrs-2dcc3b3b-5986-479b-9a8b-0798257359ef' title='Show/Hide attributes'><svg class='icon xr-icon-file-text2'><use xlink:href='#icon-file-text2'></use></svg></label><input id='data-e11509c7-aefa-4432-9139-fcae2373c313' class='xr-var-data-in' type='checkbox'><label for='data-e11509c7-aefa-4432-9139-fcae2373c313' title='Show/Hide data repr'><svg class='icon xr-icon-database'><use xlink:href='#icon-database'></use></svg></label><div class='xr-var-attrs'><dl class='xr-attrs'><dt><span>units :</span></dt><dd>degrees_east</dd><dt><span>resolution :</span></dt><dd>0.0002</dd><dt><span>crs :</span></dt><dd>EPSG:4326</dd></dl></div><div class='xr-var-data'><pre>array([31.2726, 31.273 , 31.2734, ..., 31.6422, 31.6426, 31.643 ])</pre></div></li><li class='xr-var-item'><div class='xr-var-name'><span>spatial_ref</span></div><div class='xr-var-dims'>()</div><div class='xr-var-dtype'>int32</div><div class='xr-var-preview xr-preview'>4326</div><input id='attrs-11724e40-78c9-47a0-896c-e2ecae175555' class='xr-var-attrs-in' type='checkbox' ><label for='attrs-11724e40-78c9-47a0-896c-e2ecae175555' title='Show/Hide attributes'><svg class='icon xr-icon-file-text2'><use xlink:href='#icon-file-text2'></use></svg></label><input id='data-7ccc9cac-d661-4ed7-bfef-1a5784153b30' class='xr-var-data-in' type='checkbox'><label for='data-7ccc9cac-d661-4ed7-bfef-1a5784153b30' title='Show/Hide data repr'><svg class='icon xr-icon-database'><use xlink:href='#icon-database'></use></svg></label><div class='xr-var-attrs'><dl class='xr-attrs'><dt><span>spatial_ref :</span></dt><dd>GEOGCRS[&quot;WGS 84&quot;,ENSEMBLE[&quot;World Geodetic System 1984 ensemble&quot;,MEMBER[&quot;World Geodetic System 1984 (Transit)&quot;],MEMBER[&quot;World Geodetic System 1984 (G730)&quot;],MEMBER[&quot;World Geodetic System 1984 (G873)&quot;],MEMBER[&quot;World Geodetic System 1984 (G1150)&quot;],MEMBER[&quot;World Geodetic System 1984 (G1674)&quot;],MEMBER[&quot;World Geodetic System 1984 (G1762)&quot;],MEMBER[&quot;World Geodetic System 1984 (G2139)&quot;],ELLIPSOID[&quot;WGS 84&quot;,6378137,298.257223563,LENGTHUNIT[&quot;metre&quot;,1]],ENSEMBLEACCURACY[2.0]],PRIMEM[&quot;Greenwich&quot;,0,ANGLEUNIT[&quot;degree&quot;,0.0174532925199433]],CS[ellipsoidal,2],AXIS[&quot;geodetic latitude (Lat)&quot;,north,ORDER[1],ANGLEUNIT[&quot;degree&quot;,0.0174532925199433]],AXIS[&quot;geodetic longitude (Lon)&quot;,east,ORDER[2],ANGLEUNIT[&quot;degree&quot;,0.0174532925199433]],USAGE[SCOPE[&quot;Horizontal component of 3D system.&quot;],AREA[&quot;World.&quot;],BBOX[-90,-180,90,180]],ID[&quot;EPSG&quot;,4326]]</dd><dt><span>crs_wkt :</span></dt><dd>GEOGCRS[&quot;WGS 84&quot;,ENSEMBLE[&quot;World Geodetic System 1984 ensemble&quot;,MEMBER[&quot;World Geodetic System 1984 (Transit)&quot;],MEMBER[&quot;World Geodetic System 1984 (G730)&quot;],MEMBER[&quot;World Geodetic System 1984 (G873)&quot;],MEMBER[&quot;World Geodetic System 1984 (G1150)&quot;],MEMBER[&quot;World Geodetic System 1984 (G1674)&quot;],MEMBER[&quot;World Geodetic System 1984 (G1762)&quot;],MEMBER[&quot;World Geodetic System 1984 (G2139)&quot;],ELLIPSOID[&quot;WGS 84&quot;,6378137,298.257223563,LENGTHUNIT[&quot;metre&quot;,1]],ENSEMBLEACCURACY[2.0]],PRIMEM[&quot;Greenwich&quot;,0,ANGLEUNIT[&quot;degree&quot;,0.0174532925199433]],CS[ellipsoidal,2],AXIS[&quot;geodetic latitude (Lat)&quot;,north,ORDER[1],ANGLEUNIT[&quot;degree&quot;,0.0174532925199433]],AXIS[&quot;geodetic longitude (Lon)&quot;,east,ORDER[2],ANGLEUNIT[&quot;degree&quot;,0.0174532925199433]],USAGE[SCOPE[&quot;Horizontal component of 3D system.&quot;],AREA[&quot;World.&quot;],BBOX[-90,-180,90,180]],ID[&quot;EPSG&quot;,4326]]</dd><dt><span>semi_major_axis :</span></dt><dd>6378137.0</dd><dt><span>semi_minor_axis :</span></dt><dd>6356752.314245179</dd><dt><span>inverse_flattening :</span></dt><dd>298.257223563</dd><dt><span>reference_ellipsoid_name :</span></dt><dd>WGS 84</dd><dt><span>longitude_of_prime_meridian :</span></dt><dd>0.0</dd><dt><span>prime_meridian_name :</span></dt><dd>Greenwich</dd><dt><span>geographic_crs_name :</span></dt><dd>WGS 84</dd><dt><span>horizontal_datum_name :</span></dt><dd>World Geodetic System 1984 ensemble</dd><dt><span>grid_mapping_name :</span></dt><dd>latitude_longitude</dd><dt><span>GeoTransform :</span></dt><dd>31.2724 0.0002 0.0 -25.004 0.0 -0.0002</dd></dl></div><div class='xr-var-data'><pre>array(4326, dtype=int32)</pre></div></li><li class='xr-var-item'><div class='xr-var-name'><span class='xr-has-index'>time</span></div><div class='xr-var-dims'>(time)</div><div class='xr-var-dtype'>datetime64[ns]</div><div class='xr-var-preview xr-preview'>2019-06-03T16:30:37.017705 ... 2...</div><input id='attrs-4ed55687-8d3a-4395-ab58-e44a365d5e80' class='xr-var-attrs-in' type='checkbox' disabled><label for='attrs-4ed55687-8d3a-4395-ab58-e44a365d5e80' title='Show/Hide attributes'><svg class='icon xr-icon-file-text2'><use xlink:href='#icon-file-text2'></use></svg></label><input id='data-5ecb4933-ec34-4160-9803-eecb198c8656' class='xr-var-data-in' type='checkbox'><label for='data-5ecb4933-ec34-4160-9803-eecb198c8656' title='Show/Hide data repr'><svg class='icon xr-icon-database'><use xlink:href='#icon-database'></use></svg></label><div class='xr-var-attrs'><dl class='xr-attrs'></dl></div><div class='xr-var-data'><pre>array([&#x27;2019-06-03T16:30:37.017705000&#x27;, &#x27;2019-06-05T03:17:49.396368000&#x27;,\n",
       "       &#x27;2019-06-15T16:30:37.543930000&#x27;, &#x27;2019-06-17T03:17:50.139961000&#x27;,\n",
       "       &#x27;2019-06-23T03:18:49.836835000&#x27;, &#x27;2019-06-27T16:30:38.363459000&#x27;,\n",
       "       &#x27;2019-07-05T03:18:50.611039000&#x27;, &#x27;2019-07-09T16:30:39.073845000&#x27;,\n",
       "       &#x27;2019-07-11T03:17:47.150916000&#x27;, &#x27;2019-07-17T03:18:51.407992000&#x27;,\n",
       "       &#x27;2019-07-21T16:30:39.966835000&#x27;, &#x27;2019-07-23T03:17:47.901817000&#x27;,\n",
       "       &#x27;2019-07-29T03:18:52.096366000&#x27;, &#x27;2019-08-02T16:30:40.657776000&#x27;,\n",
       "       &#x27;2019-08-04T03:17:48.585918000&#x27;, &#x27;2019-08-10T03:18:53.074017000&#x27;,\n",
       "       &#x27;2019-08-14T16:30:41.617634000&#x27;, &#x27;2019-08-16T03:17:49.437916000&#x27;,\n",
       "       &#x27;2019-08-22T03:18:53.699478000&#x27;, &#x27;2019-08-26T16:30:42.111468000&#x27;,\n",
       "       &#x27;2019-08-28T03:17:49.895031000&#x27;, &#x27;2019-09-03T03:18:54.201448000&#x27;,\n",
       "       &#x27;2019-09-07T16:30:42.689409000&#x27;, &#x27;2019-09-09T03:17:50.683160000&#x27;,\n",
       "       &#x27;2019-09-15T03:18:54.657808000&#x27;, &#x27;2019-09-19T16:30:43.089411000&#x27;,\n",
       "       &#x27;2019-09-21T03:17:51.028127000&#x27;, &#x27;2019-09-27T03:18:55.301978000&#x27;,\n",
       "       &#x27;2020-06-05T03:18:55.455743000&#x27;, &#x27;2020-06-09T16:30:44.129635000&#x27;,\n",
       "       &#x27;2020-06-11T03:17:52.028786000&#x27;, &#x27;2020-06-17T03:18:56.279960000&#x27;,\n",
       "       &#x27;2020-06-23T03:17:52.571066000&#x27;, &#x27;2020-06-29T03:18:56.870877000&#x27;,\n",
       "       &#x27;2020-07-03T16:30:45.345407000&#x27;, &#x27;2020-07-05T03:17:53.207885000&#x27;,\n",
       "       &#x27;2020-07-11T03:18:57.581894000&#x27;, &#x27;2020-07-15T16:30:46.047013000&#x27;,\n",
       "       &#x27;2020-07-17T03:17:53.899783000&#x27;, &#x27;2020-07-23T03:18:58.460268000&#x27;,\n",
       "       &#x27;2020-07-27T16:30:47.065854000&#x27;, &#x27;2020-07-29T03:17:54.795537000&#x27;,\n",
       "       &#x27;2020-08-04T03:18:59.097634000&#x27;, &#x27;2020-08-08T16:30:47.613419000&#x27;,\n",
       "       &#x27;2020-08-10T03:17:55.493658000&#x27;, &#x27;2020-08-16T03:18:59.772902000&#x27;,\n",
       "       &#x27;2020-08-20T16:30:48.230086000&#x27;, &#x27;2020-08-22T03:17:56.057219000&#x27;,\n",
       "       &#x27;2020-08-28T03:19:00.592016000&#x27;, &#x27;2020-09-01T16:30:48.978012000&#x27;,\n",
       "       &#x27;2020-09-03T03:17:56.727040000&#x27;, &#x27;2020-09-09T03:19:01.024915000&#x27;,\n",
       "       &#x27;2020-09-13T16:30:49.450965000&#x27;, &#x27;2020-09-15T03:17:57.245576000&#x27;,\n",
       "       &#x27;2020-09-21T03:19:01.414715000&#x27;, &#x27;2020-09-25T16:30:49.828132000&#x27;,\n",
       "       &#x27;2020-09-27T03:17:57.543855000&#x27;, &#x27;2021-06-04T16:30:49.567884000&#x27;,\n",
       "       &#x27;2021-06-06T03:17:57.536501000&#x27;, &#x27;2021-06-12T03:19:01.870305000&#x27;,\n",
       "       &#x27;2021-06-16T16:30:50.462800000&#x27;, &#x27;2021-06-18T03:17:58.209806000&#x27;,\n",
       "       &#x27;2021-06-24T03:19:02.433673000&#x27;, &#x27;2021-06-28T16:30:51.114183000&#x27;,\n",
       "       &#x27;2021-06-30T03:17:58.899045000&#x27;, &#x27;2021-07-06T03:19:03.207973000&#x27;,\n",
       "       &#x27;2021-07-10T16:30:51.770268000&#x27;, &#x27;2021-07-12T03:17:59.496907000&#x27;,\n",
       "       &#x27;2021-07-18T03:19:04.004712000&#x27;, &#x27;2021-07-22T16:30:52.491339000&#x27;,\n",
       "       &#x27;2021-07-24T03:18:00.311440000&#x27;, &#x27;2021-07-30T03:19:04.615757000&#x27;,\n",
       "       &#x27;2021-08-03T16:30:53.270015000&#x27;, &#x27;2021-08-05T03:18:00.921803000&#x27;,\n",
       "       &#x27;2021-08-15T16:30:53.810913000&#x27;, &#x27;2021-08-17T03:18:01.589077000&#x27;,\n",
       "       &#x27;2021-08-23T03:19:05.988049000&#x27;, &#x27;2021-08-27T16:30:54.453806000&#x27;,\n",
       "       &#x27;2021-08-29T03:18:02.276917000&#x27;, &#x27;2021-09-04T03:19:06.469792000&#x27;,\n",
       "       &#x27;2021-09-08T16:30:55.052628000&#x27;, &#x27;2021-09-10T03:18:02.772548000&#x27;,\n",
       "       &#x27;2021-09-16T03:19:06.978934000&#x27;, &#x27;2021-09-20T16:30:55.444015000&#x27;,\n",
       "       &#x27;2021-09-22T03:18:03.228509000&#x27;, &#x27;2021-09-28T03:19:07.417039000&#x27;],\n",
       "      dtype=&#x27;datetime64[ns]&#x27;)</pre></div></li></ul></div></li><li class='xr-section-item'><input id='section-a331e055-c41c-42d4-9497-af7f5f6bcb87' class='xr-section-summary-in' type='checkbox'  checked><label for='section-a331e055-c41c-42d4-9497-af7f5f6bcb87' class='xr-section-summary' >Data variables: <span>(3)</span></label><div class='xr-section-inline-details'></div><div class='xr-section-details'><ul class='xr-var-list'><li class='xr-var-item'><div class='xr-var-name'><span>vv</span></div><div class='xr-var-dims'>(time, latitude, longitude)</div><div class='xr-var-dtype'>float32</div><div class='xr-var-preview xr-preview'>dask.array&lt;chunksize=(86, 255, 255), meta=np.ndarray&gt;</div><input id='attrs-bcfc7621-bc6f-4897-bc51-d57c0de4db92' class='xr-var-attrs-in' type='checkbox' disabled><label for='attrs-bcfc7621-bc6f-4897-bc51-d57c0de4db92' title='Show/Hide attributes'><svg class='icon xr-icon-file-text2'><use xlink:href='#icon-file-text2'></use></svg></label><input id='data-41051177-b8cf-4353-a025-eb36cfae02ec' class='xr-var-data-in' type='checkbox'><label for='data-41051177-b8cf-4353-a025-eb36cfae02ec' title='Show/Hide data repr'><svg class='icon xr-icon-database'><use xlink:href='#icon-database'></use></svg></label><div class='xr-var-attrs'><dl class='xr-attrs'></dl></div><div class='xr-var-data'><table>\n",
       "    <tr>\n",
       "        <td>\n",
       "            <table style=\"border-collapse: collapse;\">\n",
       "                <thead>\n",
       "                    <tr>\n",
       "                        <td> </td>\n",
       "                        <th> Array </th>\n",
       "                        <th> Chunk </th>\n",
       "                    </tr>\n",
       "                </thead>\n",
       "                <tbody>\n",
       "                    \n",
       "                    <tr>\n",
       "                        <th> Bytes </th>\n",
       "                        <td> 203.15 MiB </td>\n",
       "                        <td> 21.33 MiB </td>\n",
       "                    </tr>\n",
       "                    \n",
       "                    <tr>\n",
       "                        <th> Shape </th>\n",
       "                        <td> (86, 668, 927) </td>\n",
       "                        <td> (86, 255, 255) </td>\n",
       "                    </tr>\n",
       "                    <tr>\n",
       "                        <th> Dask graph </th>\n",
       "                        <td colspan=\"2\"> 12 chunks in 8 graph layers </td>\n",
       "                    </tr>\n",
       "                    <tr>\n",
       "                        <th> Data type </th>\n",
       "                        <td colspan=\"2\"> float32 numpy.ndarray </td>\n",
       "                    </tr>\n",
       "                </tbody>\n",
       "            </table>\n",
       "        </td>\n",
       "        <td>\n",
       "        <svg width=\"202\" height=\"158\" style=\"stroke:rgb(0,0,0);stroke-width:1\" >\n",
       "\n",
       "  <!-- Horizontal lines -->\n",
       "  <line x1=\"10\" y1=\"0\" x2=\"32\" y2=\"22\" style=\"stroke-width:2\" />\n",
       "  <line x1=\"10\" y1=\"33\" x2=\"32\" y2=\"55\" />\n",
       "  <line x1=\"10\" y1=\"66\" x2=\"32\" y2=\"88\" />\n",
       "  <line x1=\"10\" y1=\"86\" x2=\"32\" y2=\"108\" style=\"stroke-width:2\" />\n",
       "\n",
       "  <!-- Vertical lines -->\n",
       "  <line x1=\"10\" y1=\"0\" x2=\"10\" y2=\"86\" style=\"stroke-width:2\" />\n",
       "  <line x1=\"32\" y1=\"22\" x2=\"32\" y2=\"108\" style=\"stroke-width:2\" />\n",
       "\n",
       "  <!-- Colored Rectangle -->\n",
       "  <polygon points=\"10.0,0.0 32.457088010885855,22.45708801088585 32.457088010885855,108.92957992027097 10.0,86.47249190938511\" style=\"fill:#ECB172A0;stroke-width:0\"/>\n",
       "\n",
       "  <!-- Horizontal lines -->\n",
       "  <line x1=\"10\" y1=\"0\" x2=\"130\" y2=\"0\" style=\"stroke-width:2\" />\n",
       "  <line x1=\"32\" y1=\"22\" x2=\"152\" y2=\"22\" style=\"stroke-width:2\" />\n",
       "\n",
       "  <!-- Vertical lines -->\n",
       "  <line x1=\"10\" y1=\"0\" x2=\"32\" y2=\"22\" style=\"stroke-width:2\" />\n",
       "  <line x1=\"43\" y1=\"0\" x2=\"65\" y2=\"22\" />\n",
       "  <line x1=\"76\" y1=\"0\" x2=\"98\" y2=\"22\" />\n",
       "  <line x1=\"109\" y1=\"0\" x2=\"131\" y2=\"22\" />\n",
       "  <line x1=\"130\" y1=\"0\" x2=\"152\" y2=\"22\" style=\"stroke-width:2\" />\n",
       "\n",
       "  <!-- Colored Rectangle -->\n",
       "  <polygon points=\"10.0,0.0 130.0,0.0 152.45708801088585,22.45708801088585 32.457088010885855,22.45708801088585\" style=\"fill:#ECB172A0;stroke-width:0\"/>\n",
       "\n",
       "  <!-- Horizontal lines -->\n",
       "  <line x1=\"32\" y1=\"22\" x2=\"152\" y2=\"22\" style=\"stroke-width:2\" />\n",
       "  <line x1=\"32\" y1=\"55\" x2=\"152\" y2=\"55\" />\n",
       "  <line x1=\"32\" y1=\"88\" x2=\"152\" y2=\"88\" />\n",
       "  <line x1=\"32\" y1=\"108\" x2=\"152\" y2=\"108\" style=\"stroke-width:2\" />\n",
       "\n",
       "  <!-- Vertical lines -->\n",
       "  <line x1=\"32\" y1=\"22\" x2=\"32\" y2=\"108\" style=\"stroke-width:2\" />\n",
       "  <line x1=\"65\" y1=\"22\" x2=\"65\" y2=\"108\" />\n",
       "  <line x1=\"98\" y1=\"22\" x2=\"98\" y2=\"108\" />\n",
       "  <line x1=\"131\" y1=\"22\" x2=\"131\" y2=\"108\" />\n",
       "  <line x1=\"152\" y1=\"22\" x2=\"152\" y2=\"108\" style=\"stroke-width:2\" />\n",
       "\n",
       "  <!-- Colored Rectangle -->\n",
       "  <polygon points=\"32.457088010885855,22.45708801088585 152.45708801088585,22.45708801088585 152.45708801088585,108.92957992027097 32.457088010885855,108.92957992027097\" style=\"fill:#ECB172A0;stroke-width:0\"/>\n",
       "\n",
       "  <!-- Text -->\n",
       "  <text x=\"92.457088\" y=\"128.929580\" font-size=\"1.0rem\" font-weight=\"100\" text-anchor=\"middle\" >927</text>\n",
       "  <text x=\"172.457088\" y=\"65.693334\" font-size=\"1.0rem\" font-weight=\"100\" text-anchor=\"middle\" transform=\"rotate(-90,172.457088,65.693334)\">668</text>\n",
       "  <text x=\"11.228544\" y=\"117.701036\" font-size=\"1.0rem\" font-weight=\"100\" text-anchor=\"middle\" transform=\"rotate(45,11.228544,117.701036)\">86</text>\n",
       "</svg>\n",
       "        </td>\n",
       "    </tr>\n",
       "</table></div></li><li class='xr-var-item'><div class='xr-var-name'><span>vh</span></div><div class='xr-var-dims'>(time, latitude, longitude)</div><div class='xr-var-dtype'>float32</div><div class='xr-var-preview xr-preview'>dask.array&lt;chunksize=(86, 255, 255), meta=np.ndarray&gt;</div><input id='attrs-8936425c-609d-4fa4-be53-81976aaaac69' class='xr-var-attrs-in' type='checkbox' disabled><label for='attrs-8936425c-609d-4fa4-be53-81976aaaac69' title='Show/Hide attributes'><svg class='icon xr-icon-file-text2'><use xlink:href='#icon-file-text2'></use></svg></label><input id='data-7f3902f2-524d-40c6-a0de-eb5822840e12' class='xr-var-data-in' type='checkbox'><label for='data-7f3902f2-524d-40c6-a0de-eb5822840e12' title='Show/Hide data repr'><svg class='icon xr-icon-database'><use xlink:href='#icon-database'></use></svg></label><div class='xr-var-attrs'><dl class='xr-attrs'></dl></div><div class='xr-var-data'><table>\n",
       "    <tr>\n",
       "        <td>\n",
       "            <table style=\"border-collapse: collapse;\">\n",
       "                <thead>\n",
       "                    <tr>\n",
       "                        <td> </td>\n",
       "                        <th> Array </th>\n",
       "                        <th> Chunk </th>\n",
       "                    </tr>\n",
       "                </thead>\n",
       "                <tbody>\n",
       "                    \n",
       "                    <tr>\n",
       "                        <th> Bytes </th>\n",
       "                        <td> 203.15 MiB </td>\n",
       "                        <td> 21.33 MiB </td>\n",
       "                    </tr>\n",
       "                    \n",
       "                    <tr>\n",
       "                        <th> Shape </th>\n",
       "                        <td> (86, 668, 927) </td>\n",
       "                        <td> (86, 255, 255) </td>\n",
       "                    </tr>\n",
       "                    <tr>\n",
       "                        <th> Dask graph </th>\n",
       "                        <td colspan=\"2\"> 12 chunks in 8 graph layers </td>\n",
       "                    </tr>\n",
       "                    <tr>\n",
       "                        <th> Data type </th>\n",
       "                        <td colspan=\"2\"> float32 numpy.ndarray </td>\n",
       "                    </tr>\n",
       "                </tbody>\n",
       "            </table>\n",
       "        </td>\n",
       "        <td>\n",
       "        <svg width=\"202\" height=\"158\" style=\"stroke:rgb(0,0,0);stroke-width:1\" >\n",
       "\n",
       "  <!-- Horizontal lines -->\n",
       "  <line x1=\"10\" y1=\"0\" x2=\"32\" y2=\"22\" style=\"stroke-width:2\" />\n",
       "  <line x1=\"10\" y1=\"33\" x2=\"32\" y2=\"55\" />\n",
       "  <line x1=\"10\" y1=\"66\" x2=\"32\" y2=\"88\" />\n",
       "  <line x1=\"10\" y1=\"86\" x2=\"32\" y2=\"108\" style=\"stroke-width:2\" />\n",
       "\n",
       "  <!-- Vertical lines -->\n",
       "  <line x1=\"10\" y1=\"0\" x2=\"10\" y2=\"86\" style=\"stroke-width:2\" />\n",
       "  <line x1=\"32\" y1=\"22\" x2=\"32\" y2=\"108\" style=\"stroke-width:2\" />\n",
       "\n",
       "  <!-- Colored Rectangle -->\n",
       "  <polygon points=\"10.0,0.0 32.457088010885855,22.45708801088585 32.457088010885855,108.92957992027097 10.0,86.47249190938511\" style=\"fill:#ECB172A0;stroke-width:0\"/>\n",
       "\n",
       "  <!-- Horizontal lines -->\n",
       "  <line x1=\"10\" y1=\"0\" x2=\"130\" y2=\"0\" style=\"stroke-width:2\" />\n",
       "  <line x1=\"32\" y1=\"22\" x2=\"152\" y2=\"22\" style=\"stroke-width:2\" />\n",
       "\n",
       "  <!-- Vertical lines -->\n",
       "  <line x1=\"10\" y1=\"0\" x2=\"32\" y2=\"22\" style=\"stroke-width:2\" />\n",
       "  <line x1=\"43\" y1=\"0\" x2=\"65\" y2=\"22\" />\n",
       "  <line x1=\"76\" y1=\"0\" x2=\"98\" y2=\"22\" />\n",
       "  <line x1=\"109\" y1=\"0\" x2=\"131\" y2=\"22\" />\n",
       "  <line x1=\"130\" y1=\"0\" x2=\"152\" y2=\"22\" style=\"stroke-width:2\" />\n",
       "\n",
       "  <!-- Colored Rectangle -->\n",
       "  <polygon points=\"10.0,0.0 130.0,0.0 152.45708801088585,22.45708801088585 32.457088010885855,22.45708801088585\" style=\"fill:#ECB172A0;stroke-width:0\"/>\n",
       "\n",
       "  <!-- Horizontal lines -->\n",
       "  <line x1=\"32\" y1=\"22\" x2=\"152\" y2=\"22\" style=\"stroke-width:2\" />\n",
       "  <line x1=\"32\" y1=\"55\" x2=\"152\" y2=\"55\" />\n",
       "  <line x1=\"32\" y1=\"88\" x2=\"152\" y2=\"88\" />\n",
       "  <line x1=\"32\" y1=\"108\" x2=\"152\" y2=\"108\" style=\"stroke-width:2\" />\n",
       "\n",
       "  <!-- Vertical lines -->\n",
       "  <line x1=\"32\" y1=\"22\" x2=\"32\" y2=\"108\" style=\"stroke-width:2\" />\n",
       "  <line x1=\"65\" y1=\"22\" x2=\"65\" y2=\"108\" />\n",
       "  <line x1=\"98\" y1=\"22\" x2=\"98\" y2=\"108\" />\n",
       "  <line x1=\"131\" y1=\"22\" x2=\"131\" y2=\"108\" />\n",
       "  <line x1=\"152\" y1=\"22\" x2=\"152\" y2=\"108\" style=\"stroke-width:2\" />\n",
       "\n",
       "  <!-- Colored Rectangle -->\n",
       "  <polygon points=\"32.457088010885855,22.45708801088585 152.45708801088585,22.45708801088585 152.45708801088585,108.92957992027097 32.457088010885855,108.92957992027097\" style=\"fill:#ECB172A0;stroke-width:0\"/>\n",
       "\n",
       "  <!-- Text -->\n",
       "  <text x=\"92.457088\" y=\"128.929580\" font-size=\"1.0rem\" font-weight=\"100\" text-anchor=\"middle\" >927</text>\n",
       "  <text x=\"172.457088\" y=\"65.693334\" font-size=\"1.0rem\" font-weight=\"100\" text-anchor=\"middle\" transform=\"rotate(-90,172.457088,65.693334)\">668</text>\n",
       "  <text x=\"11.228544\" y=\"117.701036\" font-size=\"1.0rem\" font-weight=\"100\" text-anchor=\"middle\" transform=\"rotate(45,11.228544,117.701036)\">86</text>\n",
       "</svg>\n",
       "        </td>\n",
       "    </tr>\n",
       "</table></div></li><li class='xr-var-item'><div class='xr-var-name'><span>area</span></div><div class='xr-var-dims'>(time, latitude, longitude)</div><div class='xr-var-dtype'>float32</div><div class='xr-var-preview xr-preview'>dask.array&lt;chunksize=(86, 255, 255), meta=np.ndarray&gt;</div><input id='attrs-92602b8c-a124-490d-9722-45d40f004b5f' class='xr-var-attrs-in' type='checkbox' disabled><label for='attrs-92602b8c-a124-490d-9722-45d40f004b5f' title='Show/Hide attributes'><svg class='icon xr-icon-file-text2'><use xlink:href='#icon-file-text2'></use></svg></label><input id='data-8d91dd19-cd07-493a-bf73-814e8e85466c' class='xr-var-data-in' type='checkbox'><label for='data-8d91dd19-cd07-493a-bf73-814e8e85466c' title='Show/Hide data repr'><svg class='icon xr-icon-database'><use xlink:href='#icon-database'></use></svg></label><div class='xr-var-attrs'><dl class='xr-attrs'></dl></div><div class='xr-var-data'><table>\n",
       "    <tr>\n",
       "        <td>\n",
       "            <table style=\"border-collapse: collapse;\">\n",
       "                <thead>\n",
       "                    <tr>\n",
       "                        <td> </td>\n",
       "                        <th> Array </th>\n",
       "                        <th> Chunk </th>\n",
       "                    </tr>\n",
       "                </thead>\n",
       "                <tbody>\n",
       "                    \n",
       "                    <tr>\n",
       "                        <th> Bytes </th>\n",
       "                        <td> 203.15 MiB </td>\n",
       "                        <td> 21.33 MiB </td>\n",
       "                    </tr>\n",
       "                    \n",
       "                    <tr>\n",
       "                        <th> Shape </th>\n",
       "                        <td> (86, 668, 927) </td>\n",
       "                        <td> (86, 255, 255) </td>\n",
       "                    </tr>\n",
       "                    <tr>\n",
       "                        <th> Dask graph </th>\n",
       "                        <td colspan=\"2\"> 12 chunks in 8 graph layers </td>\n",
       "                    </tr>\n",
       "                    <tr>\n",
       "                        <th> Data type </th>\n",
       "                        <td colspan=\"2\"> float32 numpy.ndarray </td>\n",
       "                    </tr>\n",
       "                </tbody>\n",
       "            </table>\n",
       "        </td>\n",
       "        <td>\n",
       "        <svg width=\"202\" height=\"158\" style=\"stroke:rgb(0,0,0);stroke-width:1\" >\n",
       "\n",
       "  <!-- Horizontal lines -->\n",
       "  <line x1=\"10\" y1=\"0\" x2=\"32\" y2=\"22\" style=\"stroke-width:2\" />\n",
       "  <line x1=\"10\" y1=\"33\" x2=\"32\" y2=\"55\" />\n",
       "  <line x1=\"10\" y1=\"66\" x2=\"32\" y2=\"88\" />\n",
       "  <line x1=\"10\" y1=\"86\" x2=\"32\" y2=\"108\" style=\"stroke-width:2\" />\n",
       "\n",
       "  <!-- Vertical lines -->\n",
       "  <line x1=\"10\" y1=\"0\" x2=\"10\" y2=\"86\" style=\"stroke-width:2\" />\n",
       "  <line x1=\"32\" y1=\"22\" x2=\"32\" y2=\"108\" style=\"stroke-width:2\" />\n",
       "\n",
       "  <!-- Colored Rectangle -->\n",
       "  <polygon points=\"10.0,0.0 32.457088010885855,22.45708801088585 32.457088010885855,108.92957992027097 10.0,86.47249190938511\" style=\"fill:#ECB172A0;stroke-width:0\"/>\n",
       "\n",
       "  <!-- Horizontal lines -->\n",
       "  <line x1=\"10\" y1=\"0\" x2=\"130\" y2=\"0\" style=\"stroke-width:2\" />\n",
       "  <line x1=\"32\" y1=\"22\" x2=\"152\" y2=\"22\" style=\"stroke-width:2\" />\n",
       "\n",
       "  <!-- Vertical lines -->\n",
       "  <line x1=\"10\" y1=\"0\" x2=\"32\" y2=\"22\" style=\"stroke-width:2\" />\n",
       "  <line x1=\"43\" y1=\"0\" x2=\"65\" y2=\"22\" />\n",
       "  <line x1=\"76\" y1=\"0\" x2=\"98\" y2=\"22\" />\n",
       "  <line x1=\"109\" y1=\"0\" x2=\"131\" y2=\"22\" />\n",
       "  <line x1=\"130\" y1=\"0\" x2=\"152\" y2=\"22\" style=\"stroke-width:2\" />\n",
       "\n",
       "  <!-- Colored Rectangle -->\n",
       "  <polygon points=\"10.0,0.0 130.0,0.0 152.45708801088585,22.45708801088585 32.457088010885855,22.45708801088585\" style=\"fill:#ECB172A0;stroke-width:0\"/>\n",
       "\n",
       "  <!-- Horizontal lines -->\n",
       "  <line x1=\"32\" y1=\"22\" x2=\"152\" y2=\"22\" style=\"stroke-width:2\" />\n",
       "  <line x1=\"32\" y1=\"55\" x2=\"152\" y2=\"55\" />\n",
       "  <line x1=\"32\" y1=\"88\" x2=\"152\" y2=\"88\" />\n",
       "  <line x1=\"32\" y1=\"108\" x2=\"152\" y2=\"108\" style=\"stroke-width:2\" />\n",
       "\n",
       "  <!-- Vertical lines -->\n",
       "  <line x1=\"32\" y1=\"22\" x2=\"32\" y2=\"108\" style=\"stroke-width:2\" />\n",
       "  <line x1=\"65\" y1=\"22\" x2=\"65\" y2=\"108\" />\n",
       "  <line x1=\"98\" y1=\"22\" x2=\"98\" y2=\"108\" />\n",
       "  <line x1=\"131\" y1=\"22\" x2=\"131\" y2=\"108\" />\n",
       "  <line x1=\"152\" y1=\"22\" x2=\"152\" y2=\"108\" style=\"stroke-width:2\" />\n",
       "\n",
       "  <!-- Colored Rectangle -->\n",
       "  <polygon points=\"32.457088010885855,22.45708801088585 152.45708801088585,22.45708801088585 152.45708801088585,108.92957992027097 32.457088010885855,108.92957992027097\" style=\"fill:#ECB172A0;stroke-width:0\"/>\n",
       "\n",
       "  <!-- Text -->\n",
       "  <text x=\"92.457088\" y=\"128.929580\" font-size=\"1.0rem\" font-weight=\"100\" text-anchor=\"middle\" >927</text>\n",
       "  <text x=\"172.457088\" y=\"65.693334\" font-size=\"1.0rem\" font-weight=\"100\" text-anchor=\"middle\" transform=\"rotate(-90,172.457088,65.693334)\">668</text>\n",
       "  <text x=\"11.228544\" y=\"117.701036\" font-size=\"1.0rem\" font-weight=\"100\" text-anchor=\"middle\" transform=\"rotate(45,11.228544,117.701036)\">86</text>\n",
       "</svg>\n",
       "        </td>\n",
       "    </tr>\n",
       "</table></div></li></ul></div></li><li class='xr-section-item'><input id='section-c781e5e7-08f1-4277-8839-f1ae4b1d3474' class='xr-section-summary-in' type='checkbox'  ><label for='section-c781e5e7-08f1-4277-8839-f1ae4b1d3474' class='xr-section-summary' >Indexes: <span>(3)</span></label><div class='xr-section-inline-details'></div><div class='xr-section-details'><ul class='xr-var-list'><li class='xr-var-item'><div class='xr-index-name'><div>latitude</div></div><div class='xr-index-preview'>PandasIndex</div><div></div><input id='index-a6d68e09-c7ef-4436-b207-9267a9ba9f83' class='xr-index-data-in' type='checkbox'/><label for='index-a6d68e09-c7ef-4436-b207-9267a9ba9f83' title='Show/Hide index repr'><svg class='icon xr-icon-database'><use xlink:href='#icon-database'></use></svg></label><div class='xr-index-data'><pre>PandasIndex(Index([           -25.0042,            -25.0046, -25.005000000000003,\n",
       "                  -25.0054,            -25.0058,            -25.0062,\n",
       "       -25.006600000000002,             -25.007,            -25.0074,\n",
       "                  -25.0078,\n",
       "       ...\n",
       "       -25.267400000000002,            -25.2678,            -25.2682,\n",
       "                  -25.2686, -25.269000000000002,            -25.2694,\n",
       "                  -25.2698, -25.270200000000003,            -25.2706,\n",
       "                   -25.271],\n",
       "      dtype=&#x27;float64&#x27;, name=&#x27;latitude&#x27;, length=668))</pre></div></li><li class='xr-var-item'><div class='xr-index-name'><div>longitude</div></div><div class='xr-index-preview'>PandasIndex</div><div></div><input id='index-5b73d2da-4901-4502-83f4-29d6647dac57' class='xr-index-data-in' type='checkbox'/><label for='index-5b73d2da-4901-4502-83f4-29d6647dac57' title='Show/Hide index repr'><svg class='icon xr-icon-database'><use xlink:href='#icon-database'></use></svg></label><div class='xr-index-data'><pre>PandasIndex(Index([           31.2726,             31.273, 31.273400000000002,\n",
       "                  31.2738,            31.2742,            31.2746,\n",
       "       31.275000000000002,            31.2754,            31.2758,\n",
       "                  31.2762,\n",
       "       ...\n",
       "       31.639400000000002,            31.6398,            31.6402,\n",
       "                  31.6406, 31.641000000000002,            31.6414,\n",
       "                  31.6418, 31.642200000000003,            31.6426,\n",
       "                   31.643],\n",
       "      dtype=&#x27;float64&#x27;, name=&#x27;longitude&#x27;, length=927))</pre></div></li><li class='xr-var-item'><div class='xr-index-name'><div>time</div></div><div class='xr-index-preview'>PandasIndex</div><div></div><input id='index-d3f3a364-fb48-49d6-b9f4-093a149381ca' class='xr-index-data-in' type='checkbox'/><label for='index-d3f3a364-fb48-49d6-b9f4-093a149381ca' title='Show/Hide index repr'><svg class='icon xr-icon-database'><use xlink:href='#icon-database'></use></svg></label><div class='xr-index-data'><pre>PandasIndex(DatetimeIndex([&#x27;2019-06-03 16:30:37.017705&#x27;, &#x27;2019-06-05 03:17:49.396368&#x27;,\n",
       "               &#x27;2019-06-15 16:30:37.543930&#x27;, &#x27;2019-06-17 03:17:50.139961&#x27;,\n",
       "               &#x27;2019-06-23 03:18:49.836835&#x27;, &#x27;2019-06-27 16:30:38.363459&#x27;,\n",
       "               &#x27;2019-07-05 03:18:50.611039&#x27;, &#x27;2019-07-09 16:30:39.073845&#x27;,\n",
       "               &#x27;2019-07-11 03:17:47.150916&#x27;, &#x27;2019-07-17 03:18:51.407992&#x27;,\n",
       "               &#x27;2019-07-21 16:30:39.966835&#x27;, &#x27;2019-07-23 03:17:47.901817&#x27;,\n",
       "               &#x27;2019-07-29 03:18:52.096366&#x27;, &#x27;2019-08-02 16:30:40.657776&#x27;,\n",
       "               &#x27;2019-08-04 03:17:48.585918&#x27;, &#x27;2019-08-10 03:18:53.074017&#x27;,\n",
       "               &#x27;2019-08-14 16:30:41.617634&#x27;, &#x27;2019-08-16 03:17:49.437916&#x27;,\n",
       "               &#x27;2019-08-22 03:18:53.699478&#x27;, &#x27;2019-08-26 16:30:42.111468&#x27;,\n",
       "               &#x27;2019-08-28 03:17:49.895031&#x27;, &#x27;2019-09-03 03:18:54.201448&#x27;,\n",
       "               &#x27;2019-09-07 16:30:42.689409&#x27;, &#x27;2019-09-09 03:17:50.683160&#x27;,\n",
       "               &#x27;2019-09-15 03:18:54.657808&#x27;, &#x27;2019-09-19 16:30:43.089411&#x27;,\n",
       "               &#x27;2019-09-21 03:17:51.028127&#x27;, &#x27;2019-09-27 03:18:55.301978&#x27;,\n",
       "               &#x27;2020-06-05 03:18:55.455743&#x27;, &#x27;2020-06-09 16:30:44.129635&#x27;,\n",
       "               &#x27;2020-06-11 03:17:52.028786&#x27;, &#x27;2020-06-17 03:18:56.279960&#x27;,\n",
       "               &#x27;2020-06-23 03:17:52.571066&#x27;, &#x27;2020-06-29 03:18:56.870877&#x27;,\n",
       "               &#x27;2020-07-03 16:30:45.345407&#x27;, &#x27;2020-07-05 03:17:53.207885&#x27;,\n",
       "               &#x27;2020-07-11 03:18:57.581894&#x27;, &#x27;2020-07-15 16:30:46.047013&#x27;,\n",
       "               &#x27;2020-07-17 03:17:53.899783&#x27;, &#x27;2020-07-23 03:18:58.460268&#x27;,\n",
       "               &#x27;2020-07-27 16:30:47.065854&#x27;, &#x27;2020-07-29 03:17:54.795537&#x27;,\n",
       "               &#x27;2020-08-04 03:18:59.097634&#x27;, &#x27;2020-08-08 16:30:47.613419&#x27;,\n",
       "               &#x27;2020-08-10 03:17:55.493658&#x27;, &#x27;2020-08-16 03:18:59.772902&#x27;,\n",
       "               &#x27;2020-08-20 16:30:48.230086&#x27;, &#x27;2020-08-22 03:17:56.057219&#x27;,\n",
       "               &#x27;2020-08-28 03:19:00.592016&#x27;, &#x27;2020-09-01 16:30:48.978012&#x27;,\n",
       "               &#x27;2020-09-03 03:17:56.727040&#x27;, &#x27;2020-09-09 03:19:01.024915&#x27;,\n",
       "               &#x27;2020-09-13 16:30:49.450965&#x27;, &#x27;2020-09-15 03:17:57.245576&#x27;,\n",
       "               &#x27;2020-09-21 03:19:01.414715&#x27;, &#x27;2020-09-25 16:30:49.828132&#x27;,\n",
       "               &#x27;2020-09-27 03:17:57.543855&#x27;, &#x27;2021-06-04 16:30:49.567884&#x27;,\n",
       "               &#x27;2021-06-06 03:17:57.536501&#x27;, &#x27;2021-06-12 03:19:01.870305&#x27;,\n",
       "               &#x27;2021-06-16 16:30:50.462800&#x27;, &#x27;2021-06-18 03:17:58.209806&#x27;,\n",
       "               &#x27;2021-06-24 03:19:02.433673&#x27;, &#x27;2021-06-28 16:30:51.114183&#x27;,\n",
       "               &#x27;2021-06-30 03:17:58.899045&#x27;, &#x27;2021-07-06 03:19:03.207973&#x27;,\n",
       "               &#x27;2021-07-10 16:30:51.770268&#x27;, &#x27;2021-07-12 03:17:59.496907&#x27;,\n",
       "               &#x27;2021-07-18 03:19:04.004712&#x27;, &#x27;2021-07-22 16:30:52.491339&#x27;,\n",
       "               &#x27;2021-07-24 03:18:00.311440&#x27;, &#x27;2021-07-30 03:19:04.615757&#x27;,\n",
       "               &#x27;2021-08-03 16:30:53.270015&#x27;, &#x27;2021-08-05 03:18:00.921803&#x27;,\n",
       "               &#x27;2021-08-15 16:30:53.810913&#x27;, &#x27;2021-08-17 03:18:01.589077&#x27;,\n",
       "               &#x27;2021-08-23 03:19:05.988049&#x27;, &#x27;2021-08-27 16:30:54.453806&#x27;,\n",
       "               &#x27;2021-08-29 03:18:02.276917&#x27;, &#x27;2021-09-04 03:19:06.469792&#x27;,\n",
       "               &#x27;2021-09-08 16:30:55.052628&#x27;, &#x27;2021-09-10 03:18:02.772548&#x27;,\n",
       "               &#x27;2021-09-16 03:19:06.978934&#x27;, &#x27;2021-09-20 16:30:55.444015&#x27;,\n",
       "               &#x27;2021-09-22 03:18:03.228509&#x27;, &#x27;2021-09-28 03:19:07.417039&#x27;],\n",
       "              dtype=&#x27;datetime64[ns]&#x27;, name=&#x27;time&#x27;, freq=None))</pre></div></li></ul></div></li><li class='xr-section-item'><input id='section-5c1728f6-f644-46da-aa40-e13fcc45dc13' class='xr-section-summary-in' type='checkbox' disabled ><label for='section-5c1728f6-f644-46da-aa40-e13fcc45dc13' class='xr-section-summary'  title='Expand/collapse section'>Attributes: <span>(0)</span></label><div class='xr-section-inline-details'></div><div class='xr-section-details'><dl class='xr-attrs'></dl></div></li></ul></div></div>"
      ],
      "text/plain": [
       "<xarray.Dataset>\n",
       "Dimensions:      (time: 86, latitude: 668, longitude: 927)\n",
       "Coordinates:\n",
       "  * latitude     (latitude) float64 -25.0 -25.0 -25.01 ... -25.27 -25.27 -25.27\n",
       "  * longitude    (longitude) float64 31.27 31.27 31.27 ... 31.64 31.64 31.64\n",
       "    spatial_ref  int32 4326\n",
       "  * time         (time) datetime64[ns] 2019-06-03T16:30:37.017705 ... 2021-09...\n",
       "Data variables:\n",
       "    vv           (time, latitude, longitude) float32 dask.array<chunksize=(86, 255, 255), meta=np.ndarray>\n",
       "    vh           (time, latitude, longitude) float32 dask.array<chunksize=(86, 255, 255), meta=np.ndarray>\n",
       "    area         (time, latitude, longitude) float32 dask.array<chunksize=(86, 255, 255), meta=np.ndarray>"
      ]
     },
     "execution_count": 14,
     "metadata": {},
     "output_type": "execute_result"
    }
   ],
   "source": [
    "ds_clip\n"
   ]
  },
  {
   "cell_type": "code",
   "execution_count": null,
   "id": "afbefe9e-3d73-4e6b-8ca9-c7a7074a3c3f",
   "metadata": {
    "tags": []
   },
   "outputs": [],
   "source": []
  },
  {
   "cell_type": "code",
   "execution_count": null,
   "id": "a4454822-b035-4b2a-a77e-00d38d9a618a",
   "metadata": {
    "tags": []
   },
   "outputs": [],
   "source": []
  },
  {
   "cell_type": "code",
   "execution_count": null,
   "id": "f2f749cb-aadc-4b11-ad93-3196fda0507b",
   "metadata": {
    "tags": []
   },
   "outputs": [],
   "source": []
  },
  {
   "cell_type": "code",
   "execution_count": null,
   "id": "c59d16df-ca71-4e48-be3c-2adbc0e48d74",
   "metadata": {},
   "outputs": [],
   "source": []
  },
  {
   "cell_type": "code",
   "execution_count": 26,
   "id": "5a2b8dc6-62ea-4c1e-814f-ff8929619d9a",
   "metadata": {
    "tags": []
   },
   "outputs": [],
   "source": [
    "ds_month_min = ds_clip.resample(time='1M').min(dim='time')\n",
    "ds_month_max = ds_clip.resample(time='1M').max(dim='time')\n",
    "ds_month_mean = ds_clip.resample(time='1M').mean(dim='time')\n",
    "ds_month_median = ds_clip.resample(time='1M').median(dim='time')\n",
    "ds_month_std = ds_clip.resample(time='1M').std(dim='time')\n",
    "\n",
    "\n",
    "ds_month_quantiles = ds_clip.resample(time='1M').quantile(dim='time', q=[0.05, 0.25, 0.5, 0.75, 0.95])\n"
   ]
  },
  {
   "cell_type": "code",
   "execution_count": 18,
   "id": "0b443796-10a8-4433-8f83-34f7f1874600",
   "metadata": {
    "tags": []
   },
   "outputs": [],
   "source": [
    "#from sdc.utils import ds_nanquantiles\n",
    "#ds_month_quantiles = ds_nanquantiles(ds = ds_clip, quantiles=(0.05,0.25,0.75,0.95))\n",
    "\n",
    "\n"
   ]
  },
  {
   "cell_type": "code",
   "execution_count": null,
   "id": "7416e593-d99b-4173-b6f0-e465d76c0aac",
   "metadata": {
    "tags": []
   },
   "outputs": [],
   "source": []
  },
  {
   "cell_type": "code",
   "execution_count": null,
   "id": "6bd320c1-9b0b-4c05-98a2-3f40694fbe3d",
   "metadata": {
    "tags": []
   },
   "outputs": [],
   "source": []
  },
  {
   "cell_type": "code",
   "execution_count": 12,
   "id": "1f94fa9c-33fc-412d-930c-e9764aee72b2",
   "metadata": {
    "tags": []
   },
   "outputs": [],
   "source": [
    "### berechne RVI\n",
    "ds_clip_rvi = (4*ds_clip.vh)/(ds_clip.vv+ds_clip.vh)"
   ]
  },
  {
   "cell_type": "code",
   "execution_count": 13,
   "id": "8e2190ad-cdfe-4f97-92db-6d3146532fed",
   "metadata": {
    "tags": []
   },
   "outputs": [],
   "source": [
    "#features for RVI\n",
    "ds_month_rvi_min = ds_clip_rvi.resample(time='1M').min(dim='time')\n",
    "ds_month_rvi_max = ds_clip_rvi.resample(time='1M').max(dim='time')\n",
    "ds_month_rvi_mean = ds_clip_rvi.resample(time='1M').mean(dim='time')\n",
    "ds_month_rvi_median = ds_clip_rvi.resample(time='1M').median(dim='time')\n",
    "ds_month_rvi_std = ds_clip_rvi.resample(time='1M').std(dim='time')\n",
    "ds_month_rvi_quantiles = ds_clip_rvi.resample(time='1M').quantile(dim='time', q=[0.05, 0.25, 0.5, 0.75, 0.95])"
   ]
  },
  {
   "cell_type": "code",
   "execution_count": null,
   "id": "fb90b2cb-c864-4f9c-9bbe-37b2690a5219",
   "metadata": {
    "tags": []
   },
   "outputs": [],
   "source": []
  },
  {
   "cell_type": "code",
   "execution_count": null,
   "id": "baf949cf-84ad-42fe-a391-a1a3c686e885",
   "metadata": {
    "tags": []
   },
   "outputs": [],
   "source": []
  },
  {
   "cell_type": "code",
   "execution_count": 14,
   "id": "b438bf04-4581-4732-9614-97962093df1b",
   "metadata": {
    "tags": []
   },
   "outputs": [],
   "source": [
    "#ds_clip_rvi.isel(time=0).values"
   ]
  },
  {
   "cell_type": "code",
   "execution_count": 15,
   "id": "53c35fee-c3e1-4c44-8f28-84ec2015e204",
   "metadata": {
    "tags": []
   },
   "outputs": [],
   "source": [
    "#ds_clip_rvi.isel(time=0).plot()"
   ]
  },
  {
   "cell_type": "code",
   "execution_count": null,
   "id": "d5df8835-afb3-47cb-a624-1938d791c4a7",
   "metadata": {
    "tags": []
   },
   "outputs": [],
   "source": []
  },
  {
   "cell_type": "code",
   "execution_count": null,
   "id": "edb718ae-669b-4937-b17b-dbfd89f2eaed",
   "metadata": {
    "tags": []
   },
   "outputs": [],
   "source": []
  },
  {
   "cell_type": "code",
   "execution_count": 16,
   "id": "6ccd0601-871d-4642-af19-01120ebf7cd2",
   "metadata": {
    "tags": []
   },
   "outputs": [
    {
     "name": "stdout",
     "output_type": "stream",
     "text": [
      "CPU times: user 0 ns, sys: 28 µs, total: 28 µs\n",
      "Wall time: 54.6 µs\n"
     ]
    }
   ],
   "source": [
    "%%time\n",
    "#list_min_vv = []\n",
    "#list_min_vh = []\n",
    "#list_pix = []\n",
    "def get_pixel_lists(ds):\n",
    "    liste = []\n",
    "    for i in range(len(gdf_recl_lo)):\n",
    "        ex = gdf_recl_lo[\"geometry\"].iloc[i].coords[0]\n",
    "        pix = ds.sel(latitude=ex[0], longitude=ex[1], method='nearest')#.vv.compute()\n",
    "        time = gdf_recl_lo[\"Acquisition Time\"].iloc[i]\n",
    "        liste.append(pix.sel(time=time, method='nearest'))#.compute()))\n",
    "        liste[i] = float(liste[i])\n",
    "    return liste"
   ]
  },
  {
   "cell_type": "code",
   "execution_count": null,
   "id": "f4d29b65-b67e-4e5f-8262-19b8a8afc0a1",
   "metadata": {
    "tags": []
   },
   "outputs": [],
   "source": []
  },
  {
   "cell_type": "code",
   "execution_count": null,
   "id": "bda72b58-4b6c-4e72-becd-eeeab0e4c070",
   "metadata": {
    "tags": []
   },
   "outputs": [],
   "source": []
  },
  {
   "cell_type": "code",
   "execution_count": 43,
   "id": "33394662-0634-4ebf-bd3a-9da2ef539a02",
   "metadata": {
    "tags": []
   },
   "outputs": [
    {
     "name": "stdout",
     "output_type": "stream",
     "text": [
      "CPU times: user 8min 14s, sys: 38.8 s, total: 8min 52s\n",
      "Wall time: 6min 59s\n"
     ]
    },
    {
     "name": "stderr",
     "output_type": "stream",
     "text": [
      "/home/ga59wig/micromamba/envs/geo419b_env/lib/python3.11/site-packages/geopandas/geodataframe.py:1543: SettingWithCopyWarning: \n",
      "A value is trying to be set on a copy of a slice from a DataFrame.\n",
      "Try using .loc[row_indexer,col_indexer] = value instead\n",
      "\n",
      "See the caveats in the documentation: https://pandas.pydata.org/pandas-docs/stable/user_guide/indexing.html#returning-a-view-versus-a-copy\n",
      "  super().__setitem__(key, value)\n"
     ]
    }
   ],
   "source": [
    "%%time\n",
    "\n",
    "ds_month_min_vv = ds_month_min.vv.compute()\n",
    "gdf_recl_lo['min_vv'] = get_pixel_lists(ds=ds_month_min_vv)"
   ]
  },
  {
   "cell_type": "code",
   "execution_count": null,
   "id": "ec0e193c-3a7b-4525-8d5c-79a2120c59d5",
   "metadata": {
    "tags": []
   },
   "outputs": [],
   "source": []
  },
  {
   "cell_type": "code",
   "execution_count": 45,
   "id": "e09736f9-21b2-4e37-8e50-a758c5157626",
   "metadata": {
    "tags": []
   },
   "outputs": [
    {
     "name": "stdout",
     "output_type": "stream",
     "text": [
      "CPU times: user 8min 14s, sys: 36.3 s, total: 8min 51s\n",
      "Wall time: 7min 16s\n"
     ]
    },
    {
     "name": "stderr",
     "output_type": "stream",
     "text": [
      "/home/ga59wig/micromamba/envs/geo419b_env/lib/python3.11/site-packages/geopandas/geodataframe.py:1543: SettingWithCopyWarning: \n",
      "A value is trying to be set on a copy of a slice from a DataFrame.\n",
      "Try using .loc[row_indexer,col_indexer] = value instead\n",
      "\n",
      "See the caveats in the documentation: https://pandas.pydata.org/pandas-docs/stable/user_guide/indexing.html#returning-a-view-versus-a-copy\n",
      "  super().__setitem__(key, value)\n"
     ]
    }
   ],
   "source": [
    "%%time\n",
    "ds_month_max_vv = ds_month_max.vv.compute()\n",
    "gdf_recl_lo['max_vv'] = get_pixel_lists(ds=ds_month_max_vv)"
   ]
  },
  {
   "cell_type": "code",
   "execution_count": 46,
   "id": "9945e583-e8a3-446e-aa63-5091391f8b6c",
   "metadata": {
    "tags": []
   },
   "outputs": [
    {
     "name": "stdout",
     "output_type": "stream",
     "text": [
      "CPU times: user 7min 50s, sys: 32.8 s, total: 8min 23s\n",
      "Wall time: 6min 37s\n"
     ]
    },
    {
     "name": "stderr",
     "output_type": "stream",
     "text": [
      "/home/ga59wig/micromamba/envs/geo419b_env/lib/python3.11/site-packages/geopandas/geodataframe.py:1543: SettingWithCopyWarning: \n",
      "A value is trying to be set on a copy of a slice from a DataFrame.\n",
      "Try using .loc[row_indexer,col_indexer] = value instead\n",
      "\n",
      "See the caveats in the documentation: https://pandas.pydata.org/pandas-docs/stable/user_guide/indexing.html#returning-a-view-versus-a-copy\n",
      "  super().__setitem__(key, value)\n"
     ]
    }
   ],
   "source": [
    "%%time\n",
    "ds_month_mean_vv = ds_month_mean.vv.compute()\n",
    "gdf_recl_lo['mean_vv'] = get_pixel_lists(ds=ds_month_mean_vv)"
   ]
  },
  {
   "cell_type": "code",
   "execution_count": 47,
   "id": "80e30a4c-468d-41b3-966b-d8c489aaee89",
   "metadata": {
    "tags": []
   },
   "outputs": [
    {
     "name": "stdout",
     "output_type": "stream",
     "text": [
      "CPU times: user 8min 2s, sys: 34.5 s, total: 8min 36s\n",
      "Wall time: 6min 40s\n"
     ]
    },
    {
     "name": "stderr",
     "output_type": "stream",
     "text": [
      "/home/ga59wig/micromamba/envs/geo419b_env/lib/python3.11/site-packages/geopandas/geodataframe.py:1543: SettingWithCopyWarning: \n",
      "A value is trying to be set on a copy of a slice from a DataFrame.\n",
      "Try using .loc[row_indexer,col_indexer] = value instead\n",
      "\n",
      "See the caveats in the documentation: https://pandas.pydata.org/pandas-docs/stable/user_guide/indexing.html#returning-a-view-versus-a-copy\n",
      "  super().__setitem__(key, value)\n"
     ]
    }
   ],
   "source": [
    "%%time\n",
    "ds_month_median_vv = ds_month_median.vv.compute()\n",
    "gdf_recl_lo['median_vv'] = get_pixel_lists(ds=ds_month_median_vv)"
   ]
  },
  {
   "cell_type": "code",
   "execution_count": 48,
   "id": "f9fa2fd3-b361-47cd-8ed6-cdc36b63a873",
   "metadata": {
    "tags": []
   },
   "outputs": [
    {
     "name": "stdout",
     "output_type": "stream",
     "text": [
      "CPU times: user 8min 2s, sys: 37.6 s, total: 8min 39s\n",
      "Wall time: 7min 16s\n"
     ]
    },
    {
     "name": "stderr",
     "output_type": "stream",
     "text": [
      "/home/ga59wig/micromamba/envs/geo419b_env/lib/python3.11/site-packages/geopandas/geodataframe.py:1543: SettingWithCopyWarning: \n",
      "A value is trying to be set on a copy of a slice from a DataFrame.\n",
      "Try using .loc[row_indexer,col_indexer] = value instead\n",
      "\n",
      "See the caveats in the documentation: https://pandas.pydata.org/pandas-docs/stable/user_guide/indexing.html#returning-a-view-versus-a-copy\n",
      "  super().__setitem__(key, value)\n"
     ]
    }
   ],
   "source": [
    "%%time\n",
    "ds_month_std_vv = ds_month_std.vv.compute()\n",
    "gdf_recl_lo['std_vv'] = get_pixel_lists(ds=ds_month_std_vv)"
   ]
  },
  {
   "cell_type": "code",
   "execution_count": null,
   "id": "7f5e8de2-5b16-4c6b-ab3f-2a6c7cfdc6e6",
   "metadata": {
    "tags": []
   },
   "outputs": [],
   "source": []
  },
  {
   "cell_type": "code",
   "execution_count": 49,
   "id": "9c379941-f0ae-4144-83c2-293b65b15cc3",
   "metadata": {
    "tags": []
   },
   "outputs": [
    {
     "name": "stdout",
     "output_type": "stream",
     "text": [
      "CPU times: user 10min 35s, sys: 50.3 s, total: 11min 25s\n",
      "Wall time: 47min 25s\n"
     ]
    },
    {
     "name": "stderr",
     "output_type": "stream",
     "text": [
      "/home/ga59wig/micromamba/envs/geo419b_env/lib/python3.11/site-packages/geopandas/geodataframe.py:1543: SettingWithCopyWarning: \n",
      "A value is trying to be set on a copy of a slice from a DataFrame.\n",
      "Try using .loc[row_indexer,col_indexer] = value instead\n",
      "\n",
      "See the caveats in the documentation: https://pandas.pydata.org/pandas-docs/stable/user_guide/indexing.html#returning-a-view-versus-a-copy\n",
      "  super().__setitem__(key, value)\n"
     ]
    }
   ],
   "source": [
    "%%time\n",
    "ds_month_05_vv = ds_month_quantiles.vv.sel(quantile=0.05).compute()\n",
    "gdf_recl_lo['05_vv'] = get_pixel_lists(ds=ds_month_05_vv)"
   ]
  },
  {
   "cell_type": "code",
   "execution_count": 50,
   "id": "5a0b9c97-1b26-4562-b751-430b73e82906",
   "metadata": {
    "tags": []
   },
   "outputs": [
    {
     "name": "stdout",
     "output_type": "stream",
     "text": [
      "CPU times: user 9min 47s, sys: 54.8 s, total: 10min 42s\n",
      "Wall time: 48min 32s\n"
     ]
    },
    {
     "name": "stderr",
     "output_type": "stream",
     "text": [
      "/home/ga59wig/micromamba/envs/geo419b_env/lib/python3.11/site-packages/geopandas/geodataframe.py:1543: SettingWithCopyWarning: \n",
      "A value is trying to be set on a copy of a slice from a DataFrame.\n",
      "Try using .loc[row_indexer,col_indexer] = value instead\n",
      "\n",
      "See the caveats in the documentation: https://pandas.pydata.org/pandas-docs/stable/user_guide/indexing.html#returning-a-view-versus-a-copy\n",
      "  super().__setitem__(key, value)\n"
     ]
    }
   ],
   "source": [
    "%%time\n",
    "ds_month_25_vv = ds_month_quantiles.vv.sel(quantile=0.25).compute()\n",
    "gdf_recl_lo['25_vv'] = get_pixel_lists(ds=ds_month_25_vv)"
   ]
  },
  {
   "cell_type": "code",
   "execution_count": 68,
   "id": "230d0586-38ec-449e-a507-6b92d18782ac",
   "metadata": {
    "tags": []
   },
   "outputs": [
    {
     "name": "stdout",
     "output_type": "stream",
     "text": [
      "CPU times: user 8min 41s, sys: 45.9 s, total: 9min 27s\n",
      "Wall time: 46min 58s\n"
     ]
    },
    {
     "name": "stderr",
     "output_type": "stream",
     "text": [
      "/home/ga59wig/micromamba/envs/geo419b_env/lib/python3.11/site-packages/geopandas/geodataframe.py:1543: SettingWithCopyWarning: \n",
      "A value is trying to be set on a copy of a slice from a DataFrame.\n",
      "Try using .loc[row_indexer,col_indexer] = value instead\n",
      "\n",
      "See the caveats in the documentation: https://pandas.pydata.org/pandas-docs/stable/user_guide/indexing.html#returning-a-view-versus-a-copy\n",
      "  super().__setitem__(key, value)\n"
     ]
    }
   ],
   "source": [
    "%%time\n",
    "ds_month_75_vv = ds_month_quantiles.vv.sel(quantile=0.75).compute()\n",
    "gdf_recl_lo['75_vv'] = get_pixel_lists(ds=ds_month_75_vv)"
   ]
  },
  {
   "cell_type": "code",
   "execution_count": 69,
   "id": "fa2636b2-2223-4b58-983c-c63e1a58ffd4",
   "metadata": {
    "tags": []
   },
   "outputs": [
    {
     "name": "stdout",
     "output_type": "stream",
     "text": [
      "CPU times: user 9min 52s, sys: 56 s, total: 10min 48s\n",
      "Wall time: 50min 9s\n"
     ]
    },
    {
     "name": "stderr",
     "output_type": "stream",
     "text": [
      "/home/ga59wig/micromamba/envs/geo419b_env/lib/python3.11/site-packages/geopandas/geodataframe.py:1543: SettingWithCopyWarning: \n",
      "A value is trying to be set on a copy of a slice from a DataFrame.\n",
      "Try using .loc[row_indexer,col_indexer] = value instead\n",
      "\n",
      "See the caveats in the documentation: https://pandas.pydata.org/pandas-docs/stable/user_guide/indexing.html#returning-a-view-versus-a-copy\n",
      "  super().__setitem__(key, value)\n"
     ]
    }
   ],
   "source": [
    "%%time\n",
    "ds_month_95_vv = ds_month_quantiles.vv.sel(quantile=0.95).compute()\n",
    "gdf_recl_lo['95_vv'] = get_pixel_lists(ds=ds_month_95_vv)"
   ]
  },
  {
   "cell_type": "code",
   "execution_count": null,
   "id": "7fb87f49-0d63-4683-b5e6-b22573005bc0",
   "metadata": {
    "tags": []
   },
   "outputs": [],
   "source": []
  },
  {
   "cell_type": "code",
   "execution_count": 70,
   "id": "84390752-1538-4385-9950-728586caa185",
   "metadata": {
    "tags": []
   },
   "outputs": [
    {
     "name": "stdout",
     "output_type": "stream",
     "text": [
      "CPU times: user 8min 28s, sys: 40.8 s, total: 9min 9s\n",
      "Wall time: 6min 50s\n"
     ]
    },
    {
     "name": "stderr",
     "output_type": "stream",
     "text": [
      "/home/ga59wig/micromamba/envs/geo419b_env/lib/python3.11/site-packages/geopandas/geodataframe.py:1543: SettingWithCopyWarning: \n",
      "A value is trying to be set on a copy of a slice from a DataFrame.\n",
      "Try using .loc[row_indexer,col_indexer] = value instead\n",
      "\n",
      "See the caveats in the documentation: https://pandas.pydata.org/pandas-docs/stable/user_guide/indexing.html#returning-a-view-versus-a-copy\n",
      "  super().__setitem__(key, value)\n"
     ]
    }
   ],
   "source": [
    "%%time\n",
    "ds_month_min_vh = ds_month_min.vh.compute()\n",
    "gdf_recl_lo['min_vh'] = get_pixel_lists(ds=ds_month_min_vh)"
   ]
  },
  {
   "cell_type": "code",
   "execution_count": 71,
   "id": "94704a80-d949-4ecd-b68b-600c8b42bac3",
   "metadata": {
    "tags": []
   },
   "outputs": [
    {
     "name": "stdout",
     "output_type": "stream",
     "text": [
      "CPU times: user 8min 32s, sys: 41.1 s, total: 9min 13s\n",
      "Wall time: 8min 19s\n"
     ]
    },
    {
     "name": "stderr",
     "output_type": "stream",
     "text": [
      "/home/ga59wig/micromamba/envs/geo419b_env/lib/python3.11/site-packages/geopandas/geodataframe.py:1543: SettingWithCopyWarning: \n",
      "A value is trying to be set on a copy of a slice from a DataFrame.\n",
      "Try using .loc[row_indexer,col_indexer] = value instead\n",
      "\n",
      "See the caveats in the documentation: https://pandas.pydata.org/pandas-docs/stable/user_guide/indexing.html#returning-a-view-versus-a-copy\n",
      "  super().__setitem__(key, value)\n"
     ]
    }
   ],
   "source": [
    "%%time\n",
    "ds_month_max_vh = ds_month_max.vh.compute()\n",
    "gdf_recl_lo['max_vh'] = get_pixel_lists(ds=ds_month_max_vh)"
   ]
  },
  {
   "cell_type": "code",
   "execution_count": 72,
   "id": "2638c759-955f-4beb-b22f-0b984abc42a0",
   "metadata": {
    "tags": []
   },
   "outputs": [
    {
     "name": "stdout",
     "output_type": "stream",
     "text": [
      "CPU times: user 8min 12s, sys: 40 s, total: 8min 52s\n",
      "Wall time: 6min 48s\n"
     ]
    },
    {
     "name": "stderr",
     "output_type": "stream",
     "text": [
      "/home/ga59wig/micromamba/envs/geo419b_env/lib/python3.11/site-packages/geopandas/geodataframe.py:1543: SettingWithCopyWarning: \n",
      "A value is trying to be set on a copy of a slice from a DataFrame.\n",
      "Try using .loc[row_indexer,col_indexer] = value instead\n",
      "\n",
      "See the caveats in the documentation: https://pandas.pydata.org/pandas-docs/stable/user_guide/indexing.html#returning-a-view-versus-a-copy\n",
      "  super().__setitem__(key, value)\n"
     ]
    }
   ],
   "source": [
    "%%time\n",
    "ds_month_mean_vh = ds_month_mean.vh.compute()\n",
    "gdf_recl_lo['mean_vh'] = get_pixel_lists(ds=ds_month_mean_vh)"
   ]
  },
  {
   "cell_type": "code",
   "execution_count": 73,
   "id": "12e37a00-ee0c-4192-b493-c0db8ed20a5d",
   "metadata": {
    "tags": []
   },
   "outputs": [
    {
     "name": "stdout",
     "output_type": "stream",
     "text": [
      "CPU times: user 8min 13s, sys: 40 s, total: 8min 53s\n",
      "Wall time: 6min 50s\n"
     ]
    },
    {
     "name": "stderr",
     "output_type": "stream",
     "text": [
      "/home/ga59wig/micromamba/envs/geo419b_env/lib/python3.11/site-packages/geopandas/geodataframe.py:1543: SettingWithCopyWarning: \n",
      "A value is trying to be set on a copy of a slice from a DataFrame.\n",
      "Try using .loc[row_indexer,col_indexer] = value instead\n",
      "\n",
      "See the caveats in the documentation: https://pandas.pydata.org/pandas-docs/stable/user_guide/indexing.html#returning-a-view-versus-a-copy\n",
      "  super().__setitem__(key, value)\n"
     ]
    }
   ],
   "source": [
    "%%time\n",
    "ds_month_median_vh = ds_month_median.vh.compute()\n",
    "gdf_recl_lo['median_vh'] = get_pixel_lists(ds=ds_month_median_vh)"
   ]
  },
  {
   "cell_type": "code",
   "execution_count": 74,
   "id": "eb619473-6859-47e0-8ad4-637b72d68393",
   "metadata": {
    "tags": []
   },
   "outputs": [
    {
     "name": "stdout",
     "output_type": "stream",
     "text": [
      "CPU times: user 8min 23s, sys: 41.4 s, total: 9min 4s\n",
      "Wall time: 6min 51s\n"
     ]
    },
    {
     "name": "stderr",
     "output_type": "stream",
     "text": [
      "/home/ga59wig/micromamba/envs/geo419b_env/lib/python3.11/site-packages/geopandas/geodataframe.py:1543: SettingWithCopyWarning: \n",
      "A value is trying to be set on a copy of a slice from a DataFrame.\n",
      "Try using .loc[row_indexer,col_indexer] = value instead\n",
      "\n",
      "See the caveats in the documentation: https://pandas.pydata.org/pandas-docs/stable/user_guide/indexing.html#returning-a-view-versus-a-copy\n",
      "  super().__setitem__(key, value)\n"
     ]
    }
   ],
   "source": [
    "%%time\n",
    "ds_month_std_vh = ds_month_std.vh.compute()\n",
    "gdf_recl_lo['std_vh'] = get_pixel_lists(ds=ds_month_std_vh)"
   ]
  },
  {
   "cell_type": "code",
   "execution_count": 75,
   "id": "4a363baa-b1b5-46e4-880b-96fddb432310",
   "metadata": {
    "tags": []
   },
   "outputs": [
    {
     "name": "stdout",
     "output_type": "stream",
     "text": [
      "CPU times: user 9min 44s, sys: 56.1 s, total: 10min 40s\n",
      "Wall time: 46min 1s\n"
     ]
    },
    {
     "name": "stderr",
     "output_type": "stream",
     "text": [
      "/home/ga59wig/micromamba/envs/geo419b_env/lib/python3.11/site-packages/geopandas/geodataframe.py:1543: SettingWithCopyWarning: \n",
      "A value is trying to be set on a copy of a slice from a DataFrame.\n",
      "Try using .loc[row_indexer,col_indexer] = value instead\n",
      "\n",
      "See the caveats in the documentation: https://pandas.pydata.org/pandas-docs/stable/user_guide/indexing.html#returning-a-view-versus-a-copy\n",
      "  super().__setitem__(key, value)\n"
     ]
    }
   ],
   "source": [
    "%%time\n",
    "ds_month_05_vh = ds_month_quantiles.vh.sel(quantile=0.05).compute()\n",
    "gdf_recl_lo['05_vh'] = get_pixel_lists(ds=ds_month_05_vh)"
   ]
  },
  {
   "cell_type": "code",
   "execution_count": null,
   "id": "61296754-0a6d-4412-b62d-17aa6228c4c4",
   "metadata": {
    "tags": []
   },
   "outputs": [],
   "source": []
  },
  {
   "cell_type": "code",
   "execution_count": 77,
   "id": "62924d8e-2379-4af1-b737-3001d4ec0df7",
   "metadata": {
    "tags": []
   },
   "outputs": [],
   "source": []
  },
  {
   "cell_type": "code",
   "execution_count": null,
   "id": "a262bba5-5a26-40a2-90e5-7a0855d10ebf",
   "metadata": {},
   "outputs": [],
   "source": []
  },
  {
   "cell_type": "code",
   "execution_count": 32,
   "id": "8f181ff1-5a43-45a1-b8a1-b4682a65a7da",
   "metadata": {
    "tags": []
   },
   "outputs": [
    {
     "name": "stdout",
     "output_type": "stream",
     "text": [
      "CPU times: user 11min 47s, sys: 52.9 s, total: 12min 40s\n",
      "Wall time: 46min 37s\n"
     ]
    },
    {
     "name": "stderr",
     "output_type": "stream",
     "text": [
      "/home/ga59wig/micromamba/envs/geo419b_env/lib/python3.11/site-packages/geopandas/geodataframe.py:1543: SettingWithCopyWarning: \n",
      "A value is trying to be set on a copy of a slice from a DataFrame.\n",
      "Try using .loc[row_indexer,col_indexer] = value instead\n",
      "\n",
      "See the caveats in the documentation: https://pandas.pydata.org/pandas-docs/stable/user_guide/indexing.html#returning-a-view-versus-a-copy\n",
      "  super().__setitem__(key, value)\n"
     ]
    }
   ],
   "source": [
    "%%time\n",
    "ds_month_25_vh = ds_month_quantiles.vh.sel(quantile=0.25).compute()\n",
    "gdf_recl_lo['25_vh'] = get_pixel_lists(ds=ds_month_25_vh)"
   ]
  },
  {
   "cell_type": "code",
   "execution_count": 27,
   "id": "5ae02e2c-1ab7-4532-ad12-edd62130a415",
   "metadata": {
    "tags": []
   },
   "outputs": [
    {
     "ename": "KilledWorker",
     "evalue": "Attempted to run task ('broadcast_to-concatenate-transpose-wrapper-wrapper_0-getitem-b216eccdd21350f25a3f4302f6704b15', 11, 0, 1, 0) on 3 different workers, but all those workers died while running it. The last worker that attempt to run the task was tcp://172.18.1.9:38879. Inspecting worker logs is often a good next step to diagnose what went wrong. For more information see https://distributed.dask.org/en/stable/killed.html.",
     "output_type": "error",
     "traceback": [
      "\u001b[0;31m---------------------------------------------------------------------------\u001b[0m",
      "\u001b[0;31mKilledWorker\u001b[0m                              Traceback (most recent call last)",
      "File \u001b[0;32m<timed exec>:1\u001b[0m\n",
      "File \u001b[0;32m~/micromamba/envs/geo419b_env/lib/python3.11/site-packages/xarray/core/dataarray.py:1137\u001b[0m, in \u001b[0;36mDataArray.compute\u001b[0;34m(self, **kwargs)\u001b[0m\n\u001b[1;32m   1118\u001b[0m \u001b[38;5;250m\u001b[39m\u001b[38;5;124;03m\"\"\"Manually trigger loading of this array's data from disk or a\u001b[39;00m\n\u001b[1;32m   1119\u001b[0m \u001b[38;5;124;03mremote source into memory and return a new array. The original is\u001b[39;00m\n\u001b[1;32m   1120\u001b[0m \u001b[38;5;124;03mleft unaltered.\u001b[39;00m\n\u001b[0;32m   (...)\u001b[0m\n\u001b[1;32m   1134\u001b[0m \u001b[38;5;124;03mdask.compute\u001b[39;00m\n\u001b[1;32m   1135\u001b[0m \u001b[38;5;124;03m\"\"\"\u001b[39;00m\n\u001b[1;32m   1136\u001b[0m new \u001b[38;5;241m=\u001b[39m \u001b[38;5;28mself\u001b[39m\u001b[38;5;241m.\u001b[39mcopy(deep\u001b[38;5;241m=\u001b[39m\u001b[38;5;28;01mFalse\u001b[39;00m)\n\u001b[0;32m-> 1137\u001b[0m \u001b[38;5;28;01mreturn\u001b[39;00m \u001b[43mnew\u001b[49m\u001b[38;5;241;43m.\u001b[39;49m\u001b[43mload\u001b[49m\u001b[43m(\u001b[49m\u001b[38;5;241;43m*\u001b[39;49m\u001b[38;5;241;43m*\u001b[39;49m\u001b[43mkwargs\u001b[49m\u001b[43m)\u001b[49m\n",
      "File \u001b[0;32m~/micromamba/envs/geo419b_env/lib/python3.11/site-packages/xarray/core/dataarray.py:1111\u001b[0m, in \u001b[0;36mDataArray.load\u001b[0;34m(self, **kwargs)\u001b[0m\n\u001b[1;32m   1093\u001b[0m \u001b[38;5;28;01mdef\u001b[39;00m \u001b[38;5;21mload\u001b[39m(\u001b[38;5;28mself\u001b[39m, \u001b[38;5;241m*\u001b[39m\u001b[38;5;241m*\u001b[39mkwargs) \u001b[38;5;241m-\u001b[39m\u001b[38;5;241m>\u001b[39m Self:\n\u001b[1;32m   1094\u001b[0m \u001b[38;5;250m    \u001b[39m\u001b[38;5;124;03m\"\"\"Manually trigger loading of this array's data from disk or a\u001b[39;00m\n\u001b[1;32m   1095\u001b[0m \u001b[38;5;124;03m    remote source into memory and return this array.\u001b[39;00m\n\u001b[1;32m   1096\u001b[0m \n\u001b[0;32m   (...)\u001b[0m\n\u001b[1;32m   1109\u001b[0m \u001b[38;5;124;03m    dask.compute\u001b[39;00m\n\u001b[1;32m   1110\u001b[0m \u001b[38;5;124;03m    \"\"\"\u001b[39;00m\n\u001b[0;32m-> 1111\u001b[0m     ds \u001b[38;5;241m=\u001b[39m \u001b[38;5;28;43mself\u001b[39;49m\u001b[38;5;241;43m.\u001b[39;49m\u001b[43m_to_temp_dataset\u001b[49m\u001b[43m(\u001b[49m\u001b[43m)\u001b[49m\u001b[38;5;241;43m.\u001b[39;49m\u001b[43mload\u001b[49m\u001b[43m(\u001b[49m\u001b[38;5;241;43m*\u001b[39;49m\u001b[38;5;241;43m*\u001b[39;49m\u001b[43mkwargs\u001b[49m\u001b[43m)\u001b[49m\n\u001b[1;32m   1112\u001b[0m     new \u001b[38;5;241m=\u001b[39m \u001b[38;5;28mself\u001b[39m\u001b[38;5;241m.\u001b[39m_from_temp_dataset(ds)\n\u001b[1;32m   1113\u001b[0m     \u001b[38;5;28mself\u001b[39m\u001b[38;5;241m.\u001b[39m_variable \u001b[38;5;241m=\u001b[39m new\u001b[38;5;241m.\u001b[39m_variable\n",
      "File \u001b[0;32m~/micromamba/envs/geo419b_env/lib/python3.11/site-packages/xarray/core/dataset.py:833\u001b[0m, in \u001b[0;36mDataset.load\u001b[0;34m(self, **kwargs)\u001b[0m\n\u001b[1;32m    830\u001b[0m chunkmanager \u001b[38;5;241m=\u001b[39m get_chunked_array_type(\u001b[38;5;241m*\u001b[39mlazy_data\u001b[38;5;241m.\u001b[39mvalues())\n\u001b[1;32m    832\u001b[0m \u001b[38;5;66;03m# evaluate all the chunked arrays simultaneously\u001b[39;00m\n\u001b[0;32m--> 833\u001b[0m evaluated_data \u001b[38;5;241m=\u001b[39m \u001b[43mchunkmanager\u001b[49m\u001b[38;5;241;43m.\u001b[39;49m\u001b[43mcompute\u001b[49m\u001b[43m(\u001b[49m\u001b[38;5;241;43m*\u001b[39;49m\u001b[43mlazy_data\u001b[49m\u001b[38;5;241;43m.\u001b[39;49m\u001b[43mvalues\u001b[49m\u001b[43m(\u001b[49m\u001b[43m)\u001b[49m\u001b[43m,\u001b[49m\u001b[43m \u001b[49m\u001b[38;5;241;43m*\u001b[39;49m\u001b[38;5;241;43m*\u001b[39;49m\u001b[43mkwargs\u001b[49m\u001b[43m)\u001b[49m\n\u001b[1;32m    835\u001b[0m \u001b[38;5;28;01mfor\u001b[39;00m k, data \u001b[38;5;129;01min\u001b[39;00m \u001b[38;5;28mzip\u001b[39m(lazy_data, evaluated_data):\n\u001b[1;32m    836\u001b[0m     \u001b[38;5;28mself\u001b[39m\u001b[38;5;241m.\u001b[39mvariables[k]\u001b[38;5;241m.\u001b[39mdata \u001b[38;5;241m=\u001b[39m data\n",
      "File \u001b[0;32m~/micromamba/envs/geo419b_env/lib/python3.11/site-packages/xarray/core/daskmanager.py:70\u001b[0m, in \u001b[0;36mDaskManager.compute\u001b[0;34m(self, *data, **kwargs)\u001b[0m\n\u001b[1;32m     67\u001b[0m \u001b[38;5;28;01mdef\u001b[39;00m \u001b[38;5;21mcompute\u001b[39m(\u001b[38;5;28mself\u001b[39m, \u001b[38;5;241m*\u001b[39mdata: DaskArray, \u001b[38;5;241m*\u001b[39m\u001b[38;5;241m*\u001b[39mkwargs) \u001b[38;5;241m-\u001b[39m\u001b[38;5;241m>\u001b[39m \u001b[38;5;28mtuple\u001b[39m[np\u001b[38;5;241m.\u001b[39mndarray, \u001b[38;5;241m.\u001b[39m\u001b[38;5;241m.\u001b[39m\u001b[38;5;241m.\u001b[39m]:\n\u001b[1;32m     68\u001b[0m     \u001b[38;5;28;01mfrom\u001b[39;00m \u001b[38;5;21;01mdask\u001b[39;00m\u001b[38;5;21;01m.\u001b[39;00m\u001b[38;5;21;01marray\u001b[39;00m \u001b[38;5;28;01mimport\u001b[39;00m compute\n\u001b[0;32m---> 70\u001b[0m     \u001b[38;5;28;01mreturn\u001b[39;00m \u001b[43mcompute\u001b[49m\u001b[43m(\u001b[49m\u001b[38;5;241;43m*\u001b[39;49m\u001b[43mdata\u001b[49m\u001b[43m,\u001b[49m\u001b[43m \u001b[49m\u001b[38;5;241;43m*\u001b[39;49m\u001b[38;5;241;43m*\u001b[39;49m\u001b[43mkwargs\u001b[49m\u001b[43m)\u001b[49m\n",
      "File \u001b[0;32m~/micromamba/envs/geo419b_env/lib/python3.11/site-packages/dask/base.py:628\u001b[0m, in \u001b[0;36mcompute\u001b[0;34m(traverse, optimize_graph, scheduler, get, *args, **kwargs)\u001b[0m\n\u001b[1;32m    625\u001b[0m     postcomputes\u001b[38;5;241m.\u001b[39mappend(x\u001b[38;5;241m.\u001b[39m__dask_postcompute__())\n\u001b[1;32m    627\u001b[0m \u001b[38;5;28;01mwith\u001b[39;00m shorten_traceback():\n\u001b[0;32m--> 628\u001b[0m     results \u001b[38;5;241m=\u001b[39m \u001b[43mschedule\u001b[49m\u001b[43m(\u001b[49m\u001b[43mdsk\u001b[49m\u001b[43m,\u001b[49m\u001b[43m \u001b[49m\u001b[43mkeys\u001b[49m\u001b[43m,\u001b[49m\u001b[43m \u001b[49m\u001b[38;5;241;43m*\u001b[39;49m\u001b[38;5;241;43m*\u001b[39;49m\u001b[43mkwargs\u001b[49m\u001b[43m)\u001b[49m\n\u001b[1;32m    630\u001b[0m \u001b[38;5;28;01mreturn\u001b[39;00m repack([f(r, \u001b[38;5;241m*\u001b[39ma) \u001b[38;5;28;01mfor\u001b[39;00m r, (f, a) \u001b[38;5;129;01min\u001b[39;00m \u001b[38;5;28mzip\u001b[39m(results, postcomputes)])\n",
      "File \u001b[0;32m~/micromamba/envs/geo419b_env/lib/python3.11/site-packages/distributed/client.py:2253\u001b[0m, in \u001b[0;36mClient._gather\u001b[0;34m(self, futures, errors, direct, local_worker)\u001b[0m\n\u001b[1;32m   2251\u001b[0m         exc \u001b[38;5;241m=\u001b[39m CancelledError(key)\n\u001b[1;32m   2252\u001b[0m     \u001b[38;5;28;01melse\u001b[39;00m:\n\u001b[0;32m-> 2253\u001b[0m         \u001b[38;5;28;01mraise\u001b[39;00m exception\u001b[38;5;241m.\u001b[39mwith_traceback(traceback)\n\u001b[1;32m   2254\u001b[0m     \u001b[38;5;28;01mraise\u001b[39;00m exc\n\u001b[1;32m   2255\u001b[0m \u001b[38;5;28;01mif\u001b[39;00m errors \u001b[38;5;241m==\u001b[39m \u001b[38;5;124m\"\u001b[39m\u001b[38;5;124mskip\u001b[39m\u001b[38;5;124m\"\u001b[39m:\n",
      "\u001b[0;31mKilledWorker\u001b[0m: Attempted to run task ('broadcast_to-concatenate-transpose-wrapper-wrapper_0-getitem-b216eccdd21350f25a3f4302f6704b15', 11, 0, 1, 0) on 3 different workers, but all those workers died while running it. The last worker that attempt to run the task was tcp://172.18.1.9:38879. Inspecting worker logs is often a good next step to diagnose what went wrong. For more information see https://distributed.dask.org/en/stable/killed.html."
     ]
    }
   ],
   "source": [
    "%%time\n",
    "ds_month_75_vh = ds_month_quantiles.vh.sel(quantile=0.75).compute()\n",
    "gdf_recl_lo['75_vh'] = get_pixel_lists(ds=ds_month_75_vh)"
   ]
  },
  {
   "cell_type": "code",
   "execution_count": 34,
   "id": "3e4da9ed-ca0b-4278-846a-f0b698aa5a02",
   "metadata": {
    "tags": []
   },
   "outputs": [
    {
     "name": "stdout",
     "output_type": "stream",
     "text": [
      "CPU times: user 9min 29s, sys: 54.7 s, total: 10min 24s\n",
      "Wall time: 47min 27s\n"
     ]
    },
    {
     "name": "stderr",
     "output_type": "stream",
     "text": [
      "/home/ga59wig/micromamba/envs/geo419b_env/lib/python3.11/site-packages/geopandas/geodataframe.py:1543: SettingWithCopyWarning: \n",
      "A value is trying to be set on a copy of a slice from a DataFrame.\n",
      "Try using .loc[row_indexer,col_indexer] = value instead\n",
      "\n",
      "See the caveats in the documentation: https://pandas.pydata.org/pandas-docs/stable/user_guide/indexing.html#returning-a-view-versus-a-copy\n",
      "  super().__setitem__(key, value)\n"
     ]
    }
   ],
   "source": [
    "%%time\n",
    "ds_month_95_vh = ds_month_quantiles.vh.sel(quantile=0.95).compute()\n",
    "gdf_recl_lo['95_vh'] = get_pixel_lists(ds=ds_month_95_vh)"
   ]
  },
  {
   "cell_type": "code",
   "execution_count": null,
   "id": "7a8cb87c-f4fd-4dba-b036-8e67fbcf3b48",
   "metadata": {},
   "outputs": [],
   "source": []
  },
  {
   "cell_type": "code",
   "execution_count": null,
   "id": "f7c19e46-cae7-4f7d-8acb-71bb07e399b8",
   "metadata": {},
   "outputs": [],
   "source": []
  },
  {
   "cell_type": "code",
   "execution_count": 35,
   "id": "48426f86-9ff6-4a88-a743-dba1de60fe24",
   "metadata": {
    "tags": []
   },
   "outputs": [
    {
     "name": "stdout",
     "output_type": "stream",
     "text": [
      "CPU times: user 7min 43s, sys: 33.9 s, total: 8min 17s\n",
      "Wall time: 6min 44s\n"
     ]
    },
    {
     "name": "stderr",
     "output_type": "stream",
     "text": [
      "/home/ga59wig/micromamba/envs/geo419b_env/lib/python3.11/site-packages/geopandas/geodataframe.py:1543: SettingWithCopyWarning: \n",
      "A value is trying to be set on a copy of a slice from a DataFrame.\n",
      "Try using .loc[row_indexer,col_indexer] = value instead\n",
      "\n",
      "See the caveats in the documentation: https://pandas.pydata.org/pandas-docs/stable/user_guide/indexing.html#returning-a-view-versus-a-copy\n",
      "  super().__setitem__(key, value)\n"
     ]
    }
   ],
   "source": [
    "%%time\n",
    "ds_month_rvi_min = ds_month_rvi_min.compute()\n",
    "gdf_recl_lo['min_rvi'] = get_pixel_lists(ds=ds_month_rvi_min)"
   ]
  },
  {
   "cell_type": "code",
   "execution_count": 36,
   "id": "fe7a9df2-0a9f-4fcc-a054-b331fcc3ec70",
   "metadata": {
    "tags": []
   },
   "outputs": [
    {
     "name": "stdout",
     "output_type": "stream",
     "text": [
      "CPU times: user 8min 12s, sys: 36.4 s, total: 8min 49s\n",
      "Wall time: 7min 4s\n"
     ]
    },
    {
     "name": "stderr",
     "output_type": "stream",
     "text": [
      "/home/ga59wig/micromamba/envs/geo419b_env/lib/python3.11/site-packages/geopandas/geodataframe.py:1543: SettingWithCopyWarning: \n",
      "A value is trying to be set on a copy of a slice from a DataFrame.\n",
      "Try using .loc[row_indexer,col_indexer] = value instead\n",
      "\n",
      "See the caveats in the documentation: https://pandas.pydata.org/pandas-docs/stable/user_guide/indexing.html#returning-a-view-versus-a-copy\n",
      "  super().__setitem__(key, value)\n"
     ]
    }
   ],
   "source": [
    "%%time\n",
    "ds_month_rvi_max = ds_month_rvi_max.compute()\n",
    "gdf_recl_lo['max_rvi'] = get_pixel_lists(ds=ds_month_rvi_max)"
   ]
  },
  {
   "cell_type": "code",
   "execution_count": 37,
   "id": "4cd03b04-d0a8-40d0-9a67-ada9138a41a8",
   "metadata": {
    "tags": []
   },
   "outputs": [
    {
     "name": "stdout",
     "output_type": "stream",
     "text": [
      "CPU times: user 8min 7s, sys: 37.8 s, total: 8min 45s\n",
      "Wall time: 6min 50s\n"
     ]
    },
    {
     "name": "stderr",
     "output_type": "stream",
     "text": [
      "/home/ga59wig/micromamba/envs/geo419b_env/lib/python3.11/site-packages/geopandas/geodataframe.py:1543: SettingWithCopyWarning: \n",
      "A value is trying to be set on a copy of a slice from a DataFrame.\n",
      "Try using .loc[row_indexer,col_indexer] = value instead\n",
      "\n",
      "See the caveats in the documentation: https://pandas.pydata.org/pandas-docs/stable/user_guide/indexing.html#returning-a-view-versus-a-copy\n",
      "  super().__setitem__(key, value)\n"
     ]
    }
   ],
   "source": [
    "%%time\n",
    "ds_month_rvi_mean = ds_month_rvi_mean.compute()\n",
    "gdf_recl_lo['mean_rvi'] = get_pixel_lists(ds=ds_month_rvi_mean)"
   ]
  },
  {
   "cell_type": "code",
   "execution_count": 38,
   "id": "55c38357-c818-4f6e-8d43-9223714c61df",
   "metadata": {
    "tags": []
   },
   "outputs": [
    {
     "name": "stdout",
     "output_type": "stream",
     "text": [
      "CPU times: user 8min 16s, sys: 35 s, total: 8min 51s\n",
      "Wall time: 7min 4s\n"
     ]
    },
    {
     "name": "stderr",
     "output_type": "stream",
     "text": [
      "/home/ga59wig/micromamba/envs/geo419b_env/lib/python3.11/site-packages/geopandas/geodataframe.py:1543: SettingWithCopyWarning: \n",
      "A value is trying to be set on a copy of a slice from a DataFrame.\n",
      "Try using .loc[row_indexer,col_indexer] = value instead\n",
      "\n",
      "See the caveats in the documentation: https://pandas.pydata.org/pandas-docs/stable/user_guide/indexing.html#returning-a-view-versus-a-copy\n",
      "  super().__setitem__(key, value)\n"
     ]
    }
   ],
   "source": [
    "%%time\n",
    "ds_month_rvi_median = ds_month_rvi_median.compute()\n",
    "gdf_recl_lo['median_rvi'] = get_pixel_lists(ds=ds_month_rvi_median)"
   ]
  },
  {
   "cell_type": "code",
   "execution_count": 39,
   "id": "13353873-aeff-4702-a581-f7f370c99cdb",
   "metadata": {
    "tags": []
   },
   "outputs": [
    {
     "name": "stdout",
     "output_type": "stream",
     "text": [
      "CPU times: user 7min 18s, sys: 28.5 s, total: 7min 46s\n",
      "Wall time: 6min 23s\n"
     ]
    },
    {
     "name": "stderr",
     "output_type": "stream",
     "text": [
      "/home/ga59wig/micromamba/envs/geo419b_env/lib/python3.11/site-packages/geopandas/geodataframe.py:1543: SettingWithCopyWarning: \n",
      "A value is trying to be set on a copy of a slice from a DataFrame.\n",
      "Try using .loc[row_indexer,col_indexer] = value instead\n",
      "\n",
      "See the caveats in the documentation: https://pandas.pydata.org/pandas-docs/stable/user_guide/indexing.html#returning-a-view-versus-a-copy\n",
      "  super().__setitem__(key, value)\n"
     ]
    }
   ],
   "source": [
    "%%time\n",
    "ds_month_rvi_std = ds_month_rvi_std.compute()\n",
    "gdf_recl_lo['std_rvi'] = get_pixel_lists(ds=ds_month_rvi_std)"
   ]
  },
  {
   "cell_type": "code",
   "execution_count": 40,
   "id": "9f6f4a52-a4c1-4896-bac7-79b73cba2337",
   "metadata": {
    "tags": []
   },
   "outputs": [
    {
     "name": "stdout",
     "output_type": "stream",
     "text": [
      "CPU times: user 9min 41s, sys: 56.6 s, total: 10min 38s\n",
      "Wall time: 50min 16s\n"
     ]
    },
    {
     "name": "stderr",
     "output_type": "stream",
     "text": [
      "/home/ga59wig/micromamba/envs/geo419b_env/lib/python3.11/site-packages/geopandas/geodataframe.py:1543: SettingWithCopyWarning: \n",
      "A value is trying to be set on a copy of a slice from a DataFrame.\n",
      "Try using .loc[row_indexer,col_indexer] = value instead\n",
      "\n",
      "See the caveats in the documentation: https://pandas.pydata.org/pandas-docs/stable/user_guide/indexing.html#returning-a-view-versus-a-copy\n",
      "  super().__setitem__(key, value)\n"
     ]
    }
   ],
   "source": [
    "%%time\n",
    "ds_month_rvi_05 = ds_month_rvi_quantiles.sel(quantile=0.05).compute()\n",
    "gdf_recl_lo['05_rvi'] = get_pixel_lists(ds=ds_month_rvi_05)"
   ]
  },
  {
   "cell_type": "code",
   "execution_count": 49,
   "id": "2558371a-7386-48f9-b637-c42e1abfa5b0",
   "metadata": {
    "tags": []
   },
   "outputs": [
    {
     "name": "stdout",
     "output_type": "stream",
     "text": [
      "CPU times: user 9min 38s, sys: 54.8 s, total: 10min 33s\n",
      "Wall time: 48min 3s\n"
     ]
    },
    {
     "name": "stderr",
     "output_type": "stream",
     "text": [
      "/home/ga59wig/micromamba/envs/geo419b_env/lib/python3.11/site-packages/geopandas/geodataframe.py:1543: SettingWithCopyWarning: \n",
      "A value is trying to be set on a copy of a slice from a DataFrame.\n",
      "Try using .loc[row_indexer,col_indexer] = value instead\n",
      "\n",
      "See the caveats in the documentation: https://pandas.pydata.org/pandas-docs/stable/user_guide/indexing.html#returning-a-view-versus-a-copy\n",
      "  super().__setitem__(key, value)\n"
     ]
    }
   ],
   "source": [
    "%%time\n",
    "ds_month_rvi_25 = ds_month_rvi_quantiles.sel(quantile=0.25).compute()\n",
    "gdf_recl_lo['25_rvi'] = get_pixel_lists(ds=ds_month_rvi_25)"
   ]
  },
  {
   "cell_type": "code",
   "execution_count": 42,
   "id": "6d13d218-8b8b-4158-a23f-7af9aaff21a6",
   "metadata": {
    "tags": []
   },
   "outputs": [
    {
     "name": "stdout",
     "output_type": "stream",
     "text": [
      "CPU times: user 9min 16s, sys: 48 s, total: 10min 4s\n",
      "Wall time: 46min 53s\n"
     ]
    },
    {
     "name": "stderr",
     "output_type": "stream",
     "text": [
      "/home/ga59wig/micromamba/envs/geo419b_env/lib/python3.11/site-packages/geopandas/geodataframe.py:1543: SettingWithCopyWarning: \n",
      "A value is trying to be set on a copy of a slice from a DataFrame.\n",
      "Try using .loc[row_indexer,col_indexer] = value instead\n",
      "\n",
      "See the caveats in the documentation: https://pandas.pydata.org/pandas-docs/stable/user_guide/indexing.html#returning-a-view-versus-a-copy\n",
      "  super().__setitem__(key, value)\n"
     ]
    }
   ],
   "source": [
    "%%time\n",
    "ds_month_rvi_75 = ds_month_rvi_quantiles.sel(quantile=0.75).compute()\n",
    "gdf_recl_lo['75_rvi'] = get_pixel_lists(ds=ds_month_rvi_75)"
   ]
  },
  {
   "cell_type": "code",
   "execution_count": 48,
   "id": "7c74f7c6-590e-40f3-b35f-0b2e6bbcb3c1",
   "metadata": {
    "tags": []
   },
   "outputs": [
    {
     "name": "stdout",
     "output_type": "stream",
     "text": [
      "CPU times: user 9min 52s, sys: 1min 1s, total: 10min 54s\n",
      "Wall time: 52min 53s\n"
     ]
    },
    {
     "name": "stderr",
     "output_type": "stream",
     "text": [
      "/home/ga59wig/micromamba/envs/geo419b_env/lib/python3.11/site-packages/geopandas/geodataframe.py:1543: SettingWithCopyWarning: \n",
      "A value is trying to be set on a copy of a slice from a DataFrame.\n",
      "Try using .loc[row_indexer,col_indexer] = value instead\n",
      "\n",
      "See the caveats in the documentation: https://pandas.pydata.org/pandas-docs/stable/user_guide/indexing.html#returning-a-view-versus-a-copy\n",
      "  super().__setitem__(key, value)\n"
     ]
    }
   ],
   "source": [
    "%%time\n",
    "ds_month_rvi_95 = ds_month_rvi_quantiles.sel(quantile=0.95).compute()\n",
    "gdf_recl_lo['95_rvi'] = get_pixel_lists(ds=ds_month_rvi_95)"
   ]
  },
  {
   "cell_type": "code",
   "execution_count": 44,
   "id": "e28d0f94-84a1-4180-a91f-26435f617f9a",
   "metadata": {
    "tags": []
   },
   "outputs": [],
   "source": [
    "######               27 features"
   ]
  },
  {
   "cell_type": "code",
   "execution_count": null,
   "id": "e076afd5-878b-4af0-8d80-efcd6f3e3815",
   "metadata": {},
   "outputs": [],
   "source": []
  },
  {
   "cell_type": "code",
   "execution_count": 18,
   "id": "bce35178-a32a-47b4-ae89-c420e12e9205",
   "metadata": {
    "tags": []
   },
   "outputs": [],
   "source": [
    "gdf_recl_lo.to_file('gdf_recl_lo_res.gpkg', driver='GPKG')"
   ]
  },
  {
   "cell_type": "code",
   "execution_count": null,
   "id": "bc2b45e3-ea86-47ea-97b3-0ce512129d6a",
   "metadata": {
    "tags": []
   },
   "outputs": [],
   "source": []
  },
  {
   "cell_type": "code",
   "execution_count": null,
   "id": "ea71cae5-a8ea-49b3-bc40-f49833d52947",
   "metadata": {
    "tags": []
   },
   "outputs": [],
   "source": []
  },
  {
   "cell_type": "code",
   "execution_count": null,
   "id": "874e79eb-e51d-4cb7-bcba-7c8792b49625",
   "metadata": {
    "tags": []
   },
   "outputs": [],
   "source": []
  },
  {
   "cell_type": "code",
   "execution_count": null,
   "id": "df60cbea-3caf-44cc-aa53-21e1bffc503a",
   "metadata": {
    "tags": []
   },
   "outputs": [],
   "source": []
  },
  {
   "cell_type": "code",
   "execution_count": null,
   "id": "9e63bd9d-f90e-439f-8e6c-a974f8170368",
   "metadata": {
    "tags": []
   },
   "outputs": [],
   "source": []
  },
  {
   "cell_type": "code",
   "execution_count": 90,
   "id": "2cf217fd-c693-4eed-9dd9-787e0ad1a151",
   "metadata": {
    "tags": []
   },
   "outputs": [],
   "source": []
  },
  {
   "cell_type": "code",
   "execution_count": null,
   "id": "6ef27084-0ec5-4e44-b76a-6b9483a1947a",
   "metadata": {
    "tags": []
   },
   "outputs": [],
   "source": []
  },
  {
   "cell_type": "code",
   "execution_count": null,
   "id": "09a9beb9-bfec-4c2f-8df3-03f30c6aa508",
   "metadata": {
    "tags": []
   },
   "outputs": [],
   "source": []
  },
  {
   "cell_type": "code",
   "execution_count": null,
   "id": "81037c6b-55e4-46aa-a0c0-7ecf0baf9e48",
   "metadata": {},
   "outputs": [],
   "source": [
    "\n",
    "    "
   ]
  }
 ],
 "metadata": {
  "kernelspec": {
   "display_name": "Python 3 (ipykernel)",
   "language": "python",
   "name": "python3"
  },
  "language_info": {
   "codemirror_mode": {
    "name": "ipython",
    "version": 3
   },
   "file_extension": ".py",
   "mimetype": "text/x-python",
   "name": "python",
   "nbconvert_exporter": "python",
   "pygments_lexer": "ipython3",
   "version": "3.11.5"
  }
 },
 "nbformat": 4,
 "nbformat_minor": 5
}
