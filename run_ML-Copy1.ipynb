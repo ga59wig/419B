{
 "cells": [
  {
   "cell_type": "code",
   "execution_count": 1,
   "id": "97455eaa-0fa2-4464-8cbd-a02541b4a202",
   "metadata": {
    "tags": []
   },
   "outputs": [],
   "source": [
    "#import geopandas as gpd\n",
    "import numpy as np\n",
    "import pandas as pd\n",
    "#import geopandas dataframe"
   ]
  },
  {
   "cell_type": "code",
   "execution_count": 2,
   "id": "d1fe8dfc-65bb-42a4-bb79-a6475c718ac9",
   "metadata": {
    "tags": []
   },
   "outputs": [],
   "source": [
    "df = pd.read_csv('speichern2.csv')"
   ]
  },
  {
   "cell_type": "code",
   "execution_count": 3,
   "id": "6a28acc8-92bf-4b92-bd7b-51da71aca5b4",
   "metadata": {
    "tags": []
   },
   "outputs": [
    {
     "data": {
      "text/html": [
       "<div>\n",
       "<style scoped>\n",
       "    .dataframe tbody tr th:only-of-type {\n",
       "        vertical-align: middle;\n",
       "    }\n",
       "\n",
       "    .dataframe tbody tr th {\n",
       "        vertical-align: top;\n",
       "    }\n",
       "\n",
       "    .dataframe thead th {\n",
       "        text-align: right;\n",
       "    }\n",
       "</style>\n",
       "<table border=\"1\" class=\"dataframe\">\n",
       "  <thead>\n",
       "    <tr style=\"text-align: right;\">\n",
       "      <th></th>\n",
       "      <th>min_vv</th>\n",
       "      <th>max_vv</th>\n",
       "      <th>mean_vv</th>\n",
       "      <th>median_vv</th>\n",
       "      <th>std_vv</th>\n",
       "      <th>05_vv</th>\n",
       "      <th>25_vv</th>\n",
       "      <th>75_vv</th>\n",
       "      <th>95_vv</th>\n",
       "      <th>min_vh</th>\n",
       "      <th>...</th>\n",
       "      <th>max_rvi</th>\n",
       "      <th>mean_rvi</th>\n",
       "      <th>median_rvi</th>\n",
       "      <th>std_rvi</th>\n",
       "      <th>05_rvi</th>\n",
       "      <th>25_rvi</th>\n",
       "      <th>75_rvi</th>\n",
       "      <th>95_rvi</th>\n",
       "      <th>Acquisition Time</th>\n",
       "      <th>Relative Height bin98 (cm)</th>\n",
       "    </tr>\n",
       "  </thead>\n",
       "  <tbody>\n",
       "    <tr>\n",
       "      <th>0</th>\n",
       "      <td>0.029655</td>\n",
       "      <td>0.059328</td>\n",
       "      <td>0.044970</td>\n",
       "      <td>0.046899</td>\n",
       "      <td>0.009040</td>\n",
       "      <td>0.032193</td>\n",
       "      <td>0.039151</td>\n",
       "      <td>0.050303</td>\n",
       "      <td>0.056813</td>\n",
       "      <td>0.006371</td>\n",
       "      <td>...</td>\n",
       "      <td>1.231885</td>\n",
       "      <td>0.676656</td>\n",
       "      <td>0.600958</td>\n",
       "      <td>0.258302</td>\n",
       "      <td>0.422554</td>\n",
       "      <td>0.536758</td>\n",
       "      <td>0.721173</td>\n",
       "      <td>1.111751</td>\n",
       "      <td>2020-08-23 12:53:42</td>\n",
       "      <td>3 - 6 m</td>\n",
       "    </tr>\n",
       "    <tr>\n",
       "      <th>1</th>\n",
       "      <td>0.038104</td>\n",
       "      <td>0.071502</td>\n",
       "      <td>0.055315</td>\n",
       "      <td>0.054353</td>\n",
       "      <td>0.009468</td>\n",
       "      <td>0.041948</td>\n",
       "      <td>0.052576</td>\n",
       "      <td>0.059046</td>\n",
       "      <td>0.068714</td>\n",
       "      <td>0.004549</td>\n",
       "      <td>...</td>\n",
       "      <td>0.738751</td>\n",
       "      <td>0.529685</td>\n",
       "      <td>0.534081</td>\n",
       "      <td>0.157914</td>\n",
       "      <td>0.302961</td>\n",
       "      <td>0.420416</td>\n",
       "      <td>0.660765</td>\n",
       "      <td>0.725187</td>\n",
       "      <td>2020-08-23 12:53:42</td>\n",
       "      <td>&lt;3 m</td>\n",
       "    </tr>\n",
       "    <tr>\n",
       "      <th>2</th>\n",
       "      <td>0.034223</td>\n",
       "      <td>0.054973</td>\n",
       "      <td>0.047080</td>\n",
       "      <td>0.050770</td>\n",
       "      <td>0.008278</td>\n",
       "      <td>0.034575</td>\n",
       "      <td>0.040628</td>\n",
       "      <td>0.054168</td>\n",
       "      <td>0.054741</td>\n",
       "      <td>0.008356</td>\n",
       "      <td>...</td>\n",
       "      <td>1.035554</td>\n",
       "      <td>0.787898</td>\n",
       "      <td>0.786650</td>\n",
       "      <td>0.150484</td>\n",
       "      <td>0.583732</td>\n",
       "      <td>0.699420</td>\n",
       "      <td>0.879700</td>\n",
       "      <td>0.994118</td>\n",
       "      <td>2020-08-23 12:53:42</td>\n",
       "      <td>&lt;3 m</td>\n",
       "    </tr>\n",
       "    <tr>\n",
       "      <th>3</th>\n",
       "      <td>0.043288</td>\n",
       "      <td>0.090475</td>\n",
       "      <td>0.063751</td>\n",
       "      <td>0.063856</td>\n",
       "      <td>0.014111</td>\n",
       "      <td>0.045874</td>\n",
       "      <td>0.054512</td>\n",
       "      <td>0.069808</td>\n",
       "      <td>0.084659</td>\n",
       "      <td>0.009802</td>\n",
       "      <td>...</td>\n",
       "      <td>0.862085</td>\n",
       "      <td>0.679501</td>\n",
       "      <td>0.646785</td>\n",
       "      <td>0.171063</td>\n",
       "      <td>0.442673</td>\n",
       "      <td>0.564667</td>\n",
       "      <td>0.859411</td>\n",
       "      <td>0.861974</td>\n",
       "      <td>2020-08-23 12:53:42</td>\n",
       "      <td>&lt;3 m</td>\n",
       "    </tr>\n",
       "    <tr>\n",
       "      <th>4</th>\n",
       "      <td>0.023024</td>\n",
       "      <td>0.046503</td>\n",
       "      <td>0.035872</td>\n",
       "      <td>0.035242</td>\n",
       "      <td>0.006792</td>\n",
       "      <td>0.026050</td>\n",
       "      <td>0.033723</td>\n",
       "      <td>0.039445</td>\n",
       "      <td>0.045019</td>\n",
       "      <td>0.004023</td>\n",
       "      <td>...</td>\n",
       "      <td>1.139145</td>\n",
       "      <td>0.725447</td>\n",
       "      <td>0.693434</td>\n",
       "      <td>0.196822</td>\n",
       "      <td>0.535375</td>\n",
       "      <td>0.576309</td>\n",
       "      <td>0.783538</td>\n",
       "      <td>1.050500</td>\n",
       "      <td>2020-08-23 12:53:42</td>\n",
       "      <td>3 - 6 m</td>\n",
       "    </tr>\n",
       "    <tr>\n",
       "      <th>...</th>\n",
       "      <td>...</td>\n",
       "      <td>...</td>\n",
       "      <td>...</td>\n",
       "      <td>...</td>\n",
       "      <td>...</td>\n",
       "      <td>...</td>\n",
       "      <td>...</td>\n",
       "      <td>...</td>\n",
       "      <td>...</td>\n",
       "      <td>...</td>\n",
       "      <td>...</td>\n",
       "      <td>...</td>\n",
       "      <td>...</td>\n",
       "      <td>...</td>\n",
       "      <td>...</td>\n",
       "      <td>...</td>\n",
       "      <td>...</td>\n",
       "      <td>...</td>\n",
       "      <td>...</td>\n",
       "      <td>...</td>\n",
       "      <td>...</td>\n",
       "    </tr>\n",
       "    <tr>\n",
       "      <th>21224</th>\n",
       "      <td>0.054460</td>\n",
       "      <td>0.100460</td>\n",
       "      <td>0.087838</td>\n",
       "      <td>0.094188</td>\n",
       "      <td>0.015789</td>\n",
       "      <td>0.060601</td>\n",
       "      <td>0.084372</td>\n",
       "      <td>0.098506</td>\n",
       "      <td>0.100117</td>\n",
       "      <td>0.019543</td>\n",
       "      <td>...</td>\n",
       "      <td>1.299713</td>\n",
       "      <td>0.938948</td>\n",
       "      <td>0.880552</td>\n",
       "      <td>0.224253</td>\n",
       "      <td>0.678572</td>\n",
       "      <td>0.781656</td>\n",
       "      <td>1.085685</td>\n",
       "      <td>1.278407</td>\n",
       "      <td>2019-09-28 23:17:24</td>\n",
       "      <td>6 - 10 m</td>\n",
       "    </tr>\n",
       "    <tr>\n",
       "      <th>21225</th>\n",
       "      <td>0.065006</td>\n",
       "      <td>0.099293</td>\n",
       "      <td>0.085376</td>\n",
       "      <td>0.090597</td>\n",
       "      <td>0.012253</td>\n",
       "      <td>0.066753</td>\n",
       "      <td>0.076681</td>\n",
       "      <td>0.094688</td>\n",
       "      <td>0.098906</td>\n",
       "      <td>0.011059</td>\n",
       "      <td>...</td>\n",
       "      <td>1.076084</td>\n",
       "      <td>0.758615</td>\n",
       "      <td>0.809306</td>\n",
       "      <td>0.208448</td>\n",
       "      <td>0.442282</td>\n",
       "      <td>0.646127</td>\n",
       "      <td>0.865894</td>\n",
       "      <td>1.021243</td>\n",
       "      <td>2019-09-28 23:17:24</td>\n",
       "      <td>6 - 10 m</td>\n",
       "    </tr>\n",
       "    <tr>\n",
       "      <th>21226</th>\n",
       "      <td>0.081991</td>\n",
       "      <td>0.121187</td>\n",
       "      <td>0.100127</td>\n",
       "      <td>0.094899</td>\n",
       "      <td>0.014419</td>\n",
       "      <td>0.083593</td>\n",
       "      <td>0.088640</td>\n",
       "      <td>0.112766</td>\n",
       "      <td>0.120419</td>\n",
       "      <td>0.015042</td>\n",
       "      <td>...</td>\n",
       "      <td>1.009296</td>\n",
       "      <td>0.788234</td>\n",
       "      <td>0.843463</td>\n",
       "      <td>0.165804</td>\n",
       "      <td>0.578170</td>\n",
       "      <td>0.626849</td>\n",
       "      <td>0.919048</td>\n",
       "      <td>0.997524</td>\n",
       "      <td>2019-09-28 23:17:24</td>\n",
       "      <td>3 - 6 m</td>\n",
       "    </tr>\n",
       "    <tr>\n",
       "      <th>21227</th>\n",
       "      <td>0.068409</td>\n",
       "      <td>0.100264</td>\n",
       "      <td>0.084457</td>\n",
       "      <td>0.083878</td>\n",
       "      <td>0.010896</td>\n",
       "      <td>0.069835</td>\n",
       "      <td>0.075882</td>\n",
       "      <td>0.093441</td>\n",
       "      <td>0.098261</td>\n",
       "      <td>0.017673</td>\n",
       "      <td>...</td>\n",
       "      <td>1.021359</td>\n",
       "      <td>0.788931</td>\n",
       "      <td>0.716909</td>\n",
       "      <td>0.134308</td>\n",
       "      <td>0.651166</td>\n",
       "      <td>0.675925</td>\n",
       "      <td>0.891592</td>\n",
       "      <td>0.984590</td>\n",
       "      <td>2019-09-28 23:17:24</td>\n",
       "      <td>3 - 6 m</td>\n",
       "    </tr>\n",
       "    <tr>\n",
       "      <th>21228</th>\n",
       "      <td>0.069684</td>\n",
       "      <td>0.109504</td>\n",
       "      <td>0.088525</td>\n",
       "      <td>0.089265</td>\n",
       "      <td>0.014168</td>\n",
       "      <td>0.070200</td>\n",
       "      <td>0.077023</td>\n",
       "      <td>0.098589</td>\n",
       "      <td>0.108117</td>\n",
       "      <td>0.011621</td>\n",
       "      <td>...</td>\n",
       "      <td>0.871676</td>\n",
       "      <td>0.653832</td>\n",
       "      <td>0.661432</td>\n",
       "      <td>0.132030</td>\n",
       "      <td>0.477459</td>\n",
       "      <td>0.555833</td>\n",
       "      <td>0.730654</td>\n",
       "      <td>0.839123</td>\n",
       "      <td>2019-09-28 23:17:24</td>\n",
       "      <td>&lt;3 m</td>\n",
       "    </tr>\n",
       "  </tbody>\n",
       "</table>\n",
       "<p>21229 rows × 29 columns</p>\n",
       "</div>"
      ],
      "text/plain": [
       "         min_vv    max_vv   mean_vv  median_vv    std_vv     05_vv     25_vv  \\\n",
       "0      0.029655  0.059328  0.044970   0.046899  0.009040  0.032193  0.039151   \n",
       "1      0.038104  0.071502  0.055315   0.054353  0.009468  0.041948  0.052576   \n",
       "2      0.034223  0.054973  0.047080   0.050770  0.008278  0.034575  0.040628   \n",
       "3      0.043288  0.090475  0.063751   0.063856  0.014111  0.045874  0.054512   \n",
       "4      0.023024  0.046503  0.035872   0.035242  0.006792  0.026050  0.033723   \n",
       "...         ...       ...       ...        ...       ...       ...       ...   \n",
       "21224  0.054460  0.100460  0.087838   0.094188  0.015789  0.060601  0.084372   \n",
       "21225  0.065006  0.099293  0.085376   0.090597  0.012253  0.066753  0.076681   \n",
       "21226  0.081991  0.121187  0.100127   0.094899  0.014419  0.083593  0.088640   \n",
       "21227  0.068409  0.100264  0.084457   0.083878  0.010896  0.069835  0.075882   \n",
       "21228  0.069684  0.109504  0.088525   0.089265  0.014168  0.070200  0.077023   \n",
       "\n",
       "          75_vv     95_vv    min_vh  ...   max_rvi  mean_rvi  median_rvi  \\\n",
       "0      0.050303  0.056813  0.006371  ...  1.231885  0.676656    0.600958   \n",
       "1      0.059046  0.068714  0.004549  ...  0.738751  0.529685    0.534081   \n",
       "2      0.054168  0.054741  0.008356  ...  1.035554  0.787898    0.786650   \n",
       "3      0.069808  0.084659  0.009802  ...  0.862085  0.679501    0.646785   \n",
       "4      0.039445  0.045019  0.004023  ...  1.139145  0.725447    0.693434   \n",
       "...         ...       ...       ...  ...       ...       ...         ...   \n",
       "21224  0.098506  0.100117  0.019543  ...  1.299713  0.938948    0.880552   \n",
       "21225  0.094688  0.098906  0.011059  ...  1.076084  0.758615    0.809306   \n",
       "21226  0.112766  0.120419  0.015042  ...  1.009296  0.788234    0.843463   \n",
       "21227  0.093441  0.098261  0.017673  ...  1.021359  0.788931    0.716909   \n",
       "21228  0.098589  0.108117  0.011621  ...  0.871676  0.653832    0.661432   \n",
       "\n",
       "        std_rvi    05_rvi    25_rvi    75_rvi    95_rvi     Acquisition Time  \\\n",
       "0      0.258302  0.422554  0.536758  0.721173  1.111751  2020-08-23 12:53:42   \n",
       "1      0.157914  0.302961  0.420416  0.660765  0.725187  2020-08-23 12:53:42   \n",
       "2      0.150484  0.583732  0.699420  0.879700  0.994118  2020-08-23 12:53:42   \n",
       "3      0.171063  0.442673  0.564667  0.859411  0.861974  2020-08-23 12:53:42   \n",
       "4      0.196822  0.535375  0.576309  0.783538  1.050500  2020-08-23 12:53:42   \n",
       "...         ...       ...       ...       ...       ...                  ...   \n",
       "21224  0.224253  0.678572  0.781656  1.085685  1.278407  2019-09-28 23:17:24   \n",
       "21225  0.208448  0.442282  0.646127  0.865894  1.021243  2019-09-28 23:17:24   \n",
       "21226  0.165804  0.578170  0.626849  0.919048  0.997524  2019-09-28 23:17:24   \n",
       "21227  0.134308  0.651166  0.675925  0.891592  0.984590  2019-09-28 23:17:24   \n",
       "21228  0.132030  0.477459  0.555833  0.730654  0.839123  2019-09-28 23:17:24   \n",
       "\n",
       "       Relative Height bin98 (cm)  \n",
       "0                         3 - 6 m  \n",
       "1                            <3 m  \n",
       "2                            <3 m  \n",
       "3                            <3 m  \n",
       "4                         3 - 6 m  \n",
       "...                           ...  \n",
       "21224                    6 - 10 m  \n",
       "21225                    6 - 10 m  \n",
       "21226                     3 - 6 m  \n",
       "21227                     3 - 6 m  \n",
       "21228                        <3 m  \n",
       "\n",
       "[21229 rows x 29 columns]"
      ]
     },
     "execution_count": 3,
     "metadata": {},
     "output_type": "execute_result"
    }
   ],
   "source": [
    "df"
   ]
  },
  {
   "cell_type": "code",
   "execution_count": 4,
   "id": "484d9d56-5f3e-4f50-bcb2-5592bb0d13e2",
   "metadata": {
    "tags": []
   },
   "outputs": [],
   "source": [
    "#df = df[(df['Acquisition Time'] >= '2020-01-01') & (df['Acquisition Time'] <= '2020-12-31')]\n",
    "#np.unique(list(df['Acquisition Time']))"
   ]
  },
  {
   "cell_type": "code",
   "execution_count": 5,
   "id": "c9562b6e-9836-4390-af4a-917a3e0e3a01",
   "metadata": {
    "tags": []
   },
   "outputs": [
    {
     "data": {
      "text/plain": [
       "Relative Height bin98 (cm)\n",
       "3 - 6 m     10177\n",
       "<3 m         9163\n",
       "6 - 10 m     1534\n",
       "> 10 m        355\n",
       "Name: count, dtype: int64"
      ]
     },
     "execution_count": 5,
     "metadata": {},
     "output_type": "execute_result"
    }
   ],
   "source": [
    "df = df.dropna()\n",
    "df['Relative Height bin98 (cm)'].value_counts()"
   ]
  },
  {
   "cell_type": "code",
   "execution_count": 6,
   "id": "d282f92b-888d-4d6b-8b41-8b046a1f9097",
   "metadata": {
    "tags": []
   },
   "outputs": [],
   "source": [
    "#for classification_report\n",
    "#for confusion_matrix\n",
    "#for accuracy_score\n",
    "from sklearn import metrics as metrics\n",
    "\n",
    "# for train_test_split\n",
    "from sklearn import model_selection as model_selection\n",
    "\n",
    "# For the classifier\n",
    "from sklearn import ensemble as ensemble \n",
    "# for RandomForestClassifier"
   ]
  },
  {
   "cell_type": "code",
   "execution_count": 7,
   "id": "1656bbac-62c4-4eda-bd6d-f4f3ec358229",
   "metadata": {
    "tags": []
   },
   "outputs": [],
   "source": [
    "#cols = df.iloc[:,:-2]\n",
    "#cols"
   ]
  },
  {
   "cell_type": "code",
   "execution_count": 8,
   "id": "a8633fb0-88ab-459a-8e26-a8c4d4dacb46",
   "metadata": {
    "tags": []
   },
   "outputs": [
    {
     "data": {
      "text/plain": [
       "'\\ndef loop_ada (cols):\\n    x = gdf[cols].values\\n    y = gdf[\"Relative Height bin98 (cm)\"]\\n    x_train, x_test, y_train, y_test = model_selection.train_test_split(x,y, test_size=0.2, random_state=1569)\\n    adaBoost_model = ensemble.AdaBoostClassifier(n_estimators=100, learning_rate=0.1)\\n    adaBoost_model.fit(x_train, y_train)\\n    adaBoost_prediction = adaBoost_model.predict(x_test)\\n    adaBoost_accuracy = metrics.accuracy_score(adaBoost_prediction, y_test)\\n    adaBoost_confusion_matrix = metrics.confusion_matrix(adaBoost_prediction, y_test)\\n    adaBoost_classification_report = metrics.classification_report(adaBoost_prediction, y_test)\\n    print(\"Accuracy:\", adaBoost_accuracy)\\n'"
      ]
     },
     "execution_count": 8,
     "metadata": {},
     "output_type": "execute_result"
    }
   ],
   "source": [
    "'''\n",
    "def loop_ada (cols):\n",
    "    x = gdf[cols].values\n",
    "    y = gdf[\"Relative Height bin98 (cm)\"]\n",
    "    x_train, x_test, y_train, y_test = model_selection.train_test_split(x,y, test_size=0.2, random_state=1569)\n",
    "    adaBoost_model = ensemble.AdaBoostClassifier(n_estimators=100, learning_rate=0.1)\n",
    "    adaBoost_model.fit(x_train, y_train)\n",
    "    adaBoost_prediction = adaBoost_model.predict(x_test)\n",
    "    adaBoost_accuracy = metrics.accuracy_score(adaBoost_prediction, y_test)\n",
    "    adaBoost_confusion_matrix = metrics.confusion_matrix(adaBoost_prediction, y_test)\n",
    "    adaBoost_classification_report = metrics.classification_report(adaBoost_prediction, y_test)\n",
    "    print(\"Accuracy:\", adaBoost_accuracy)\n",
    "'''"
   ]
  },
  {
   "cell_type": "code",
   "execution_count": 9,
   "id": "6f444d08-ede2-4ab9-af99-34a9aeca23d5",
   "metadata": {
    "tags": []
   },
   "outputs": [],
   "source": [
    "#from sklearn import preprocessing\n",
    "#label_encoder = preprocessing.LabelEncoder()\n",
    "#gdf[\"Relative Height bin98 (cm)\"] = label_encoder.fit_transform(gdf[\"Relative Height bin98 (cm)\"])\n",
    "#gdf[\"Relative Height bin98 (cm)\"].unique()"
   ]
  },
  {
   "cell_type": "code",
   "execution_count": 52,
   "id": "bc1e03cc-7317-4263-a929-adcdc37819aa",
   "metadata": {
    "tags": []
   },
   "outputs": [
    {
     "name": "stdout",
     "output_type": "stream",
     "text": [
      "         std_vv    std_vh   std_rvi\n",
      "0      0.009040  0.002239  0.258302\n",
      "1      0.009468  0.002702  0.157914\n",
      "2      0.008278  0.002091  0.150484\n",
      "3      0.014111  0.004011  0.171063\n",
      "4      0.006792  0.003197  0.196822\n",
      "...         ...       ...       ...\n",
      "21224  0.015789  0.005286  0.224253\n",
      "21225  0.012253  0.005395  0.208448\n",
      "21226  0.014419  0.004877  0.165804\n",
      "21227  0.010896  0.002168  0.134308\n",
      "21228  0.014168  0.005666  0.132030\n",
      "\n",
      "[21229 rows x 3 columns]\n",
      "0         3 - 6 m\n",
      "1            <3 m\n",
      "2            <3 m\n",
      "3            <3 m\n",
      "4         3 - 6 m\n",
      "           ...   \n",
      "21224    6 - 10 m\n",
      "21225    6 - 10 m\n",
      "21226     3 - 6 m\n",
      "21227     3 - 6 m\n",
      "21228        <3 m\n",
      "Name: Relative Height bin98 (cm), Length: 21229, dtype: object\n"
     ]
    }
   ],
   "source": [
    "#x = gdf.iloc[:,4:-1].values\n",
    "#x = df.iloc[:,:-2] #all features 0.58 alle Jahre split 0.2, 300, learning rate 1\n",
    "#x = df.iloc[:,-11:-2].values\n",
    "#x = df[['mean_vv','mean_vh','mean_rvi']] #acc. 0.57, split 0.2, 300, learning rate 1; alle Jahre: 0.587, rate 0.1, split 0.3: acc 0.60 aber klasse >10 raus; rate 10:\n",
    "#x = df[['median_vv','median_vh','median_rvi']] #acc. 0.56 split 0.2, 300, learning rate 1\n",
    "#x = df[['min_rvi','median_rvi','mean_rvi', '05_rvi', '25_rvi','75_rvi', '95_rvi']] #0.51\n",
    "x = df[['min_rvi','max_rvi','min_vv', 'max_vv', 'min_vh','max_vh']] #0.59\n",
    "#x = df[['std_vv', 'std_vh', 'std_rvi']]\n",
    "\n",
    "# + scalar; 0.3, stratify, 300, rate 1:\n",
    "#x = df.iloc[:,:-2] #0.57, SMOTE: 0.46\n",
    "#x = df[['mean_vv','mean_vh','mean_rvi']] 0.59, ohne stratify + oversampling 0.48, Smote 0.47\n",
    "y = df[\"Relative Height bin98 (cm)\"]\n",
    "\n",
    "\n",
    "'''\n",
    "from sklearn.preprocessing import RobustScaler\n",
    "from sklearn.preprocessing import KBinsDiscretizer\n",
    "rbX = RobustScaler()\n",
    "x = rbX.fit_transform(x)\n",
    "\n",
    "rbY = RobustScaler()\n",
    "y = y.values.reshape(-1, 1)\n",
    "#y = rbY.fit_transform(y)\n",
    "\n",
    "n_bins = 4\n",
    "# Initialize the discretizer\n",
    "kbd = KBinsDiscretizer(n_bins=n_bins, encode='ordinal', strategy='quantile')\n",
    "\n",
    "# Fit and transform 'y' into discrete bins\n",
    "y = kbd.fit_transform(y)\n",
    "'''\n",
    "print(x)\n",
    "print(y)"
   ]
  },
  {
   "cell_type": "code",
   "execution_count": null,
   "id": "7d3756ea-9598-4bcd-8a9a-1a274573b267",
   "metadata": {
    "tags": []
   },
   "outputs": [],
   "source": []
  },
  {
   "cell_type": "markdown",
   "id": "1cc71fbf-3d48-490c-a227-9458e31982ad",
   "metadata": {},
   "source": [
    "## Training and Test Samples"
   ]
  },
  {
   "cell_type": "code",
   "execution_count": 53,
   "id": "dd3f4a95-5e63-44a9-bfb8-b7399d8ba5f1",
   "metadata": {
    "tags": []
   },
   "outputs": [],
   "source": [
    "x_train, x_test, y_train, y_test = model_selection.train_test_split(x,y, test_size=0.3, random_state=0, stratify=y)\n",
    "#x_train, x_test, y_train, y_test = model_selection.train_test_split(x,y, test_size=0.3, random_state=0)"
   ]
  },
  {
   "cell_type": "code",
   "execution_count": 54,
   "id": "ca3097ed-c461-41a5-8c5d-228b3b00a60a",
   "metadata": {
    "tags": []
   },
   "outputs": [
    {
     "name": "stdout",
     "output_type": "stream",
     "text": [
      "14860 6369 14860 6369\n"
     ]
    }
   ],
   "source": [
    "print(len(x_train), len(x_test), len(y_train), len(y_test))"
   ]
  },
  {
   "cell_type": "code",
   "execution_count": 55,
   "id": "9eacbdc5-e086-424d-9578-3d4691f769a3",
   "metadata": {
    "tags": []
   },
   "outputs": [],
   "source": [
    "# Versuch 1 Ungleichgewicht ausgleichen\n",
    "#from imblearn.over_sampling import RandomOverSampler\n",
    "#sampler = RandomOverSampler(sampling_strategy='not majority')\n",
    "#x_resampled, y_resampled = sampler.fit_resample(x_train, y_train)\n",
    "\n",
    "#Versuch 2 SMOTE\n",
    "#from imblearn.over_sampling import SMOTE\n",
    "#smote = SMOTE(sampling_strategy='auto')\n",
    "#x_resampled, y_resampled = smote.fit_resample(x_train, y_train)\n"
   ]
  },
  {
   "cell_type": "code",
   "execution_count": 56,
   "id": "befe7d7e-f5ca-4ced-a887-af42aaa3fd1c",
   "metadata": {
    "tags": []
   },
   "outputs": [],
   "source": [
    "# Versuch mit Standard Scalar\n",
    "from sklearn.preprocessing import StandardScaler\n",
    "scaler = StandardScaler()\n",
    "\n",
    "# Anpassen des Scalers an die Trainingsdaten und Transformation von Trainingsdaten\n",
    "x_train_scaled = scaler.fit_transform(x_train)\n",
    "\n",
    "# oversampling:\n",
    "#x_train_scaled = scaler.fit_transform(x_resampled)\n",
    "\n",
    "# Transformation der Testdaten mit dem bereits angepassten Scaler\n",
    "x_test_scaled = scaler.transform(x_test)"
   ]
  },
  {
   "cell_type": "markdown",
   "id": "6b28e96f-8d4c-4a4d-b3c7-804d7786121e",
   "metadata": {},
   "source": [
    "## Instantiation of the Model"
   ]
  },
  {
   "cell_type": "code",
   "execution_count": 57,
   "id": "547ed8cf-d99c-4b4e-a1d6-0aa1d2e0ca20",
   "metadata": {
    "tags": []
   },
   "outputs": [],
   "source": [
    "#maybe add arguments\n",
    "adaBoost_model = ensemble.AdaBoostClassifier(n_estimators=300, learning_rate=1)"
   ]
  },
  {
   "cell_type": "markdown",
   "id": "f1b0f8ce-0202-4a66-915e-4d430dacca0a",
   "metadata": {},
   "source": [
    "## Fitting of the Classifiers"
   ]
  },
  {
   "cell_type": "code",
   "execution_count": null,
   "id": "3141f1f5-fa35-4c25-851b-2ce2d0ae195b",
   "metadata": {
    "tags": []
   },
   "outputs": [],
   "source": [
    "\n"
   ]
  },
  {
   "cell_type": "code",
   "execution_count": 58,
   "id": "1c41b6e9-1e3b-4ec6-a87c-94fff455bc82",
   "metadata": {
    "tags": []
   },
   "outputs": [
    {
     "data": {
      "text/html": [
       "<style>#sk-container-id-4 {color: black;}#sk-container-id-4 pre{padding: 0;}#sk-container-id-4 div.sk-toggleable {background-color: white;}#sk-container-id-4 label.sk-toggleable__label {cursor: pointer;display: block;width: 100%;margin-bottom: 0;padding: 0.3em;box-sizing: border-box;text-align: center;}#sk-container-id-4 label.sk-toggleable__label-arrow:before {content: \"▸\";float: left;margin-right: 0.25em;color: #696969;}#sk-container-id-4 label.sk-toggleable__label-arrow:hover:before {color: black;}#sk-container-id-4 div.sk-estimator:hover label.sk-toggleable__label-arrow:before {color: black;}#sk-container-id-4 div.sk-toggleable__content {max-height: 0;max-width: 0;overflow: hidden;text-align: left;background-color: #f0f8ff;}#sk-container-id-4 div.sk-toggleable__content pre {margin: 0.2em;color: black;border-radius: 0.25em;background-color: #f0f8ff;}#sk-container-id-4 input.sk-toggleable__control:checked~div.sk-toggleable__content {max-height: 200px;max-width: 100%;overflow: auto;}#sk-container-id-4 input.sk-toggleable__control:checked~label.sk-toggleable__label-arrow:before {content: \"▾\";}#sk-container-id-4 div.sk-estimator input.sk-toggleable__control:checked~label.sk-toggleable__label {background-color: #d4ebff;}#sk-container-id-4 div.sk-label input.sk-toggleable__control:checked~label.sk-toggleable__label {background-color: #d4ebff;}#sk-container-id-4 input.sk-hidden--visually {border: 0;clip: rect(1px 1px 1px 1px);clip: rect(1px, 1px, 1px, 1px);height: 1px;margin: -1px;overflow: hidden;padding: 0;position: absolute;width: 1px;}#sk-container-id-4 div.sk-estimator {font-family: monospace;background-color: #f0f8ff;border: 1px dotted black;border-radius: 0.25em;box-sizing: border-box;margin-bottom: 0.5em;}#sk-container-id-4 div.sk-estimator:hover {background-color: #d4ebff;}#sk-container-id-4 div.sk-parallel-item::after {content: \"\";width: 100%;border-bottom: 1px solid gray;flex-grow: 1;}#sk-container-id-4 div.sk-label:hover label.sk-toggleable__label {background-color: #d4ebff;}#sk-container-id-4 div.sk-serial::before {content: \"\";position: absolute;border-left: 1px solid gray;box-sizing: border-box;top: 0;bottom: 0;left: 50%;z-index: 0;}#sk-container-id-4 div.sk-serial {display: flex;flex-direction: column;align-items: center;background-color: white;padding-right: 0.2em;padding-left: 0.2em;position: relative;}#sk-container-id-4 div.sk-item {position: relative;z-index: 1;}#sk-container-id-4 div.sk-parallel {display: flex;align-items: stretch;justify-content: center;background-color: white;position: relative;}#sk-container-id-4 div.sk-item::before, #sk-container-id-4 div.sk-parallel-item::before {content: \"\";position: absolute;border-left: 1px solid gray;box-sizing: border-box;top: 0;bottom: 0;left: 50%;z-index: -1;}#sk-container-id-4 div.sk-parallel-item {display: flex;flex-direction: column;z-index: 1;position: relative;background-color: white;}#sk-container-id-4 div.sk-parallel-item:first-child::after {align-self: flex-end;width: 50%;}#sk-container-id-4 div.sk-parallel-item:last-child::after {align-self: flex-start;width: 50%;}#sk-container-id-4 div.sk-parallel-item:only-child::after {width: 0;}#sk-container-id-4 div.sk-dashed-wrapped {border: 1px dashed gray;margin: 0 0.4em 0.5em 0.4em;box-sizing: border-box;padding-bottom: 0.4em;background-color: white;}#sk-container-id-4 div.sk-label label {font-family: monospace;font-weight: bold;display: inline-block;line-height: 1.2em;}#sk-container-id-4 div.sk-label-container {text-align: center;}#sk-container-id-4 div.sk-container {/* jupyter's `normalize.less` sets `[hidden] { display: none; }` but bootstrap.min.css set `[hidden] { display: none !important; }` so we also need the `!important` here to be able to override the default hidden behavior on the sphinx rendered scikit-learn.org. See: https://github.com/scikit-learn/scikit-learn/issues/21755 */display: inline-block !important;position: relative;}#sk-container-id-4 div.sk-text-repr-fallback {display: none;}</style><div id=\"sk-container-id-4\" class=\"sk-top-container\"><div class=\"sk-text-repr-fallback\"><pre>AdaBoostClassifier(learning_rate=1, n_estimators=300)</pre><b>In a Jupyter environment, please rerun this cell to show the HTML representation or trust the notebook. <br />On GitHub, the HTML representation is unable to render, please try loading this page with nbviewer.org.</b></div><div class=\"sk-container\" hidden><div class=\"sk-item\"><div class=\"sk-estimator sk-toggleable\"><input class=\"sk-toggleable__control sk-hidden--visually\" id=\"sk-estimator-id-4\" type=\"checkbox\" checked><label for=\"sk-estimator-id-4\" class=\"sk-toggleable__label sk-toggleable__label-arrow\">AdaBoostClassifier</label><div class=\"sk-toggleable__content\"><pre>AdaBoostClassifier(learning_rate=1, n_estimators=300)</pre></div></div></div></div></div>"
      ],
      "text/plain": [
       "AdaBoostClassifier(learning_rate=1, n_estimators=300)"
      ]
     },
     "execution_count": 58,
     "metadata": {},
     "output_type": "execute_result"
    }
   ],
   "source": [
    "#adaBoost_model.fit(x_train, y_train)\n",
    "adaBoost_model.fit(x_train_scaled, y_train)\n",
    "\n",
    "#Oversampling\n",
    "#adaBoost_model.fit(x_train_scaled, y_resampled)"
   ]
  },
  {
   "cell_type": "code",
   "execution_count": 59,
   "id": "08e16c15-4b66-41ba-bd6f-f288c1e910f0",
   "metadata": {
    "tags": []
   },
   "outputs": [],
   "source": [
    "#adaBoost_prediction = adaBoost_model.predict(x_test)\n",
    "adaBoost_prediction = adaBoost_model.predict(x_test_scaled)"
   ]
  },
  {
   "cell_type": "markdown",
   "id": "f25737bb-2016-4321-a8ab-fe896f686197",
   "metadata": {},
   "source": [
    "## Prediction of the Classifiers"
   ]
  },
  {
   "cell_type": "code",
   "execution_count": null,
   "id": "09d86a7f-d305-43ed-b243-746dd1e73e35",
   "metadata": {
    "tags": []
   },
   "outputs": [],
   "source": []
  },
  {
   "cell_type": "code",
   "execution_count": 60,
   "id": "8030dcff-eea6-479f-bba8-cae87ddad5a5",
   "metadata": {
    "tags": []
   },
   "outputs": [
    {
     "data": {
      "text/plain": [
       "'\\n#adaBoost_prediction = adaBoost_model.predict(x_test)\\nrbY.fit(y_train)  # Fit the scaler on training data\\nadaBoost_prediction = rbY.inverse_transform(adaBoost_prediction.reshape(1, -1))\\n'"
      ]
     },
     "execution_count": 60,
     "metadata": {},
     "output_type": "execute_result"
    }
   ],
   "source": [
    "'''\n",
    "#adaBoost_prediction = adaBoost_model.predict(x_test)\n",
    "rbY.fit(y_train)  # Fit the scaler on training data\n",
    "adaBoost_prediction = rbY.inverse_transform(adaBoost_prediction.reshape(1, -1))\n",
    "'''"
   ]
  },
  {
   "cell_type": "code",
   "execution_count": 61,
   "id": "0cddf8b9-e6b9-4eed-8228-84b8888454d6",
   "metadata": {
    "tags": []
   },
   "outputs": [
    {
     "data": {
      "text/plain": [
       "(array(['3 - 6 m', '6 - 10 m', '<3 m', '> 10 m'], dtype=object),\n",
       " array([4077,    8, 2282,    2]))"
      ]
     },
     "execution_count": 61,
     "metadata": {},
     "output_type": "execute_result"
    }
   ],
   "source": [
    "np.unique(adaBoost_prediction, return_counts=True)"
   ]
  },
  {
   "cell_type": "code",
   "execution_count": 62,
   "id": "a5cf6c7e-5620-4664-83a0-4baccd58ae9a",
   "metadata": {
    "tags": []
   },
   "outputs": [],
   "source": [
    "#adaBoost_prediction"
   ]
  },
  {
   "cell_type": "code",
   "execution_count": 63,
   "id": "4b99ed14-3cdf-4db7-9eb2-2e5210fa2bdc",
   "metadata": {
    "tags": []
   },
   "outputs": [
    {
     "data": {
      "text/plain": [
       "(array(['3 - 6 m', '6 - 10 m', '<3 m', '> 10 m'], dtype=object),\n",
       " array([3053,  460, 2749,  107]))"
      ]
     },
     "execution_count": 63,
     "metadata": {},
     "output_type": "execute_result"
    }
   ],
   "source": [
    "np.unique(y_test, return_counts=True)"
   ]
  },
  {
   "cell_type": "markdown",
   "id": "6084be46-268f-40c3-a178-7861e99fffb7",
   "metadata": {},
   "source": [
    "## Accuracy"
   ]
  },
  {
   "cell_type": "code",
   "execution_count": 64,
   "id": "c61e3bee-8ed4-4f09-9b49-249c46db6b59",
   "metadata": {
    "tags": []
   },
   "outputs": [],
   "source": [
    "adaBoost_accuracy = metrics.accuracy_score(adaBoost_prediction, y_test)\n",
    "adaBoost_confusion_matrix = metrics.confusion_matrix(adaBoost_prediction, y_test)\n",
    "adaBoost_classification_report = metrics.classification_report(adaBoost_prediction, y_test)"
   ]
  },
  {
   "cell_type": "code",
   "execution_count": 65,
   "id": "8fd571bc-940b-461b-81f1-8f5ca39272e7",
   "metadata": {
    "tags": []
   },
   "outputs": [
    {
     "name": "stdout",
     "output_type": "stream",
     "text": [
      "Accuracy: 0.568535091851154\n",
      "[[2224  407 1352   94]\n",
      " [   5    2    1    0]\n",
      " [ 823   51 1395   13]\n",
      " [   1    0    1    0]]\n",
      "              precision    recall  f1-score   support\n",
      "\n",
      "     3 - 6 m       0.73      0.55      0.62      4077\n",
      "    6 - 10 m       0.00      0.25      0.01         8\n",
      "        <3 m       0.51      0.61      0.55      2282\n",
      "      > 10 m       0.00      0.00      0.00         2\n",
      "\n",
      "    accuracy                           0.57      6369\n",
      "   macro avg       0.31      0.35      0.30      6369\n",
      "weighted avg       0.65      0.57      0.60      6369\n",
      "\n"
     ]
    }
   ],
   "source": [
    "print(\"Accuracy:\", adaBoost_accuracy)\n",
    "print(adaBoost_confusion_matrix)\n",
    "print(adaBoost_classification_report)"
   ]
  },
  {
   "cell_type": "code",
   "execution_count": null,
   "id": "700a57df-8e76-420e-b144-6623be2112ce",
   "metadata": {},
   "outputs": [],
   "source": []
  },
  {
   "cell_type": "code",
   "execution_count": null,
   "id": "2ac96b6f-a4cb-4588-8805-03dae28f80a6",
   "metadata": {
    "tags": []
   },
   "outputs": [],
   "source": []
  },
  {
   "cell_type": "code",
   "execution_count": null,
   "id": "e0ee253a-2a93-4654-a28d-3830935a3c95",
   "metadata": {
    "tags": []
   },
   "outputs": [],
   "source": []
  },
  {
   "cell_type": "code",
   "execution_count": null,
   "id": "8b14f062-eb20-4b3a-bed4-4d888356f9e0",
   "metadata": {
    "tags": []
   },
   "outputs": [],
   "source": []
  },
  {
   "cell_type": "code",
   "execution_count": null,
   "id": "9fcbc88a-d9ef-48fd-9ed9-31c02d2f0dc5",
   "metadata": {
    "tags": []
   },
   "outputs": [],
   "source": []
  }
 ],
 "metadata": {
  "kernelspec": {
   "display_name": "Python 3 (ipykernel)",
   "language": "python",
   "name": "python3"
  },
  "language_info": {
   "codemirror_mode": {
    "name": "ipython",
    "version": 3
   },
   "file_extension": ".py",
   "mimetype": "text/x-python",
   "name": "python",
   "nbconvert_exporter": "python",
   "pygments_lexer": "ipython3",
   "version": "3.11.5"
  }
 },
 "nbformat": 4,
 "nbformat_minor": 5
}
